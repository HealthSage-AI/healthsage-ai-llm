{
 "nbformat": 4,
 "nbformat_minor": 0,
 "metadata": {
  "colab": {
   "provenance": [],
   "gpuType": "T4"
  },
  "kernelspec": {
   "name": "python3",
   "display_name": "Python 3"
  },
  "language_info": {
   "name": "python"
  },
  "accelerator": "GPU",
  "widgets": {
   "application/vnd.jupyter.widget-state+json": {
    "1f5de85b721a4be7a8c09a496312dffe": {
     "model_module": "@jupyter-widgets/controls",
     "model_name": "HBoxModel",
     "model_module_version": "1.5.0",
     "state": {
      "_dom_classes": [],
      "_model_module": "@jupyter-widgets/controls",
      "_model_module_version": "1.5.0",
      "_model_name": "HBoxModel",
      "_view_count": null,
      "_view_module": "@jupyter-widgets/controls",
      "_view_module_version": "1.5.0",
      "_view_name": "HBoxView",
      "box_style": "",
      "children": [
       "IPY_MODEL_833f0d9765b847689d42c31f4d57bd92",
       "IPY_MODEL_73f5931d238941a5a56e320e1f527386",
       "IPY_MODEL_4c24d3e6330f4f5f8d890844d5bb0164"
      ],
      "layout": "IPY_MODEL_bc22725a10af462f86a02013354bf42d"
     }
    },
    "833f0d9765b847689d42c31f4d57bd92": {
     "model_module": "@jupyter-widgets/controls",
     "model_name": "HTMLModel",
     "model_module_version": "1.5.0",
     "state": {
      "_dom_classes": [],
      "_model_module": "@jupyter-widgets/controls",
      "_model_module_version": "1.5.0",
      "_model_name": "HTMLModel",
      "_view_count": null,
      "_view_module": "@jupyter-widgets/controls",
      "_view_module_version": "1.5.0",
      "_view_name": "HTMLView",
      "description": "",
      "description_tooltip": null,
      "layout": "IPY_MODEL_ab4bae115bd345ef9e92a9d6e5ad4632",
      "placeholder": "​",
      "style": "IPY_MODEL_847ff62dde7341ee91d0ae91ea3a086b",
      "value": "Loading checkpoint shards: 100%"
     }
    },
    "73f5931d238941a5a56e320e1f527386": {
     "model_module": "@jupyter-widgets/controls",
     "model_name": "FloatProgressModel",
     "model_module_version": "1.5.0",
     "state": {
      "_dom_classes": [],
      "_model_module": "@jupyter-widgets/controls",
      "_model_module_version": "1.5.0",
      "_model_name": "FloatProgressModel",
      "_view_count": null,
      "_view_module": "@jupyter-widgets/controls",
      "_view_module_version": "1.5.0",
      "_view_name": "ProgressView",
      "bar_style": "success",
      "description": "",
      "description_tooltip": null,
      "layout": "IPY_MODEL_1683986eafc94149b1d2eae566a4a79c",
      "max": 3,
      "min": 0,
      "orientation": "horizontal",
      "style": "IPY_MODEL_f7f62f778eae4426bc5ec106df681cf1",
      "value": 3
     }
    },
    "4c24d3e6330f4f5f8d890844d5bb0164": {
     "model_module": "@jupyter-widgets/controls",
     "model_name": "HTMLModel",
     "model_module_version": "1.5.0",
     "state": {
      "_dom_classes": [],
      "_model_module": "@jupyter-widgets/controls",
      "_model_module_version": "1.5.0",
      "_model_name": "HTMLModel",
      "_view_count": null,
      "_view_module": "@jupyter-widgets/controls",
      "_view_module_version": "1.5.0",
      "_view_name": "HTMLView",
      "description": "",
      "description_tooltip": null,
      "layout": "IPY_MODEL_ff3769b29f4e4bec99e726490c8340f7",
      "placeholder": "​",
      "style": "IPY_MODEL_1828fccad6004b978c585ebf44031f57",
      "value": " 3/3 [02:18&lt;00:00, 42.89s/it]"
     }
    },
    "bc22725a10af462f86a02013354bf42d": {
     "model_module": "@jupyter-widgets/base",
     "model_name": "LayoutModel",
     "model_module_version": "1.2.0",
     "state": {
      "_model_module": "@jupyter-widgets/base",
      "_model_module_version": "1.2.0",
      "_model_name": "LayoutModel",
      "_view_count": null,
      "_view_module": "@jupyter-widgets/base",
      "_view_module_version": "1.2.0",
      "_view_name": "LayoutView",
      "align_content": null,
      "align_items": null,
      "align_self": null,
      "border": null,
      "bottom": null,
      "display": null,
      "flex": null,
      "flex_flow": null,
      "grid_area": null,
      "grid_auto_columns": null,
      "grid_auto_flow": null,
      "grid_auto_rows": null,
      "grid_column": null,
      "grid_gap": null,
      "grid_row": null,
      "grid_template_areas": null,
      "grid_template_columns": null,
      "grid_template_rows": null,
      "height": null,
      "justify_content": null,
      "justify_items": null,
      "left": null,
      "margin": null,
      "max_height": null,
      "max_width": null,
      "min_height": null,
      "min_width": null,
      "object_fit": null,
      "object_position": null,
      "order": null,
      "overflow": null,
      "overflow_x": null,
      "overflow_y": null,
      "padding": null,
      "right": null,
      "top": null,
      "visibility": null,
      "width": null
     }
    },
    "ab4bae115bd345ef9e92a9d6e5ad4632": {
     "model_module": "@jupyter-widgets/base",
     "model_name": "LayoutModel",
     "model_module_version": "1.2.0",
     "state": {
      "_model_module": "@jupyter-widgets/base",
      "_model_module_version": "1.2.0",
      "_model_name": "LayoutModel",
      "_view_count": null,
      "_view_module": "@jupyter-widgets/base",
      "_view_module_version": "1.2.0",
      "_view_name": "LayoutView",
      "align_content": null,
      "align_items": null,
      "align_self": null,
      "border": null,
      "bottom": null,
      "display": null,
      "flex": null,
      "flex_flow": null,
      "grid_area": null,
      "grid_auto_columns": null,
      "grid_auto_flow": null,
      "grid_auto_rows": null,
      "grid_column": null,
      "grid_gap": null,
      "grid_row": null,
      "grid_template_areas": null,
      "grid_template_columns": null,
      "grid_template_rows": null,
      "height": null,
      "justify_content": null,
      "justify_items": null,
      "left": null,
      "margin": null,
      "max_height": null,
      "max_width": null,
      "min_height": null,
      "min_width": null,
      "object_fit": null,
      "object_position": null,
      "order": null,
      "overflow": null,
      "overflow_x": null,
      "overflow_y": null,
      "padding": null,
      "right": null,
      "top": null,
      "visibility": null,
      "width": null
     }
    },
    "847ff62dde7341ee91d0ae91ea3a086b": {
     "model_module": "@jupyter-widgets/controls",
     "model_name": "DescriptionStyleModel",
     "model_module_version": "1.5.0",
     "state": {
      "_model_module": "@jupyter-widgets/controls",
      "_model_module_version": "1.5.0",
      "_model_name": "DescriptionStyleModel",
      "_view_count": null,
      "_view_module": "@jupyter-widgets/base",
      "_view_module_version": "1.2.0",
      "_view_name": "StyleView",
      "description_width": ""
     }
    },
    "1683986eafc94149b1d2eae566a4a79c": {
     "model_module": "@jupyter-widgets/base",
     "model_name": "LayoutModel",
     "model_module_version": "1.2.0",
     "state": {
      "_model_module": "@jupyter-widgets/base",
      "_model_module_version": "1.2.0",
      "_model_name": "LayoutModel",
      "_view_count": null,
      "_view_module": "@jupyter-widgets/base",
      "_view_module_version": "1.2.0",
      "_view_name": "LayoutView",
      "align_content": null,
      "align_items": null,
      "align_self": null,
      "border": null,
      "bottom": null,
      "display": null,
      "flex": null,
      "flex_flow": null,
      "grid_area": null,
      "grid_auto_columns": null,
      "grid_auto_flow": null,
      "grid_auto_rows": null,
      "grid_column": null,
      "grid_gap": null,
      "grid_row": null,
      "grid_template_areas": null,
      "grid_template_columns": null,
      "grid_template_rows": null,
      "height": null,
      "justify_content": null,
      "justify_items": null,
      "left": null,
      "margin": null,
      "max_height": null,
      "max_width": null,
      "min_height": null,
      "min_width": null,
      "object_fit": null,
      "object_position": null,
      "order": null,
      "overflow": null,
      "overflow_x": null,
      "overflow_y": null,
      "padding": null,
      "right": null,
      "top": null,
      "visibility": null,
      "width": null
     }
    },
    "f7f62f778eae4426bc5ec106df681cf1": {
     "model_module": "@jupyter-widgets/controls",
     "model_name": "ProgressStyleModel",
     "model_module_version": "1.5.0",
     "state": {
      "_model_module": "@jupyter-widgets/controls",
      "_model_module_version": "1.5.0",
      "_model_name": "ProgressStyleModel",
      "_view_count": null,
      "_view_module": "@jupyter-widgets/base",
      "_view_module_version": "1.2.0",
      "_view_name": "StyleView",
      "bar_color": null,
      "description_width": ""
     }
    },
    "ff3769b29f4e4bec99e726490c8340f7": {
     "model_module": "@jupyter-widgets/base",
     "model_name": "LayoutModel",
     "model_module_version": "1.2.0",
     "state": {
      "_model_module": "@jupyter-widgets/base",
      "_model_module_version": "1.2.0",
      "_model_name": "LayoutModel",
      "_view_count": null,
      "_view_module": "@jupyter-widgets/base",
      "_view_module_version": "1.2.0",
      "_view_name": "LayoutView",
      "align_content": null,
      "align_items": null,
      "align_self": null,
      "border": null,
      "bottom": null,
      "display": null,
      "flex": null,
      "flex_flow": null,
      "grid_area": null,
      "grid_auto_columns": null,
      "grid_auto_flow": null,
      "grid_auto_rows": null,
      "grid_column": null,
      "grid_gap": null,
      "grid_row": null,
      "grid_template_areas": null,
      "grid_template_columns": null,
      "grid_template_rows": null,
      "height": null,
      "justify_content": null,
      "justify_items": null,
      "left": null,
      "margin": null,
      "max_height": null,
      "max_width": null,
      "min_height": null,
      "min_width": null,
      "object_fit": null,
      "object_position": null,
      "order": null,
      "overflow": null,
      "overflow_x": null,
      "overflow_y": null,
      "padding": null,
      "right": null,
      "top": null,
      "visibility": null,
      "width": null
     }
    },
    "1828fccad6004b978c585ebf44031f57": {
     "model_module": "@jupyter-widgets/controls",
     "model_name": "DescriptionStyleModel",
     "model_module_version": "1.5.0",
     "state": {
      "_model_module": "@jupyter-widgets/controls",
      "_model_module_version": "1.5.0",
      "_model_name": "DescriptionStyleModel",
      "_view_count": null,
      "_view_module": "@jupyter-widgets/base",
      "_view_module_version": "1.2.0",
      "_view_name": "StyleView",
      "description_width": ""
     }
    }
   }
  }
 },
 "cells": [
  {
   "cell_type": "markdown",
   "source": [
    "# Note-to-FHIR\n",
    "In Healthcare, an enormous amount of information is captured in clinical notes. Structuring this information for scientific research, administration and business intelligence in these notes is a labour-intensive task.\n",
    "\n",
    "With the introduction of powerfull LLM's, we can automate this work.\n",
    "HealthSage AI has fine-tuned an open source LLM adapter that understands how to convert natural language to FHIR R4. We now support the 10 most-used resource types and we are expanding our scope.\n",
    "\n",
    "This notebook gives you a walkthrough on how to use HealthSage's Open Beta Note-to-FHIR LLM."
   ],
   "metadata": {
    "id": "N5SP1vzNqVcz"
   }
  },
  {
   "cell_type": "markdown",
   "source": [
    "# Performance and limitations\n",
    "\n",
    "### Scope of the model\n",
    "This open sourced Beta model is trained within the following scope:\n",
    "- FHIR R4\n",
    "- 10 Resource types:\n",
    "  1. Bundle\n",
    "  2. Patient\n",
    "  3. Encounter\n",
    "  4. Practitioner\n",
    "  5. Organization\n",
    "  6. Immunization\n",
    "  7. Observation\n",
    "  8. Condition\n",
    "  9. AllergyIntolerance\n",
    "  10. Procedure.\n",
    "- English language\n",
    "\n",
    "\n",
    "### The following features are out of scope of the current release:\n",
    "- Support for Coding systems such as SNOMED CT and Loinc.\n",
    "- FHIR extensions and profiles\n",
    "- Any language, resource type or FHIR version not mentioned under \"in scope\".\n",
    "\n",
    "### Furthermore, please note:\n",
    "- **No Relative dates:** HealthSage AI Note-to-FHIR will not provide accurate FHIR datetime fields based on text that contains relative time information like \"today\" or \"yesterday\". Furthermore, relative dates like \"Patient John Doe is 50 years old.\" will not result in an accurate birthdate estimation, since the precise birthday and -month is unknown, and since the LLM is not aware of the current date.\n",
    "- **Designed as Patient-centric:** HealthSage AI Note-to-FHIR is trained on notes describing one patient each.\n",
    "- **<4k Context window:** The training data for this application contained at most 3686 tokens, which is 90% of the context window for Llama-2 (4096)\n",
    "- **Explicit Null:** If a certain FHIR element is not present in the provided text, it is explicitely predicted as NULL. Explicitely modeling the absence of information reduces the chance of hallucinations.\n",
    "- **Uses Bundles:** For consistency and simplicity, all predicted FHIR resources are Bundled.\n",
    "- **Conservative estimates:** Our model is designed to stick to the information explicitely provided in the text.\n",
    "- **ID's are local:** ID fields and references are local enumarations (1,2,3, etc.). They are not yet tested on referential correctness.\n",
    "- **Generation design:** The model is designed to generate a seperate resource if there is information about that resource in the text beyond what can be described in reference fields of related resources.\n",
    "- **This Beta application is still in early development:** Our preliminary results suggest that HealthSage AI Note-to-FHIR is superior to the GPT-4 foundation model within the scope of our application in terms of Fhir Syntax and ability to replicate the original FHIR resources in our test dataset. However, our model is still being analyzed on its performance for out-of-distribution data and out-of-scope data."
   ],
   "metadata": {
    "id": "tlJBh2cXeQpx"
   }
  },
  {
   "cell_type": "markdown",
   "source": [
    "First, install the required libraries"
   ],
   "metadata": {
    "id": "DSPAy0JjrYsc"
   }
  },
  {
   "cell_type": "code",
   "execution_count": 1,
   "metadata": {
    "colab": {
     "base_uri": "https://localhost:8080/"
    },
    "id": "c1EiBlFJJtQ3",
    "outputId": "b6633a84-4b3d-4413-dd68-a235f57cdfb8"
   },
   "outputs": [
    {
     "output_type": "stream",
     "name": "stdout",
     "text": [
      "Requirement already satisfied: fhir.resources in /usr/local/lib/python3.10/dist-packages (7.0.2)\n",
      "Requirement already satisfied: openai in /usr/local/lib/python3.10/dist-packages (1.3.6)\n",
      "Requirement already satisfied: torch in /usr/local/lib/python3.10/dist-packages (2.1.0+cu118)\n",
      "Requirement already satisfied: pytorch-gpu in /usr/local/lib/python3.10/dist-packages (0.0.1)\n",
      "Requirement already satisfied: dev-gpt in /usr/local/lib/python3.10/dist-packages (0.18.44)\n",
      "Requirement already satisfied: einops in /usr/local/lib/python3.10/dist-packages (0.7.0)\n",
      "Requirement already satisfied: accelerate in /usr/local/lib/python3.10/dist-packages (0.24.1)\n",
      "Requirement already satisfied: xformers in /usr/local/lib/python3.10/dist-packages (0.0.22.post7)\n",
      "Requirement already satisfied: bitsandbytes in /usr/local/lib/python3.10/dist-packages (0.41.2.post2)\n",
      "Requirement already satisfied: pandas in /usr/local/lib/python3.10/dist-packages (1.5.3)\n",
      "Requirement already satisfied: numpy in /usr/local/lib/python3.10/dist-packages (1.23.5)\n",
      "Requirement already satisfied: matplotlib in /usr/local/lib/python3.10/dist-packages (3.7.1)\n",
      "Requirement already satisfied: seaborn in /usr/local/lib/python3.10/dist-packages (0.12.2)\n",
      "Requirement already satisfied: datasets in /usr/local/lib/python3.10/dist-packages (2.15.0)\n",
      "Requirement already satisfied: torchvision in /usr/local/lib/python3.10/dist-packages (0.16.0+cu118)\n",
      "Requirement already satisfied: peft in /usr/local/lib/python3.10/dist-packages (0.6.2)\n",
      "Requirement already satisfied: trl in /usr/local/lib/python3.10/dist-packages (0.7.4)\n",
      "Requirement already satisfied: transformers in /usr/local/lib/python3.10/dist-packages (4.35.2)\n",
      "Requirement already satisfied: pydantic[email]<2.0.0,>=1.7.2 in /usr/local/lib/python3.10/dist-packages (from fhir.resources) (1.10.7)\n",
      "Requirement already satisfied: anyio<4,>=3.5.0 in /usr/local/lib/python3.10/dist-packages (from openai) (3.7.1)\n",
      "Requirement already satisfied: distro<2,>=1.7.0 in /usr/lib/python3/dist-packages (from openai) (1.7.0)\n",
      "Requirement already satisfied: httpx<1,>=0.23.0 in /usr/local/lib/python3.10/dist-packages (from openai) (0.25.2)\n",
      "Requirement already satisfied: sniffio in /usr/local/lib/python3.10/dist-packages (from openai) (1.3.0)\n",
      "Requirement already satisfied: tqdm>4 in /usr/local/lib/python3.10/dist-packages (from openai) (4.66.1)\n",
      "Requirement already satisfied: typing-extensions<5,>=4.5 in /usr/local/lib/python3.10/dist-packages (from openai) (4.5.0)\n",
      "Requirement already satisfied: filelock in /usr/local/lib/python3.10/dist-packages (from torch) (3.13.1)\n",
      "Requirement already satisfied: sympy in /usr/local/lib/python3.10/dist-packages (from torch) (1.12)\n",
      "Requirement already satisfied: networkx in /usr/local/lib/python3.10/dist-packages (from torch) (3.2.1)\n",
      "Requirement already satisfied: jinja2 in /usr/local/lib/python3.10/dist-packages (from torch) (3.1.2)\n",
      "Requirement already satisfied: fsspec in /usr/local/lib/python3.10/dist-packages (from torch) (2023.6.0)\n",
      "Requirement already satisfied: triton==2.1.0 in /usr/local/lib/python3.10/dist-packages (from torch) (2.1.0)\n",
      "Requirement already satisfied: jina==3.15.1.dev14 in /usr/local/lib/python3.10/dist-packages (from dev-gpt) (3.15.1.dev14)\n",
      "Requirement already satisfied: click in /usr/local/lib/python3.10/dist-packages (from dev-gpt) (8.0.4)\n",
      "Requirement already satisfied: streamlit==1.9.0 in /usr/local/lib/python3.10/dist-packages (from dev-gpt) (1.9.0)\n",
      "Requirement already satisfied: altair==4.2.2 in /usr/local/lib/python3.10/dist-packages (from dev-gpt) (4.2.2)\n",
      "Requirement already satisfied: psutil in /usr/local/lib/python3.10/dist-packages (from dev-gpt) (5.9.5)\n",
      "Requirement already satisfied: jcloud in /usr/local/lib/python3.10/dist-packages (from dev-gpt) (0.3)\n",
      "Requirement already satisfied: jina-hubble-sdk in /usr/local/lib/python3.10/dist-packages (from dev-gpt) (0.39.0)\n",
      "Requirement already satisfied: langchain==0.0.153 in /usr/local/lib/python3.10/dist-packages (from dev-gpt) (0.0.153)\n",
      "Requirement already satisfied: typing-inspect==0.8.0 in /usr/local/lib/python3.10/dist-packages (from dev-gpt) (0.8.0)\n",
      "Requirement already satisfied: entrypoints in /usr/local/lib/python3.10/dist-packages (from altair==4.2.2->dev-gpt) (0.4)\n",
      "Requirement already satisfied: jsonschema>=3.0 in /usr/local/lib/python3.10/dist-packages (from altair==4.2.2->dev-gpt) (4.19.2)\n",
      "Requirement already satisfied: toolz in /usr/local/lib/python3.10/dist-packages (from altair==4.2.2->dev-gpt) (0.12.0)\n",
      "Requirement already satisfied: docker in /usr/local/lib/python3.10/dist-packages (from jina==3.15.1.dev14->dev-gpt) (6.1.3)\n",
      "Requirement already satisfied: opentelemetry-instrumentation-aiohttp-client>=0.33b0 in /usr/local/lib/python3.10/dist-packages (from jina==3.15.1.dev14->dev-gpt) (0.42b0)\n",
      "Requirement already satisfied: opentelemetry-exporter-prometheus>=1.12.0rc1 in /usr/local/lib/python3.10/dist-packages (from jina==3.15.1.dev14->dev-gpt) (1.12.0rc1)\n",
      "Requirement already satisfied: uvicorn[standard] in /usr/local/lib/python3.10/dist-packages (from jina==3.15.1.dev14->dev-gpt) (0.24.0.post1)\n",
      "Requirement already satisfied: aiofiles in /usr/local/lib/python3.10/dist-packages (from jina==3.15.1.dev14->dev-gpt) (23.2.1)\n",
      "Requirement already satisfied: aiostream in /usr/local/lib/python3.10/dist-packages (from jina==3.15.1.dev14->dev-gpt) (0.5.2)\n",
      "Requirement already satisfied: opentelemetry-instrumentation-fastapi>=0.33b0 in /usr/local/lib/python3.10/dist-packages (from jina==3.15.1.dev14->dev-gpt) (0.42b0)\n",
      "Requirement already satisfied: uvloop in /usr/local/lib/python3.10/dist-packages (from jina==3.15.1.dev14->dev-gpt) (0.19.0)\n",
      "Requirement already satisfied: prometheus-client>=0.12.0 in /usr/local/lib/python3.10/dist-packages (from jina==3.15.1.dev14->dev-gpt) (0.18.0)\n",
      "Requirement already satisfied: docarray<0.30.0,>=0.16.4 in /usr/local/lib/python3.10/dist-packages (from jina==3.15.1.dev14->dev-gpt) (0.21.1)\n",
      "Requirement already satisfied: opentelemetry-exporter-otlp-proto-grpc>=1.13.0 in /usr/local/lib/python3.10/dist-packages (from jina==3.15.1.dev14->dev-gpt) (1.21.0)\n",
      "Requirement already satisfied: pathspec in /usr/local/lib/python3.10/dist-packages (from jina==3.15.1.dev14->dev-gpt) (0.11.2)\n",
      "Requirement already satisfied: protobuf>=3.19.0 in /usr/local/lib/python3.10/dist-packages (from jina==3.15.1.dev14->dev-gpt) (3.20.3)\n",
      "Requirement already satisfied: aiohttp in /usr/local/lib/python3.10/dist-packages (from jina==3.15.1.dev14->dev-gpt) (3.8.6)\n",
      "Requirement already satisfied: opentelemetry-instrumentation-grpc>=0.35b0 in /usr/local/lib/python3.10/dist-packages (from jina==3.15.1.dev14->dev-gpt) (0.42b0)\n",
      "Requirement already satisfied: opentelemetry-exporter-otlp>=1.12.0 in /usr/local/lib/python3.10/dist-packages (from jina==3.15.1.dev14->dev-gpt) (1.21.0)\n",
      "Requirement already satisfied: pyyaml>=5.3.1 in /usr/local/lib/python3.10/dist-packages (from jina==3.15.1.dev14->dev-gpt) (6.0.1)\n",
      "Requirement already satisfied: requests in /usr/local/lib/python3.10/dist-packages (from jina==3.15.1.dev14->dev-gpt) (2.31.0)\n",
      "Requirement already satisfied: grpcio-health-checking<1.48.1,>=1.46.0 in /usr/local/lib/python3.10/dist-packages (from jina==3.15.1.dev14->dev-gpt) (1.47.5)\n",
      "Requirement already satisfied: packaging>=20.0 in /usr/local/lib/python3.10/dist-packages (from jina==3.15.1.dev14->dev-gpt) (23.2)\n",
      "Requirement already satisfied: websockets in /usr/local/lib/python3.10/dist-packages (from jina==3.15.1.dev14->dev-gpt) (12.0)\n",
      "Requirement already satisfied: python-multipart in /usr/local/lib/python3.10/dist-packages (from jina==3.15.1.dev14->dev-gpt) (0.0.6)\n",
      "Requirement already satisfied: opentelemetry-sdk>=1.14.0 in /usr/local/lib/python3.10/dist-packages (from jina==3.15.1.dev14->dev-gpt) (1.21.0)\n",
      "Requirement already satisfied: grpcio<1.48.1,>=1.46.0 in /usr/local/lib/python3.10/dist-packages (from jina==3.15.1.dev14->dev-gpt) (1.47.5)\n",
      "Requirement already satisfied: fastapi>=0.76.0 in /usr/local/lib/python3.10/dist-packages (from jina==3.15.1.dev14->dev-gpt) (0.103.2)\n",
      "Requirement already satisfied: opentelemetry-api>=1.12.0 in /usr/local/lib/python3.10/dist-packages (from jina==3.15.1.dev14->dev-gpt) (1.21.0)\n",
      "Requirement already satisfied: grpcio-reflection<1.48.1,>=1.46.0 in /usr/local/lib/python3.10/dist-packages (from jina==3.15.1.dev14->dev-gpt) (1.47.5)\n",
      "Requirement already satisfied: SQLAlchemy<3,>1.4 in /usr/local/lib/python3.10/dist-packages (from langchain==0.0.153->dev-gpt) (2.0.23)\n",
      "Requirement already satisfied: async-timeout<5.0.0,>=4.0.0 in /usr/local/lib/python3.10/dist-packages (from langchain==0.0.153->dev-gpt) (4.0.3)\n",
      "Requirement already satisfied: dataclasses-json<0.6.0,>=0.5.7 in /usr/local/lib/python3.10/dist-packages (from langchain==0.0.153->dev-gpt) (0.5.14)\n",
      "Requirement already satisfied: numexpr<3.0.0,>=2.8.4 in /usr/local/lib/python3.10/dist-packages (from langchain==0.0.153->dev-gpt) (2.8.7)\n",
      "Requirement already satisfied: openapi-schema-pydantic<2.0,>=1.2 in /usr/local/lib/python3.10/dist-packages (from langchain==0.0.153->dev-gpt) (1.2.4)\n",
      "Requirement already satisfied: tenacity<9.0.0,>=8.1.0 in /usr/local/lib/python3.10/dist-packages (from langchain==0.0.153->dev-gpt) (8.2.3)\n",
      "Requirement already satisfied: attrs in /usr/local/lib/python3.10/dist-packages (from streamlit==1.9.0->dev-gpt) (23.1.0)\n",
      "Requirement already satisfied: blinker in /usr/lib/python3/dist-packages (from streamlit==1.9.0->dev-gpt) (1.4)\n",
      "Requirement already satisfied: cachetools>=4.0 in /usr/local/lib/python3.10/dist-packages (from streamlit==1.9.0->dev-gpt) (5.3.2)\n",
      "Requirement already satisfied: importlib-metadata>=1.4 in /usr/local/lib/python3.10/dist-packages (from streamlit==1.9.0->dev-gpt) (6.8.0)\n",
      "Requirement already satisfied: pillow>=6.2.0 in /usr/local/lib/python3.10/dist-packages (from streamlit==1.9.0->dev-gpt) (9.4.0)\n",
      "Requirement already satisfied: pyarrow in /usr/local/lib/python3.10/dist-packages (from streamlit==1.9.0->dev-gpt) (9.0.0)\n",
      "Requirement already satisfied: pydeck>=0.1.dev5 in /usr/local/lib/python3.10/dist-packages (from streamlit==1.9.0->dev-gpt) (0.8.1b0)\n",
      "Requirement already satisfied: pympler>=0.9 in /usr/local/lib/python3.10/dist-packages (from streamlit==1.9.0->dev-gpt) (1.0.1)\n",
      "Requirement already satisfied: python-dateutil in /usr/local/lib/python3.10/dist-packages (from streamlit==1.9.0->dev-gpt) (2.8.2)\n",
      "Requirement already satisfied: toml in /usr/local/lib/python3.10/dist-packages (from streamlit==1.9.0->dev-gpt) (0.10.2)\n",
      "Requirement already satisfied: tornado>=5.0 in /usr/local/lib/python3.10/dist-packages (from streamlit==1.9.0->dev-gpt) (6.3.2)\n",
      "Requirement already satisfied: tzlocal in /usr/local/lib/python3.10/dist-packages (from streamlit==1.9.0->dev-gpt) (5.2)\n",
      "Requirement already satisfied: validators in /usr/local/lib/python3.10/dist-packages (from streamlit==1.9.0->dev-gpt) (0.22.0)\n",
      "Requirement already satisfied: gitpython!=3.1.19 in /usr/local/lib/python3.10/dist-packages (from streamlit==1.9.0->dev-gpt) (3.1.40)\n",
      "Requirement already satisfied: semver in /usr/local/lib/python3.10/dist-packages (from streamlit==1.9.0->dev-gpt) (3.0.2)\n",
      "Requirement already satisfied: watchdog in /usr/local/lib/python3.10/dist-packages (from streamlit==1.9.0->dev-gpt) (3.0.0)\n",
      "Requirement already satisfied: mypy-extensions>=0.3.0 in /usr/local/lib/python3.10/dist-packages (from typing-inspect==0.8.0->dev-gpt) (1.0.0)\n",
      "Requirement already satisfied: huggingface-hub in /usr/local/lib/python3.10/dist-packages (from accelerate) (0.19.4)\n",
      "Requirement already satisfied: pytz>=2020.1 in /usr/local/lib/python3.10/dist-packages (from pandas) (2023.3.post1)\n",
      "Requirement already satisfied: contourpy>=1.0.1 in /usr/local/lib/python3.10/dist-packages (from matplotlib) (1.2.0)\n",
      "Requirement already satisfied: cycler>=0.10 in /usr/local/lib/python3.10/dist-packages (from matplotlib) (0.12.1)\n",
      "Requirement already satisfied: fonttools>=4.22.0 in /usr/local/lib/python3.10/dist-packages (from matplotlib) (4.44.3)\n",
      "Requirement already satisfied: kiwisolver>=1.0.1 in /usr/local/lib/python3.10/dist-packages (from matplotlib) (1.4.5)\n",
      "Requirement already satisfied: pyparsing>=2.3.1 in /usr/local/lib/python3.10/dist-packages (from matplotlib) (3.1.1)\n",
      "Requirement already satisfied: pyarrow-hotfix in /usr/local/lib/python3.10/dist-packages (from datasets) (0.6)\n",
      "Requirement already satisfied: dill<0.3.8,>=0.3.0 in /usr/local/lib/python3.10/dist-packages (from datasets) (0.3.7)\n",
      "Requirement already satisfied: xxhash in /usr/local/lib/python3.10/dist-packages (from datasets) (3.4.1)\n",
      "Requirement already satisfied: multiprocess in /usr/local/lib/python3.10/dist-packages (from datasets) (0.70.15)\n",
      "Requirement already satisfied: safetensors in /usr/local/lib/python3.10/dist-packages (from peft) (0.4.0)\n",
      "Requirement already satisfied: tyro>=0.5.11 in /usr/local/lib/python3.10/dist-packages (from trl) (0.5.18)\n",
      "Requirement already satisfied: regex!=2019.12.17 in /usr/local/lib/python3.10/dist-packages (from transformers) (2023.6.3)\n",
      "Requirement already satisfied: tokenizers<0.19,>=0.14 in /usr/local/lib/python3.10/dist-packages (from transformers) (0.15.0)\n",
      "Requirement already satisfied: charset-normalizer<4.0,>=2.0 in /usr/local/lib/python3.10/dist-packages (from aiohttp->jina==3.15.1.dev14->dev-gpt) (3.3.2)\n",
      "Requirement already satisfied: multidict<7.0,>=4.5 in /usr/local/lib/python3.10/dist-packages (from aiohttp->jina==3.15.1.dev14->dev-gpt) (6.0.4)\n",
      "Requirement already satisfied: yarl<2.0,>=1.0 in /usr/local/lib/python3.10/dist-packages (from aiohttp->jina==3.15.1.dev14->dev-gpt) (1.9.2)\n",
      "Requirement already satisfied: frozenlist>=1.1.1 in /usr/local/lib/python3.10/dist-packages (from aiohttp->jina==3.15.1.dev14->dev-gpt) (1.4.0)\n",
      "Requirement already satisfied: aiosignal>=1.1.2 in /usr/local/lib/python3.10/dist-packages (from aiohttp->jina==3.15.1.dev14->dev-gpt) (1.3.1)\n",
      "Requirement already satisfied: idna>=2.8 in /usr/local/lib/python3.10/dist-packages (from anyio<4,>=3.5.0->openai) (3.4)\n",
      "Requirement already satisfied: exceptiongroup in /usr/local/lib/python3.10/dist-packages (from anyio<4,>=3.5.0->openai) (1.1.3)\n",
      "Requirement already satisfied: certifi in /usr/local/lib/python3.10/dist-packages (from httpx<1,>=0.23.0->openai) (2023.7.22)\n",
      "Requirement already satisfied: httpcore==1.* in /usr/local/lib/python3.10/dist-packages (from httpx<1,>=0.23.0->openai) (1.0.2)\n",
      "Requirement already satisfied: h11<0.15,>=0.13 in /usr/local/lib/python3.10/dist-packages (from httpcore==1.*->httpx<1,>=0.23.0->openai) (0.14.0)\n",
      "Requirement already satisfied: rich>=12.0.0 in /usr/local/lib/python3.10/dist-packages (from jcloud->dev-gpt) (13.7.0)\n",
      "Requirement already satisfied: python-dotenv in /usr/local/lib/python3.10/dist-packages (from jcloud->dev-gpt) (1.0.0)\n",
      "Requirement already satisfied: python-jose in /usr/local/lib/python3.10/dist-packages (from jina-hubble-sdk->dev-gpt) (3.3.0)\n",
      "Requirement already satisfied: email-validator>=1.0.3 in /usr/local/lib/python3.10/dist-packages (from pydantic[email]<2.0.0,>=1.7.2->fhir.resources) (2.1.0.post1)\n",
      "Requirement already satisfied: six>=1.5 in /usr/local/lib/python3.10/dist-packages (from python-dateutil->streamlit==1.9.0->dev-gpt) (1.16.0)\n",
      "Requirement already satisfied: urllib3<3,>=1.21.1 in /usr/local/lib/python3.10/dist-packages (from requests->jina==3.15.1.dev14->dev-gpt) (2.0.7)\n",
      "Requirement already satisfied: docstring-parser>=0.14.1 in /usr/local/lib/python3.10/dist-packages (from tyro>=0.5.11->trl) (0.15)\n",
      "Requirement already satisfied: shtab>=1.5.6 in /usr/local/lib/python3.10/dist-packages (from tyro>=0.5.11->trl) (1.6.4)\n",
      "Requirement already satisfied: MarkupSafe>=2.0 in /usr/local/lib/python3.10/dist-packages (from jinja2->torch) (2.1.3)\n",
      "Requirement already satisfied: mpmath>=0.19 in /usr/local/lib/python3.10/dist-packages (from sympy->torch) (1.3.0)\n",
      "Requirement already satisfied: marshmallow<4.0.0,>=3.18.0 in /usr/local/lib/python3.10/dist-packages (from dataclasses-json<0.6.0,>=0.5.7->langchain==0.0.153->dev-gpt) (3.20.1)\n",
      "Requirement already satisfied: dnspython>=2.0.0 in /usr/local/lib/python3.10/dist-packages (from email-validator>=1.0.3->pydantic[email]<2.0.0,>=1.7.2->fhir.resources) (2.4.2)\n",
      "Requirement already satisfied: starlette<0.28.0,>=0.27.0 in /usr/local/lib/python3.10/dist-packages (from fastapi>=0.76.0->jina==3.15.1.dev14->dev-gpt) (0.27.0)\n",
      "Requirement already satisfied: gitdb<5,>=4.0.1 in /usr/local/lib/python3.10/dist-packages (from gitpython!=3.1.19->streamlit==1.9.0->dev-gpt) (4.0.11)\n",
      "Requirement already satisfied: zipp>=0.5 in /usr/local/lib/python3.10/dist-packages (from importlib-metadata>=1.4->streamlit==1.9.0->dev-gpt) (3.17.0)\n",
      "Requirement already satisfied: jsonschema-specifications>=2023.03.6 in /usr/local/lib/python3.10/dist-packages (from jsonschema>=3.0->altair==4.2.2->dev-gpt) (2023.11.1)\n",
      "Requirement already satisfied: referencing>=0.28.4 in /usr/local/lib/python3.10/dist-packages (from jsonschema>=3.0->altair==4.2.2->dev-gpt) (0.31.0)\n",
      "Requirement already satisfied: rpds-py>=0.7.1 in /usr/local/lib/python3.10/dist-packages (from jsonschema>=3.0->altair==4.2.2->dev-gpt) (0.13.0)\n",
      "Requirement already satisfied: deprecated>=1.2.6 in /usr/local/lib/python3.10/dist-packages (from opentelemetry-api>=1.12.0->jina==3.15.1.dev14->dev-gpt) (1.2.14)\n",
      "Requirement already satisfied: opentelemetry-exporter-otlp-proto-http==1.21.0 in /usr/local/lib/python3.10/dist-packages (from opentelemetry-exporter-otlp>=1.12.0->jina==3.15.1.dev14->dev-gpt) (1.21.0)\n",
      "Requirement already satisfied: backoff<3.0.0,>=1.10.0 in /usr/local/lib/python3.10/dist-packages (from opentelemetry-exporter-otlp-proto-grpc>=1.13.0->jina==3.15.1.dev14->dev-gpt) (2.2.1)\n",
      "Requirement already satisfied: googleapis-common-protos~=1.52 in /usr/local/lib/python3.10/dist-packages (from opentelemetry-exporter-otlp-proto-grpc>=1.13.0->jina==3.15.1.dev14->dev-gpt) (1.61.0)\n",
      "Requirement already satisfied: opentelemetry-exporter-otlp-proto-common==1.21.0 in /usr/local/lib/python3.10/dist-packages (from opentelemetry-exporter-otlp-proto-grpc>=1.13.0->jina==3.15.1.dev14->dev-gpt) (1.21.0)\n",
      "Requirement already satisfied: opentelemetry-proto==1.21.0 in /usr/local/lib/python3.10/dist-packages (from opentelemetry-exporter-otlp-proto-grpc>=1.13.0->jina==3.15.1.dev14->dev-gpt) (1.21.0)\n",
      "Requirement already satisfied: opentelemetry-instrumentation==0.42b0 in /usr/local/lib/python3.10/dist-packages (from opentelemetry-instrumentation-aiohttp-client>=0.33b0->jina==3.15.1.dev14->dev-gpt) (0.42b0)\n",
      "Requirement already satisfied: opentelemetry-semantic-conventions==0.42b0 in /usr/local/lib/python3.10/dist-packages (from opentelemetry-instrumentation-aiohttp-client>=0.33b0->jina==3.15.1.dev14->dev-gpt) (0.42b0)\n",
      "Requirement already satisfied: opentelemetry-util-http==0.42b0 in /usr/local/lib/python3.10/dist-packages (from opentelemetry-instrumentation-aiohttp-client>=0.33b0->jina==3.15.1.dev14->dev-gpt) (0.42b0)\n",
      "Requirement already satisfied: wrapt<2.0.0,>=1.0.0 in /usr/local/lib/python3.10/dist-packages (from opentelemetry-instrumentation-aiohttp-client>=0.33b0->jina==3.15.1.dev14->dev-gpt) (1.14.1)\n",
      "Requirement already satisfied: setuptools>=16.0 in /usr/local/lib/python3.10/dist-packages (from opentelemetry-instrumentation==0.42b0->opentelemetry-instrumentation-aiohttp-client>=0.33b0->jina==3.15.1.dev14->dev-gpt) (67.7.2)\n",
      "Requirement already satisfied: opentelemetry-instrumentation-asgi==0.42b0 in /usr/local/lib/python3.10/dist-packages (from opentelemetry-instrumentation-fastapi>=0.33b0->jina==3.15.1.dev14->dev-gpt) (0.42b0)\n",
      "Requirement already satisfied: asgiref~=3.0 in /usr/local/lib/python3.10/dist-packages (from opentelemetry-instrumentation-asgi==0.42b0->opentelemetry-instrumentation-fastapi>=0.33b0->jina==3.15.1.dev14->dev-gpt) (3.7.2)\n",
      "Requirement already satisfied: markdown-it-py>=2.2.0 in /usr/local/lib/python3.10/dist-packages (from rich>=12.0.0->jcloud->dev-gpt) (3.0.0)\n",
      "Requirement already satisfied: pygments<3.0.0,>=2.13.0 in /usr/local/lib/python3.10/dist-packages (from rich>=12.0.0->jcloud->dev-gpt) (2.16.1)\n",
      "Requirement already satisfied: greenlet!=0.4.17 in /usr/local/lib/python3.10/dist-packages (from SQLAlchemy<3,>1.4->langchain==0.0.153->dev-gpt) (3.0.1)\n",
      "Requirement already satisfied: websocket-client>=0.32.0 in /usr/local/lib/python3.10/dist-packages (from docker->jina==3.15.1.dev14->dev-gpt) (1.6.4)\n",
      "Requirement already satisfied: ecdsa!=0.15 in /usr/local/lib/python3.10/dist-packages (from python-jose->jina-hubble-sdk->dev-gpt) (0.18.0)\n",
      "Requirement already satisfied: rsa in /usr/local/lib/python3.10/dist-packages (from python-jose->jina-hubble-sdk->dev-gpt) (4.9)\n",
      "Requirement already satisfied: pyasn1 in /usr/local/lib/python3.10/dist-packages (from python-jose->jina-hubble-sdk->dev-gpt) (0.5.0)\n",
      "Requirement already satisfied: httptools>=0.5.0 in /usr/local/lib/python3.10/dist-packages (from uvicorn[standard]->jina==3.15.1.dev14->dev-gpt) (0.6.1)\n",
      "Requirement already satisfied: watchfiles>=0.13 in /usr/local/lib/python3.10/dist-packages (from uvicorn[standard]->jina==3.15.1.dev14->dev-gpt) (0.21.0)\n",
      "Requirement already satisfied: smmap<6,>=3.0.1 in /usr/local/lib/python3.10/dist-packages (from gitdb<5,>=4.0.1->gitpython!=3.1.19->streamlit==1.9.0->dev-gpt) (5.0.1)\n",
      "Requirement already satisfied: mdurl~=0.1 in /usr/local/lib/python3.10/dist-packages (from markdown-it-py>=2.2.0->rich>=12.0.0->jcloud->dev-gpt) (0.1.2)\n"
     ]
    }
   ],
   "source": [
    "!pip install fhir.resources torch==1.13.1 pytorch-gpu dev-gpt einops accelerate xformers bitsandbytes pandas numpy matplotlib datasets torchvision peft trl transformers"
   ]
  },
  {
   "cell_type": "markdown",
   "source": [
    "# How to convert clinical notes to FHIR R4"
   ],
   "metadata": {
    "id": "WFsEUeAuJ7Tg"
   }
  },
  {
   "cell_type": "code",
   "source": [
    "from transformers import pipeline\n",
    "from datasets import load_dataset\n",
    "import torch\n",
    "from torch import cuda\n",
    "from transformers import AutoModelForCausalLM, AutoTokenizer, BitsAndBytesConfig, AutoTokenizer\n",
    "from peft import LoraConfig, get_peft_model\n",
    "import os\n",
    "import sys\n",
    "from datasets import load_dataset\n",
    "import json\n",
    "import pandas as pd\n",
    "from google.colab import userdata\n",
    "import json"
   ],
   "metadata": {
    "id": "RIfApoE3Kbde"
   },
   "execution_count": 2,
   "outputs": []
  },
  {
   "cell_type": "markdown",
   "source": [
    "# Login to Huggingface Hub and load the dataset"
   ],
   "metadata": {
    "id": "LRLyvE9xXAe9"
   }
  },
  {
   "cell_type": "code",
   "source": [
    "login_str = f\"huggingface-cli login --token={userdata.get('huggingface_token')}\"\n",
    "os.system(login_str)"
   ],
   "metadata": {
    "colab": {
     "base_uri": "https://localhost:8080/"
    },
    "id": "TMMJLcqJXl8F",
    "outputId": "9892669f-5fef-4867-ef7f-8f6853de6d42"
   },
   "execution_count": 3,
   "outputs": [
    {
     "output_type": "execute_result",
     "data": {
      "text/plain": [
       "0"
      ]
     },
     "metadata": {},
     "execution_count": 3
    }
   ]
  },
  {
   "cell_type": "code",
   "source": [
    "dataset_name = 'healthsageai/fhir-to-note'  # FHIR dataset\n",
    "dataset = load_dataset(dataset_name)"
   ],
   "metadata": {
    "id": "vR-lMezZWYqd"
   },
   "execution_count": 4,
   "outputs": []
  },
  {
   "cell_type": "markdown",
   "source": [
    "# Inspecting the first test sample\n",
    "This is the first sample in our testset. It is written in a formal sentence style in lower case. Our synthetic clinical notes contain various writing styles to maximize the generalizability of the healthsage model."
   ],
   "metadata": {
    "id": "39Lw1uh1dYKD"
   }
  },
  {
   "cell_type": "code",
   "source": [
    "print(\"Clinical Note: \\n\\n\",dataset['test']['note'][0])"
   ],
   "metadata": {
    "colab": {
     "base_uri": "https://localhost:8080/"
    },
    "id": "PTBWi1xUWj85",
    "outputId": "2c6794f4-2bf8-4c6f-f61d-ab5ff48c361b"
   },
   "execution_count": 5,
   "outputs": [
    {
     "output_type": "stream",
     "name": "stdout",
     "text": [
      "Clinical Note: \n",
      "\n",
      " the information pertains to a collection of medical records associated with mr. chase olson. \n",
      "\n",
      "on the 17th of january, 2023, mr. olson visited dr. jude reynolds. the consultation commenced at 9:42 pm and concluded at 9:57 pm, as per the central european time. the nature of mr. olson's visit classified as an ambulatory patient encounter.\n",
      "\n",
      "additional background information about mr. olson: he was born on the 29th of november, 1966, which makes him a male of 57 years of age. he can be contacted through his home phone number 555-770-7639. he resides at 792 schumm fork unit 62, palmer, massachusetts, 01069, us. his communication preference is english, specifically the version spoken in the united states.\n",
      "\n",
      "regarding mr. olson’s health, it's important to mention an active and confirmed health condition he endures. he has an allergy towards a certain, unspecified substance, categorized as an environmental allergy.\n",
      "\n",
      "all of this information represents critical aspects of mr. olson’s health record and should be considered during each visit to ensure effective and appropriate care.\n"
     ]
    }
   ]
  },
  {
   "cell_type": "markdown",
   "source": [
    "Below you find the associated FHIR-R4 resource. FHIR is not easy to read but if you take a close look you can see the json string describes the clinical note in FHIR R4 language. Globally, the FHIR Bundle consists of a **Patient** (mr. Chase Olson), an **encounter** and an **allergy**.  "
   ],
   "metadata": {
    "id": "aOjNBozOsCYr"
   }
  },
  {
   "cell_type": "code",
   "source": [
    "print(\"FHIR R4 representation:\")\n",
    "json.loads(dataset['test']['fhir'][0])"
   ],
   "metadata": {
    "colab": {
     "base_uri": "https://localhost:8080/"
    },
    "id": "z7zTGm4ucCle",
    "outputId": "335e4e81-6f10-42da-97a7-28165bb52a5c"
   },
   "execution_count": 6,
   "outputs": [
    {
     "output_type": "stream",
     "name": "stdout",
     "text": [
      "FHIR R4 representation:\n"
     ]
    },
    {
     "output_type": "execute_result",
     "data": {
      "text/plain": [
       "{'resourceType': 'Bundle',\n",
       " 'id': '1',\n",
       " 'type': 'collection',\n",
       " 'entry': [{'resource': {'resourceType': 'Encounter',\n",
       "    'id': '1',\n",
       "    'status': 'finished',\n",
       "    'class': {'system': 'http://terminology.hl7.org/CodeSystem/v3-ActCode',\n",
       "     'code': 'AMB'},\n",
       "    'type': None,\n",
       "    'subject': {'reference': 'Patient/1', 'display': 'Mr. Chase Olson'},\n",
       "    'participant': [{'type': [{'coding': [{'system': 'http://terminology.hl7.org/CodeSystem/v3-ParticipationType',\n",
       "          'code': 'PPRF',\n",
       "          'display': 'primary performer'}],\n",
       "        'text': 'primary performer'}],\n",
       "      'period': {'start': '2023-01-17T21:42:36+01:00',\n",
       "       'end': '2023-01-17T21:57:36+01:00'},\n",
       "      'individual': {'reference': 'Practitioner/1',\n",
       "       'display': 'Dr. Jude Reynolds'}}],\n",
       "    'period': {'start': '2023-01-17T21:42:36+01:00',\n",
       "     'end': '2023-01-17T21:57:36+01:00'},\n",
       "    'reasonCode': None,\n",
       "    'serviceProvider': None}},\n",
       "  {'resource': {'resourceType': 'Patient',\n",
       "    'id': '1',\n",
       "    'name': [{'use': 'official',\n",
       "      'family': 'Olson',\n",
       "      'given': ['Chase'],\n",
       "      'prefix': ['Mr.']}],\n",
       "    'telecom': [{'system': 'phone', 'value': '555-770-7639', 'use': 'home'}],\n",
       "    'gender': 'male',\n",
       "    'birthDate': '1966-11-29',\n",
       "    'address': [{'line': ['792 Schumm Fork Unit 62'],\n",
       "      'city': 'Palmer',\n",
       "      'state': 'Massachusetts',\n",
       "      'postalCode': '01069',\n",
       "      'country': 'US'}],\n",
       "    'maritalStatus': None,\n",
       "    'multipleBirthBoolean': None,\n",
       "    'communication': [{'language': {'coding': [{'system': 'urn:ietf:bcp:47',\n",
       "         'code': 'en-US',\n",
       "         'display': 'English (United States)'}],\n",
       "       'text': 'English (United States)'}}]}},\n",
       "  {'resource': {'resourceType': 'AllergyIntolerance',\n",
       "    'id': '1',\n",
       "    'clinicalStatus': {'coding': [{'system': 'http://terminology.hl7.org/CodeSystem/allergyintolerance-clinical',\n",
       "       'code': 'active'}]},\n",
       "    'verificationStatus': {'coding': [{'system': 'http://terminology.hl7.org/CodeSystem/allergyintolerance-verification',\n",
       "       'code': 'confirmed'}]},\n",
       "    'type': None,\n",
       "    'category': ['environment'],\n",
       "    'criticality': None,\n",
       "    'code': {'coding': [{'system': 'http://snomed.info/sct',\n",
       "       'code': '419199007',\n",
       "       'display': 'Allergy to substance (finding)'}],\n",
       "     'text': 'Allergy to substance (finding)'},\n",
       "    'patient': {'reference': 'Patient/1'},\n",
       "    'recordedDate': None}}]}"
      ]
     },
     "metadata": {},
     "execution_count": 6
    }
   ]
  },
  {
   "cell_type": "markdown",
   "source": [
    "# Load Llama-2 and HealthSage AI note-to-FHIR-adapter"
   ],
   "metadata": {
    "id": "IBW9fDstiFQQ"
   }
  },
  {
   "cell_type": "markdown",
   "source": [
    "Our Note-to-FHIR is capable of doing this conversion automatically on a relatively T4 GPU. We do so by loading our LoRA adapter model on a quantized version of LLama-2-13b."
   ],
   "metadata": {
    "id": "I23RXJ2pscDb"
   }
  },
  {
   "cell_type": "code",
   "source": [
    "bnb_config = BitsAndBytesConfig(\n",
    "    load_in_4bit=True,\n",
    "    bnb_4bit_use_double_quant=True,\n",
    "    bnb_4bit_quant_type=\"nf4\",\n",
    "    bnb_4bit_compute_dtype=torch.float16,\n",
    ")"
   ],
   "metadata": {
    "id": "e-eTbrIwiJbr"
   },
   "execution_count": 7,
   "outputs": []
  },
  {
   "cell_type": "code",
   "source": [
    "base_model_name = \"meta-llama/Llama-2-13b-chat-hf\"\n",
    "model_name = \"healthsageai/note-to-fhir-13b-adapter\"\n",
    "\n",
    "model = AutoModelForCausalLM.from_pretrained(\n",
    "    base_model_name,\n",
    "    trust_remote_code=True,\n",
    "    quantization_config=bnb_config,\n",
    "    device_map='auto'\n",
    ")\n",
    "\n",
    "model.config.use_cache = False\n",
    "model.load_adapter(model_name)\n",
    "\n",
    "# LOAD TOKENIZER\n",
    "tokenizer = AutoTokenizer.from_pretrained(base_model_name, trust_remote_code=True, return_tensor=\"pt\", padding=True)\n",
    "tokenizer.pad_token = tokenizer.bos_token\n",
    "tokenizer.padding_side = 'left'"
   ],
   "metadata": {
    "colab": {
     "base_uri": "https://localhost:8080/",
     "height": 49,
     "referenced_widgets": [
      "1f5de85b721a4be7a8c09a496312dffe",
      "833f0d9765b847689d42c31f4d57bd92",
      "73f5931d238941a5a56e320e1f527386",
      "4c24d3e6330f4f5f8d890844d5bb0164",
      "bc22725a10af462f86a02013354bf42d",
      "ab4bae115bd345ef9e92a9d6e5ad4632",
      "847ff62dde7341ee91d0ae91ea3a086b",
      "1683986eafc94149b1d2eae566a4a79c",
      "f7f62f778eae4426bc5ec106df681cf1",
      "ff3769b29f4e4bec99e726490c8340f7",
      "1828fccad6004b978c585ebf44031f57"
     ]
    },
    "id": "3V6MMq5iiYPI",
    "outputId": "480c7962-6c84-4ec0-9a29-603b330a3429"
   },
   "execution_count": 8,
   "outputs": [
    {
     "output_type": "display_data",
     "data": {
      "text/plain": [
       "Loading checkpoint shards:   0%|          | 0/3 [00:00<?, ?it/s]"
      ],
      "application/vnd.jupyter.widget-view+json": {
       "version_major": 2,
       "version_minor": 0,
       "model_id": "1f5de85b721a4be7a8c09a496312dffe"
      }
     },
     "metadata": {}
    }
   ]
  },
  {
   "cell_type": "markdown",
   "source": [
    "For numerical stability:"
   ],
   "metadata": {
    "id": "u5cqNLGltRg6"
   }
  },
  {
   "cell_type": "code",
   "source": [
    "for name, module in model.named_modules():\n",
    "    if \"norm\" in name:\n",
    "        module = module.to(torch.float32)"
   ],
   "metadata": {
    "id": "E-_mniRZkwvA"
   },
   "execution_count": 9,
   "outputs": []
  },
  {
   "cell_type": "markdown",
   "source": [
    "# Combine the clinical note with instructions"
   ],
   "metadata": {
    "id": "OULU4QsbjQCz"
   }
  },
  {
   "cell_type": "markdown",
   "source": [
    "This is the prompt template on which we add our clinical note"
   ],
   "metadata": {
    "id": "lqMPnMDStVVn"
   }
  },
  {
   "cell_type": "code",
   "source": [
    "prompt = \"\"\"[INST] <<SYS>>\n",
    "INSTRUCTION\n",
    "Translate the following clinical note into HL7 FHIR R4 Format.\n",
    "- Do not insert any values that are not in the note.\n",
    "- Do not infer or impute any values\n",
    "- Only include information that is essential:\n",
    "    - information that is in the clinical note\n",
    "    - information that is mandatory for a valid FHIR resource.\n",
    "\n",
    "OUTPUT FORMAT\n",
    "Return the HL7 FHIR structured information as a json string. denote the start and end of the json with a markdown codeblock:\n",
    "```json\n",
    "[RESOURCE HERE]\n",
    "```\n",
    "<</SYS>>\n",
    "\n",
    "CLINICAL NOTE\n",
    "{note}\n",
    "\n",
    "[/INST]\n",
    "\"\"\".format(note=dataset['test']['note'][0])"
   ],
   "metadata": {
    "id": "wzTyrgmLieyr"
   },
   "execution_count": 10,
   "outputs": []
  },
  {
   "cell_type": "code",
   "source": [
    "print(prompt)"
   ],
   "metadata": {
    "id": "vAr1S3bGjVHG",
    "colab": {
     "base_uri": "https://localhost:8080/"
    },
    "outputId": "8abbe6c3-1978-41f1-909c-56e92dabb0cc"
   },
   "execution_count": 11,
   "outputs": [
    {
     "output_type": "stream",
     "name": "stdout",
     "text": [
      "[INST] <<SYS>>\n",
      "INSTRUCTION\n",
      "Translate the following clinical note into HL7 FHIR R4 Format.\n",
      "- Do not insert any values that are not in the note.\n",
      "- Do not infer or impute any values\n",
      "- Only include information that is essential:\n",
      "    - information that is in the clinical note\n",
      "    - information that is mandatory for a valid FHIR resource.\n",
      "\n",
      "OUTPUT FORMAT\n",
      "Return the HL7 FHIR structured information as a json string. denote the start and end of the json with a markdown codeblock:\n",
      "```json\n",
      "[RESOURCE HERE]\n",
      "```\n",
      "<</SYS>>\n",
      "\n",
      "CLINICAL NOTE\n",
      "the information pertains to a collection of medical records associated with mr. chase olson. \n",
      "\n",
      "on the 17th of january, 2023, mr. olson visited dr. jude reynolds. the consultation commenced at 9:42 pm and concluded at 9:57 pm, as per the central european time. the nature of mr. olson's visit classified as an ambulatory patient encounter.\n",
      "\n",
      "additional background information about mr. olson: he was born on the 29th of november, 1966, which makes him a male of 57 years of age. he can be contacted through his home phone number 555-770-7639. he resides at 792 schumm fork unit 62, palmer, massachusetts, 01069, us. his communication preference is english, specifically the version spoken in the united states.\n",
      "\n",
      "regarding mr. olson’s health, it's important to mention an active and confirmed health condition he endures. he has an allergy towards a certain, unspecified substance, categorized as an environmental allergy.\n",
      "\n",
      "all of this information represents critical aspects of mr. olson’s health record and should be considered during each visit to ensure effective and appropriate care.\n",
      "\n",
      "[/INST]\n",
      "\n"
     ]
    }
   ]
  },
  {
   "cell_type": "markdown",
   "source": [
    "# Inference\n",
    "Now we ask our model to give us the original FHIR model back"
   ],
   "metadata": {
    "id": "cAS5u88Ftek2"
   }
  },
  {
   "cell_type": "code",
   "source": [
    "generator = pipeline(\n",
    "    model=model,\n",
    "    tokenizer=tokenizer,\n",
    "    task=\"text-generation\",\n",
    "    do_sample=False,\n",
    "    eos_token_id=model.config.eos_token_id,\n",
    "    max_length=4096)"
   ],
   "metadata": {
    "id": "TFzunm2lkGn5"
   },
   "execution_count": 12,
   "outputs": []
  },
  {
   "cell_type": "code",
   "source": [
    "with torch.autocast(\"cuda\"):\n",
    "  fhir_pred = generator(prompt)"
   ],
   "metadata": {
    "id": "VAPqBkaUk7LQ",
    "colab": {
     "base_uri": "https://localhost:8080/"
    },
    "outputId": "d0e44f9d-0c76-459b-882c-9f70241aa387"
   },
   "execution_count": 13,
   "outputs": [
    {
     "output_type": "stream",
     "name": "stderr",
     "text": [
      "/usr/local/lib/python3.10/dist-packages/transformers/generation/configuration_utils.py:381: UserWarning: `do_sample` is set to `False`. However, `temperature` is set to `0.6` -- this flag is only used in sample-based generation modes. You should set `do_sample=True` or unset `temperature`.\n",
      "  warnings.warn(\n",
      "/usr/local/lib/python3.10/dist-packages/transformers/generation/configuration_utils.py:386: UserWarning: `do_sample` is set to `False`. However, `top_p` is set to `0.9` -- this flag is only used in sample-based generation modes. You should set `do_sample=True` or unset `top_p`.\n",
      "  warnings.warn(\n"
     ]
    }
   ]
  },
  {
   "cell_type": "code",
   "source": [
    "fhir_pred = fhir_pred[0]['generated_text']"
   ],
   "metadata": {
    "id": "5PypQAMvkvdN"
   },
   "execution_count": 14,
   "outputs": []
  },
  {
   "cell_type": "markdown",
   "source": [
    "# Result\n",
    "First we load the json string into a dictionary and then we remove any None values.\n",
    "As you can see, the resulting FHIR closely resembles the original FHIR Bundle.\n",
    "An Encounter, a Patient and an AllergyIntolerance Resource are created."
   ],
   "metadata": {
    "id": "FfVAxe9ptpJG"
   }
  },
  {
   "cell_type": "code",
   "source": [
    "result = json.loads(fhir_pred.split(\"```\")[3][4:].strip(\" \\t\\n\\r\"))"
   ],
   "metadata": {
    "id": "dDogvS5xDKkd"
   },
   "execution_count": 15,
   "outputs": []
  },
  {
   "cell_type": "code",
   "source": [
    "for resource in result['entry']:\n",
    "  key_values = [(k, v) for k, v in resource['resource'].items()]\n",
    "  for k, v in key_values:\n",
    "    if v is None:\n",
    "      del resource['resource'][k]"
   ],
   "metadata": {
    "id": "HCHWVzyUu915"
   },
   "execution_count": 16,
   "outputs": []
  },
  {
   "cell_type": "code",
   "source": [
    "result"
   ],
   "metadata": {
    "colab": {
     "base_uri": "https://localhost:8080/"
    },
    "id": "wUrw2Cw8uk-t",
    "outputId": "fb57e0fc-de2a-4168-cd80-736df6f351a9"
   },
   "execution_count": 17,
   "outputs": [
    {
     "output_type": "execute_result",
     "data": {
      "text/plain": [
       "{'resourceType': 'Bundle',\n",
       " 'id': '1',\n",
       " 'type': 'collection',\n",
       " 'entry': [{'resource': {'resourceType': 'Encounter',\n",
       "    'id': '1',\n",
       "    'status': 'unknown',\n",
       "    'class': {'system': 'http://terminology.hl7.org/CodeSystem/v3-ActCode',\n",
       "     'code': 'AMB'},\n",
       "    'subject': {'reference': 'Patient/1', 'display': 'Mr. Chase Olson'},\n",
       "    'participant': [{'type': None,\n",
       "      'period': {'start': '2023-01-17T21:42:00+01:00',\n",
       "       'end': '2023-01-17T21:57:00+01:00'},\n",
       "      'individual': {'reference': 'Practitioner/1',\n",
       "       'display': 'Dr. Jude Reynolds'}}]}},\n",
       "  {'resource': {'resourceType': 'Patient',\n",
       "    'id': '1',\n",
       "    'name': [{'use': 'official',\n",
       "      'family': 'Olson',\n",
       "      'given': ['Chase'],\n",
       "      'prefix': ['Mr.']}],\n",
       "    'telecom': [{'system': 'phone', 'value': '555-770-7639', 'use': 'home'}],\n",
       "    'gender': 'male',\n",
       "    'birthDate': '1966-11-29',\n",
       "    'address': [{'line': ['792 Schumm Fork Unit 62'],\n",
       "      'city': 'Palmer',\n",
       "      'state': 'Massachusetts',\n",
       "      'postalCode': '01069',\n",
       "      'country': 'US'}],\n",
       "    'communication': [{'language': {'coding': [{'system': 'urn:ietf:bcp:47',\n",
       "         'code': 'en-US',\n",
       "         'display': 'English (United States)'}],\n",
       "       'text': 'English (United States)'}}]}},\n",
       "  {'resource': {'resourceType': 'AllergyIntolerance',\n",
       "    'id': '1',\n",
       "    'clinicalStatus': {'coding': [{'system': 'http://terminology.hl7.org/CodeSystem/allergyintolerance-clinical',\n",
       "       'code': 'active'}]},\n",
       "    'verificationStatus': {'coding': [{'system': 'http://terminology.hl7.org/CodeSystem/allergyintolerance-verification',\n",
       "       'code': 'confirmed'}]},\n",
       "    'type': 'allergy',\n",
       "    'category': ['environment'],\n",
       "    'patient': {'reference': 'Patient/1'}}}]}"
      ]
     },
     "metadata": {},
     "execution_count": 17
    }
   ]
  },
  {
   "cell_type": "markdown",
   "source": [
    "# Evaluation\n",
    "Does the model produce valid FHIR?"
   ],
   "metadata": {
    "id": "2njgGziLudcY"
   }
  },
  {
   "cell_type": "code",
   "source": [
    "from fhir.resources.R4B.bundle import Bundle"
   ],
   "metadata": {
    "id": "O2bin5XxuLGu"
   },
   "execution_count": 18,
   "outputs": []
  },
  {
   "cell_type": "code",
   "source": [
    "Bundle.parse_raw(json.dumps(result))"
   ],
   "metadata": {
    "colab": {
     "base_uri": "https://localhost:8080/"
    },
    "id": "j8zsgVznuRRZ",
    "outputId": "04bcbcc8-761e-4fd2-9940-db84b9587f70"
   },
   "execution_count": 19,
   "outputs": [
    {
     "output_type": "execute_result",
     "data": {
      "text/plain": [
       "Bundle(resource_type='Bundle', fhir_comments=None, id='1', implicitRules=None, implicitRules__ext=None, language=None, language__ext=None, meta=None, entry=[BundleEntry(resource_type='BundleEntry', fhir_comments=None, extension=None, id=None, modifierExtension=None, fullUrl=None, fullUrl__ext=None, link=None, request=None, resource=Encounter(resource_type='Encounter', fhir_comments=None, id='1', implicitRules=None, implicitRules__ext=None, language=None, language__ext=None, meta=None, contained=None, extension=None, modifierExtension=None, text=None, account=None, appointment=None, basedOn=None, classHistory=None, class_fhir=Coding(resource_type='Coding', fhir_comments=None, extension=None, id=None, code='AMB', code__ext=None, display=None, display__ext=None, system='http://terminology.hl7.org/CodeSystem/v3-ActCode', system__ext=None, userSelected=None, userSelected__ext=None, version=None, version__ext=None), diagnosis=None, episodeOfCare=None, hospitalization=None, identifier=None, length=None, location=None, partOf=None, participant=[EncounterParticipant(resource_type='EncounterParticipant', fhir_comments=None, extension=None, id=None, modifierExtension=None, individual=Reference(resource_type='Reference', fhir_comments=None, extension=None, id=None, display='Dr. Jude Reynolds', display__ext=None, identifier=None, reference='Practitioner/1', reference__ext=None, type=None, type__ext=None), period=Period(resource_type='Period', fhir_comments=None, extension=None, id=None, end=datetime.datetime(2023, 1, 17, 21, 57, tzinfo=datetime.timezone(datetime.timedelta(seconds=3600))), end__ext=None, start=datetime.datetime(2023, 1, 17, 21, 42, tzinfo=datetime.timezone(datetime.timedelta(seconds=3600))), start__ext=None), type=None)], period=None, priority=None, reasonCode=None, reasonReference=None, serviceProvider=None, serviceType=None, status='unknown', status__ext=None, statusHistory=None, subject=Reference(resource_type='Reference', fhir_comments=None, extension=None, id=None, display='Mr. Chase Olson', display__ext=None, identifier=None, reference='Patient/1', reference__ext=None, type=None, type__ext=None), type=None), response=None, search=None), BundleEntry(resource_type='BundleEntry', fhir_comments=None, extension=None, id=None, modifierExtension=None, fullUrl=None, fullUrl__ext=None, link=None, request=None, resource=Patient(resource_type='Patient', fhir_comments=None, id='1', implicitRules=None, implicitRules__ext=None, language=None, language__ext=None, meta=None, contained=None, extension=None, modifierExtension=None, text=None, active=None, active__ext=None, address=[Address(resource_type='Address', fhir_comments=None, extension=None, id=None, city='Palmer', city__ext=None, country='US', country__ext=None, district=None, district__ext=None, line=['792 Schumm Fork Unit 62'], line__ext=None, period=None, postalCode='01069', postalCode__ext=None, state='Massachusetts', state__ext=None, text=None, text__ext=None, type=None, type__ext=None, use=None, use__ext=None)], birthDate=datetime.date(1966, 11, 29), birthDate__ext=None, communication=[PatientCommunication(resource_type='PatientCommunication', fhir_comments=None, extension=None, id=None, modifierExtension=None, language=CodeableConcept(resource_type='CodeableConcept', fhir_comments=None, extension=None, id=None, coding=[Coding(resource_type='Coding', fhir_comments=None, extension=None, id=None, code='en-US', code__ext=None, display='English (United States)', display__ext=None, system='urn:ietf:bcp:47', system__ext=None, userSelected=None, userSelected__ext=None, version=None, version__ext=None)], text='English (United States)', text__ext=None), preferred=None, preferred__ext=None)], contact=None, deceasedBoolean=None, deceasedBoolean__ext=None, deceasedDateTime=None, deceasedDateTime__ext=None, gender='male', gender__ext=None, generalPractitioner=None, identifier=None, link=None, managingOrganization=None, maritalStatus=None, multipleBirthBoolean=None, multipleBirthBoolean__ext=None, multipleBirthInteger=None, multipleBirthInteger__ext=None, name=[HumanName(resource_type='HumanName', fhir_comments=None, extension=None, id=None, family='Olson', family__ext=None, given=['Chase'], given__ext=None, period=None, prefix=['Mr.'], prefix__ext=None, suffix=None, suffix__ext=None, text=None, text__ext=None, use='official', use__ext=None)], photo=None, telecom=[ContactPoint(resource_type='ContactPoint', fhir_comments=None, extension=None, id=None, period=None, rank=None, rank__ext=None, system='phone', system__ext=None, use='home', use__ext=None, value='555-770-7639', value__ext=None)]), response=None, search=None), BundleEntry(resource_type='BundleEntry', fhir_comments=None, extension=None, id=None, modifierExtension=None, fullUrl=None, fullUrl__ext=None, link=None, request=None, resource=AllergyIntolerance(resource_type='AllergyIntolerance', fhir_comments=None, id='1', implicitRules=None, implicitRules__ext=None, language=None, language__ext=None, meta=None, contained=None, extension=None, modifierExtension=None, text=None, asserter=None, category=['environment'], category__ext=None, clinicalStatus=CodeableConcept(resource_type='CodeableConcept', fhir_comments=None, extension=None, id=None, coding=[Coding(resource_type='Coding', fhir_comments=None, extension=None, id=None, code='active', code__ext=None, display=None, display__ext=None, system='http://terminology.hl7.org/CodeSystem/allergyintolerance-clinical', system__ext=None, userSelected=None, userSelected__ext=None, version=None, version__ext=None)], text=None, text__ext=None), code=None, criticality=None, criticality__ext=None, encounter=None, identifier=None, lastOccurrence=None, lastOccurrence__ext=None, note=None, onsetAge=None, onsetDateTime=None, onsetDateTime__ext=None, onsetPeriod=None, onsetRange=None, onsetString=None, onsetString__ext=None, patient=Reference(resource_type='Reference', fhir_comments=None, extension=None, id=None, display=None, display__ext=None, identifier=None, reference='Patient/1', reference__ext=None, type=None, type__ext=None), reaction=None, recordedDate=None, recordedDate__ext=None, recorder=None, type='allergy', type__ext=None, verificationStatus=CodeableConcept(resource_type='CodeableConcept', fhir_comments=None, extension=None, id=None, coding=[Coding(resource_type='Coding', fhir_comments=None, extension=None, id=None, code='confirmed', code__ext=None, display=None, display__ext=None, system='http://terminology.hl7.org/CodeSystem/allergyintolerance-verification', system__ext=None, userSelected=None, userSelected__ext=None, version=None, version__ext=None)], text=None, text__ext=None)), response=None, search=None)], identifier=None, link=None, signature=None, timestamp=None, timestamp__ext=None, total=None, total__ext=None, type='collection', type__ext=None)"
      ]
     },
     "metadata": {},
     "execution_count": 19
    }
   ]
  },
  {
   "cell_type": "code",
   "source": [],
   "metadata": {
    "id": "K9mtI0RkMYU4"
   },
   "execution_count": 19,
   "outputs": []
  }
 ]
}
