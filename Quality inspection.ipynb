{
 "cells": [
  {
   "cell_type": "markdown",
   "id": "509c1279",
   "metadata": {},
   "source": [
    "# 🔎 FHIR Difference: Quality Inspection 🔎\n",
    "\n",
    "Evaluating whether a generated/predicted Fhir resources is accurate is difficult due to the verbose nature of FHIR.\n",
    "The note_to_fhir.evaluation module makes this easier with:\n",
    "- A <b>FhirScore</b> object that tracks the number of changes/similarities w.r.t the ground truth throughout the whole depth of the fhir resource \n",
    "- A <b>FhirDiff</b> (tree) object contains all relevant details of the FHIR comparison, including the FhirScore at each level. \n",
    "- Visualizations for the above FhirDiff and FhirScore"
   ]
  },
  {
   "cell_type": "code",
   "execution_count": 32,
   "id": "511e9c67",
   "metadata": {},
   "outputs": [],
   "source": [
    "from src.note_to_fhir.evaluation.datamodels import FhirScore, FhirDiff\n",
    "import os\n",
    "from src.note_to_fhir.evaluation.datamodels import FhirDiff\n",
    "from src.note_to_fhir.evaluation.utils import get_diff, diff_to_list, diff_to_dataframe, compare_leaf, get_resource_details, get_resource_class, diff_to_dataframe\n",
    "from src.note_to_fhir.evaluation.visuals import show_diff\n",
    "from datasets import load_dataset\n",
    "import json"
   ]
  },
  {
   "cell_type": "code",
   "execution_count": 33,
   "id": "0f64d1f8",
   "metadata": {},
   "outputs": [],
   "source": [
    "testset = load_dataset(\"healthsage/example_fhir_output\")"
   ]
  },
  {
   "cell_type": "code",
   "execution_count": 34,
   "id": "9aadbb31",
   "metadata": {},
   "outputs": [],
   "source": [
    "fhir_true = json.loads(testset[\"train\"][\"fhir_true\"][0])\n",
    "fhir_pred = json.loads(testset[\"train\"][\"note_to_fhir\"][0])"
   ]
  },
  {
   "cell_type": "markdown",
   "id": "a595eaba",
   "metadata": {},
   "source": [
    "### 🌲 FHIR JSON trees\n",
    "A dictionary representation of FHIR has a tree structure. On the root level, we find the dataset, which consists of bundles. Each bundle has entries with resources that can contain nested resources of an arbitrary depth. E.g.:"
   ]
  },
  {
   "cell_type": "markdown",
   "id": "d061248c",
   "metadata": {},
   "source": [
    "- Dataset\n",
    "  - Bundle\n",
    "    - BundleEntry\n",
    "       - Resource (Encounter, Condition, Patient, etc.)\n",
    "           - Resource element\n",
    "                - Nested Resource\n",
    "                    - Nested Resource\n",
    "    - Bundle Entry\n",
    "        - ...\n",
    "  - Bundle\n",
    "                "
   ]
  },
  {
   "cell_type": "markdown",
   "id": "623bdecb",
   "metadata": {},
   "source": [
    "The note_to_fhir.evaluation module follows this tree structure."
   ]
  },
  {
   "cell_type": "markdown",
   "id": "ebbc123e",
   "metadata": {},
   "source": [
    "### 🍀 Evaluating leaf nodes"
   ]
  },
  {
   "cell_type": "markdown",
   "id": "4149bc69",
   "metadata": {},
   "source": [
    "The most elemental comparison that can be done is that of the leaf nodes. The FhirScore object can represent the difference between two leaf nodes"
   ]
  },
  {
   "cell_type": "markdown",
   "id": "f04813dd",
   "metadata": {},
   "source": [
    "### 🚦The FhirScore Object"
   ]
  },
  {
   "cell_type": "code",
   "execution_count": 35,
   "id": "8c0f71ac",
   "metadata": {},
   "outputs": [
    {
     "data": {
      "text/plain": [
       "FhirScore(n_leaves=0, n_additions=0, n_deletions=0, n_modifications=0, n_matches=0, is_valid=None, accuracy=0.0, precision=0.0, recall=0.0)"
      ]
     },
     "execution_count": 35,
     "metadata": {},
     "output_type": "execute_result"
    }
   ],
   "source": [
    "score = FhirScore()\n",
    "score"
   ]
  },
  {
   "cell_type": "markdown",
   "id": "916a6515",
   "metadata": {},
   "source": [
    "#### 🍀 Base example: comparing a and b with compare leaf "
   ]
  },
  {
   "cell_type": "code",
   "execution_count": 36,
   "id": "ac1730f3",
   "metadata": {},
   "outputs": [
    {
     "name": "stdout",
     "output_type": "stream",
     "text": [
      "Compares two leaf nodes of a FHIR structure\n",
      "\n",
      "    Args:\n",
      "        element_true (any): The ground truth fhir element\n",
      "        element_pred (any): The predicted fhir element\n",
      "\n",
      "    Returns:\n",
      "        FhirScore: object containing score for the leaf node.\n",
      "    \n"
     ]
    }
   ],
   "source": [
    "print(compare_leaf.__doc__)"
   ]
  },
  {
   "cell_type": "code",
   "execution_count": 37,
   "id": "56e88760",
   "metadata": {},
   "outputs": [
    {
     "data": {
      "text/plain": [
       "FhirScore(n_leaves=1, n_additions=0, n_deletions=0, n_modifications=0, n_matches=1, is_valid=None, accuracy=1.0, precision=1.0, recall=1.0)"
      ]
     },
     "execution_count": 37,
     "metadata": {},
     "output_type": "execute_result"
    }
   ],
   "source": [
    "compare_leaf(\"a\", \"a\")"
   ]
  },
  {
   "cell_type": "code",
   "execution_count": 38,
   "id": "82fe6623",
   "metadata": {},
   "outputs": [
    {
     "data": {
      "text/plain": [
       "FhirScore(n_leaves=1, n_additions=0, n_deletions=0, n_modifications=1, n_matches=0, is_valid=None, accuracy=0.0, precision=0.0, recall=0.0)"
      ]
     },
     "execution_count": 38,
     "metadata": {},
     "output_type": "execute_result"
    }
   ],
   "source": [
    "compare_leaf(\"a\", \"b\")"
   ]
  },
  {
   "cell_type": "code",
   "execution_count": 39,
   "id": "922f6a49",
   "metadata": {},
   "outputs": [
    {
     "data": {
      "text/plain": [
       "FhirScore(n_leaves=1, n_additions=0, n_deletions=1, n_modifications=0, n_matches=0, is_valid=None, accuracy=0.0, precision=0.0, recall=0.0)"
      ]
     },
     "execution_count": 39,
     "metadata": {},
     "output_type": "execute_result"
    }
   ],
   "source": [
    "compare_leaf(\"a\", None)"
   ]
  },
  {
   "cell_type": "code",
   "execution_count": 40,
   "id": "964b484a",
   "metadata": {},
   "outputs": [
    {
     "data": {
      "text/plain": [
       "FhirScore(n_leaves=1, n_additions=1, n_deletions=0, n_modifications=0, n_matches=0, is_valid=None, accuracy=0.0, precision=0.0, recall=0.0)"
      ]
     },
     "execution_count": 40,
     "metadata": {},
     "output_type": "execute_result"
    }
   ],
   "source": [
    "compare_leaf(None, \"a\")"
   ]
  },
  {
   "cell_type": "markdown",
   "id": "6139ba39",
   "metadata": {},
   "source": [
    "### 🧮 You can add / sum FhirScores together\n",
    "The score of a given element in the Fhir Tree is essentially the sum of its parts. Therefore, you can add FhirScores."
   ]
  },
  {
   "cell_type": "code",
   "execution_count": 41,
   "id": "74acd2c1",
   "metadata": {},
   "outputs": [],
   "source": [
    "score_a = compare_leaf(\"a\", \"a\")\n",
    "score_b = compare_leaf(\"a\", \"b\")"
   ]
  },
  {
   "cell_type": "code",
   "execution_count": 42,
   "id": "b05bb936",
   "metadata": {},
   "outputs": [
    {
     "data": {
      "text/plain": [
       "FhirScore(n_leaves=2, n_additions=0, n_deletions=0, n_modifications=1, n_matches=1, is_valid=None, accuracy=0.5, precision=0.5, recall=0.5)"
      ]
     },
     "execution_count": 42,
     "metadata": {},
     "output_type": "execute_result"
    }
   ],
   "source": [
    "score_a + score_b"
   ]
  },
  {
   "cell_type": "code",
   "execution_count": 43,
   "id": "d283bcdc",
   "metadata": {},
   "outputs": [
    {
     "data": {
      "text/plain": [
       "FhirScore(n_leaves=2, n_additions=0, n_deletions=0, n_modifications=1, n_matches=1, is_valid=None, accuracy=0.5, precision=0.5, recall=0.5)"
      ]
     },
     "execution_count": 43,
     "metadata": {},
     "output_type": "execute_result"
    }
   ],
   "source": [
    "sum([compare_leaf(\"a\", \"a\"), compare_leaf(\"a\", \"b\")])"
   ]
  },
  {
   "cell_type": "code",
   "execution_count": 44,
   "id": "6fb02c1b",
   "metadata": {},
   "outputs": [
    {
     "data": {
      "text/plain": [
       "FhirScore(n_leaves=1, n_additions=0, n_deletions=0, n_modifications=0, n_matches=1, is_valid=None, accuracy=1.0, precision=1.0, recall=1.0)"
      ]
     },
     "execution_count": 44,
     "metadata": {},
     "output_type": "execute_result"
    }
   ],
   "source": [
    "sum([compare_leaf(\"a\", \"a\")])"
   ]
  },
  {
   "cell_type": "markdown",
   "id": "f5dac0ba",
   "metadata": {},
   "source": [
    "### ↔️ The FhirDiff object"
   ]
  },
  {
   "cell_type": "markdown",
   "id": "a8121111",
   "metadata": {},
   "source": [
    "Sample data"
   ]
  },
  {
   "cell_type": "markdown",
   "id": "f1a2614c",
   "metadata": {},
   "source": [
    " 💬 Example ground truth Encounter"
   ]
  },
  {
   "cell_type": "code",
   "execution_count": 45,
   "id": "085382ff",
   "metadata": {},
   "outputs": [],
   "source": [
    "encounter_true, encounter_pred  = fhir_true['entry'][0], fhir_pred['entry'][0]"
   ]
  },
  {
   "cell_type": "code",
   "execution_count": 46,
   "id": "2b7d5359",
   "metadata": {},
   "outputs": [
    {
     "data": {
      "text/plain": [
       "{'resource': {'resourceType': 'Encounter',\n",
       "  'id': '1',\n",
       "  'status': 'finished',\n",
       "  'class': {'system': 'http://terminology.hl7.org/CodeSystem/v3-ActCode',\n",
       "   'code': 'AMB'},\n",
       "  'type': None,\n",
       "  'subject': {'reference': 'Patient/1', 'display': 'Mr. Chase Olson'},\n",
       "  'participant': [{'type': [{'coding': [{'system': 'http://terminology.hl7.org/CodeSystem/v3-ParticipationType',\n",
       "        'code': 'PPRF',\n",
       "        'display': 'primary performer'}],\n",
       "      'text': 'primary performer'}],\n",
       "    'period': {'start': '2023-01-17T21:42:36+01:00',\n",
       "     'end': '2023-01-17T21:57:36+01:00'},\n",
       "    'individual': {'reference': 'Practitioner/1',\n",
       "     'display': 'Dr. Jude Reynolds'}}],\n",
       "  'period': {'start': '2023-01-17T21:42:36+01:00',\n",
       "   'end': '2023-01-17T21:57:36+01:00'},\n",
       "  'reasonCode': None,\n",
       "  'serviceProvider': None}}"
      ]
     },
     "execution_count": 46,
     "metadata": {},
     "output_type": "execute_result"
    }
   ],
   "source": [
    "encounter_true"
   ]
  },
  {
   "cell_type": "code",
   "execution_count": 47,
   "id": "00e70744",
   "metadata": {},
   "outputs": [
    {
     "data": {
      "text/plain": [
       "{'resource': {'resourceType': 'Encounter',\n",
       "  'id': '1',\n",
       "  'status': 'unknown',\n",
       "  'class': {'system': 'http://terminology.hl7.org/CodeSystem/v3-ActCode',\n",
       "   'code': 'AMB'},\n",
       "  'type': None,\n",
       "  'subject': {'reference': 'Patient/1', 'display': 'Mr. Chase Olson'},\n",
       "  'participant': [{'type': None,\n",
       "    'period': {'start': '2023-01-17T21:42:00+01:00',\n",
       "     'end': '2023-01-17T21:57:00+01:00'},\n",
       "    'individual': {'reference': 'Practitioner/1',\n",
       "     'display': 'Dr. Jude Reynolds'}}],\n",
       "  'period': None,\n",
       "  'reasonCode': None,\n",
       "  'serviceProvider': None}}"
      ]
     },
     "execution_count": 47,
     "metadata": {},
     "output_type": "execute_result"
    }
   ],
   "source": [
    "encounter_pred"
   ]
  },
  {
   "cell_type": "code",
   "execution_count": 48,
   "id": "aa9c2c7d",
   "metadata": {},
   "outputs": [
    {
     "name": "stdout",
     "output_type": "stream",
     "text": [
      "Calculate the FhirDiff object for comparing two FHIR resources.\n",
      "\n",
      "    Args:\n",
      "        fhir_true (dict): The ground truth FHIR resource\n",
      "        fhir_pred (dict): The predicted/generated FHIR resource\n",
      "        resource_type (str): The resource type\n",
      "\n",
      "    Returns:\n",
      "        FhirDiff: Tree object containing the fhir to be compared.\n",
      "    \n"
     ]
    }
   ],
   "source": [
    "print(get_diff.__doc__)"
   ]
  },
  {
   "cell_type": "code",
   "execution_count": 49,
   "id": "f62d2fcd",
   "metadata": {},
   "outputs": [],
   "source": [
    "diff = get_diff(encounter_true, encounter_pred, resource_type=\"BundleEntry\")"
   ]
  },
  {
   "cell_type": "code",
   "execution_count": 50,
   "id": "a3e72094",
   "metadata": {},
   "outputs": [
    {
     "data": {
      "text/plain": [
       "{'resource': {'resourceType': 'Encounter',\n",
       "  'id': '1',\n",
       "  'status': 'finished',\n",
       "  'class': {'system': 'http://terminology.hl7.org/CodeSystem/v3-ActCode',\n",
       "   'code': 'AMB'},\n",
       "  'type': None,\n",
       "  'subject': {'reference': 'Patient/1', 'display': 'Mr. Chase Olson'},\n",
       "  'participant': [{'type': [{'coding': [{'system': 'http://terminology.hl7.org/CodeSystem/v3-ParticipationType',\n",
       "        'code': 'PPRF',\n",
       "        'display': 'primary performer'}],\n",
       "      'text': 'primary performer'}],\n",
       "    'period': {'start': '2023-01-17T21:42:36+01:00',\n",
       "     'end': '2023-01-17T21:57:36+01:00'},\n",
       "    'individual': {'reference': 'Practitioner/1',\n",
       "     'display': 'Dr. Jude Reynolds'}}],\n",
       "  'period': {'start': '2023-01-17T21:42:36+01:00',\n",
       "   'end': '2023-01-17T21:57:36+01:00'},\n",
       "  'reasonCode': None,\n",
       "  'serviceProvider': None}}"
      ]
     },
     "execution_count": 50,
     "metadata": {},
     "output_type": "execute_result"
    }
   ],
   "source": [
    "encounter_true"
   ]
  },
  {
   "cell_type": "code",
   "execution_count": 51,
   "id": "3a07a4cd",
   "metadata": {},
   "outputs": [
    {
     "data": {
      "text/plain": [
       "FhirScore(n_leaves=16, n_additions=0, n_deletions=6, n_modifications=3, n_matches=7, is_valid=None, accuracy=0.4375, precision=0.7, recall=0.4375)"
      ]
     },
     "execution_count": 51,
     "metadata": {},
     "output_type": "execute_result"
    }
   ],
   "source": [
    "diff.score"
   ]
  },
  {
   "cell_type": "markdown",
   "id": "c7fb0551",
   "metadata": {},
   "source": [
    "### The score shows:\n",
    "- There are 16 leaf elements in both resources   \n",
    "-----> 7 were identical   \n",
    "-----> 6 are missing in the prediction (n_deletions). This impacts recall score   \n",
    "-----> 3 are changed (n_modifications). This impacts accuracy and precision   \n",
    "-----> 0 are added (n_additions), meaning there are no hallucinations   "
   ]
  },
  {
   "cell_type": "markdown",
   "id": "2e72db26",
   "metadata": {},
   "source": [
    "### We can navigate the Diff tree and see the score at each node. For instance, the \"participant field\""
   ]
  },
  {
   "cell_type": "code",
   "execution_count": 52,
   "id": "0973c19d",
   "metadata": {},
   "outputs": [
    {
     "data": {
      "text/plain": [
       "FhirScore(n_leaves=8, n_additions=0, n_deletions=4, n_modifications=2, n_matches=2, is_valid=None, accuracy=0.25, precision=0.5, recall=0.25)"
      ]
     },
     "execution_count": 52,
     "metadata": {},
     "output_type": "execute_result"
    }
   ],
   "source": [
    "diff.children['resource'].children['participant'][0].score"
   ]
  },
  {
   "cell_type": "markdown",
   "id": "c5a0cad9",
   "metadata": {},
   "source": [
    "# 📊 Visualization"
   ]
  },
  {
   "cell_type": "code",
   "execution_count": 53,
   "id": "e573263d",
   "metadata": {},
   "outputs": [
    {
     "name": "stdout",
     "output_type": "stream",
     "text": [
      "Produces a treemap visualization of the FhirDiff object in plotly\n",
      "\n",
      "    Args:\n",
      "        diff (FhirDiff): Processed FhirDiff object with scores calculated.\n",
      "    \n"
     ]
    }
   ],
   "source": [
    "print(show_diff.__doc__)"
   ]
  },
  {
   "cell_type": "code",
   "execution_count": 54,
   "id": "e2db156a",
   "metadata": {},
   "outputs": [
    {
     "data": {
      "application/vnd.plotly.v1+json": {
       "config": {
        "plotlyServerURL": "https://plot.ly"
       },
       "data": [
        {
         "hoverinfo": "text",
         "hovertext": [
          "n_leaves=16 n_additions=0 n_deletions=6 n_modifications=3 n_matches=7 is_valid=None accuracy=0.4375 precision=0.7 recall=0.4375<br><i>true: </i>{'resource': {...}, 'resourceType': {}}<br><i>pred: </i>{'resource': {...}}",
          "n_leaves=16 n_additions=0 n_deletions=6 n_modifications=3 n_matches=7 is_valid=None accuracy=0.4375 precision=0.7 recall=0.4375<br><i>true: </i>{'class': {...},<br><i>...8 lines...</i><br> 'type': None}<br><i>pred: </i>{'class': {...},<br><i>...8 lines...</i><br> 'type': None}",
          "n_leaves=1 n_additions=0 n_deletions=0 n_modifications=0 n_matches=1 is_valid=None accuracy=1.0 precision=1.0 recall=1.0<br><i>true: </i>'1'<br><i>pred: </i>'1'",
          "n_leaves=2 n_additions=0 n_deletions=0 n_modifications=0 n_matches=2 is_valid=None accuracy=1.0 precision=1.0 recall=1.0<br><i>true: </i>{'code': 'AMB',<br> 'resourceType': {},<br> 'system': 'http://terminology.hl7.org/CodeSystem/v3-ActCode'}<br><i>pred: </i>{'code': 'AMB', 'system': 'http://terminology.hl7.org/CodeSystem/v3-ActCode'}",
          "n_leaves=1 n_additions=0 n_deletions=0 n_modifications=0 n_matches=1 is_valid=None accuracy=1.0 precision=1.0 recall=1.0<br><i>true: </i>'AMB'<br><i>pred: </i>'AMB'",
          "n_leaves=1 n_additions=0 n_deletions=0 n_modifications=0 n_matches=1 is_valid=None accuracy=1.0 precision=1.0 recall=1.0<br><i>true: </i>'http://terminology.hl7.org/CodeSystem/v3-ActCode'<br><i>pred: </i>'http://terminology.hl7.org/CodeSystem/v3-ActCode'",
          "n_leaves=8 n_additions=0 n_deletions=4 n_modifications=2 n_matches=2 is_valid=None accuracy=0.25 precision=0.5 recall=0.25<br><i>true: </i>{'individual': {...}, 'period': {...}, 'resourceType': {}, 'type': [...]}<br><i>pred: </i>{'individual': {...}, 'period': {...}, 'type': None}",
          "n_leaves=2 n_additions=0 n_deletions=0 n_modifications=0 n_matches=2 is_valid=None accuracy=1.0 precision=1.0 recall=1.0<br><i>true: </i>{'display': 'Dr. Jude Reynolds',<br> 'reference': 'Practitioner/1',<br> 'resourceType': {}}<br><i>pred: </i>{'display': 'Dr. Jude Reynolds', 'reference': 'Practitioner/1'}",
          "n_leaves=1 n_additions=0 n_deletions=0 n_modifications=0 n_matches=1 is_valid=None accuracy=1.0 precision=1.0 recall=1.0<br><i>true: </i>'Dr. Jude Reynolds'<br><i>pred: </i>'Dr. Jude Reynolds'",
          "n_leaves=1 n_additions=0 n_deletions=0 n_modifications=0 n_matches=1 is_valid=None accuracy=1.0 precision=1.0 recall=1.0<br><i>true: </i>'Practitioner/1'<br><i>pred: </i>'Practitioner/1'",
          "n_leaves=2 n_additions=0 n_deletions=0 n_modifications=2 n_matches=0 is_valid=None accuracy=0.0 precision=0.0 recall=0.0<br><i>true: </i>{'end': '2023-01-17T21:57:36+01:00',<br> 'resourceType': {},<br> 'start': '2023-01-17T21:42:36+01:00'}<br><i>pred: </i>{'end': '2023-01-17T21:57:00+01:00', 'start': '2023-01-17T21:42:00+01:00'}",
          "n_leaves=1 n_additions=0 n_deletions=0 n_modifications=1 n_matches=0 is_valid=None accuracy=0.0 precision=0.0 recall=0.0<br><i>true: </i>'2023-01-17T21:57:36+01:00'<br><i>pred: </i>'2023-01-17T21:57:00+01:00'",
          "n_leaves=1 n_additions=0 n_deletions=0 n_modifications=1 n_matches=0 is_valid=None accuracy=0.0 precision=0.0 recall=0.0<br><i>true: </i>'2023-01-17T21:42:36+01:00'<br><i>pred: </i>'2023-01-17T21:42:00+01:00'",
          "n_leaves=4 n_additions=0 n_deletions=4 n_modifications=0 n_matches=0 is_valid=None accuracy=0.0 precision=0.0 recall=0.0<br><i>true: </i>{'coding': [...], 'resourceType': {}, 'text': 'primary performer'}<br><i>pred: </i>{'coding': [], 'text': {}}",
          "n_leaves=3 n_additions=0 n_deletions=3 n_modifications=0 n_matches=0 is_valid=None accuracy=0.0 precision=0.0 recall=0.0<br><i>true: </i>{'code': 'PPRF',<br><i>...2 lines...</i><br> 'system': 'http://terminology.hl7.org/CodeSystem/v3-ParticipationType'}<br><i>pred: </i>{'code': {}, 'display': {}, 'system': {}}",
          "n_leaves=1 n_additions=0 n_deletions=1 n_modifications=0 n_matches=0 is_valid=None accuracy=0.0 precision=0.0 recall=0.0<br><i>true: </i>'PPRF'<br><i>pred: </i>{}",
          "n_leaves=1 n_additions=0 n_deletions=1 n_modifications=0 n_matches=0 is_valid=None accuracy=0.0 precision=0.0 recall=0.0<br><i>true: </i>'primary performer'<br><i>pred: </i>{}",
          "n_leaves=1 n_additions=0 n_deletions=1 n_modifications=0 n_matches=0 is_valid=None accuracy=0.0 precision=0.0 recall=0.0<br><i>true: </i>'http://terminology.hl7.org/CodeSystem/v3-ParticipationType'<br><i>pred: </i>{}",
          "n_leaves=1 n_additions=0 n_deletions=1 n_modifications=0 n_matches=0 is_valid=None accuracy=0.0 precision=0.0 recall=0.0<br><i>true: </i>'primary performer'<br><i>pred: </i>{}",
          "n_leaves=2 n_additions=0 n_deletions=2 n_modifications=0 n_matches=0 is_valid=None accuracy=0.0 precision=0.0 recall=0.0<br><i>true: </i>{'end': '2023-01-17T21:57:36+01:00',<br> 'resourceType': {},<br> 'start': '2023-01-17T21:42:36+01:00'}<br><i>pred: </i>{'end': {}, 'start': {}}",
          "n_leaves=1 n_additions=0 n_deletions=1 n_modifications=0 n_matches=0 is_valid=None accuracy=0.0 precision=0.0 recall=0.0<br><i>true: </i>'2023-01-17T21:57:36+01:00'<br><i>pred: </i>{}",
          "n_leaves=1 n_additions=0 n_deletions=1 n_modifications=0 n_matches=0 is_valid=None accuracy=0.0 precision=0.0 recall=0.0<br><i>true: </i>'2023-01-17T21:42:36+01:00'<br><i>pred: </i>{}",
          "n_leaves=1 n_additions=0 n_deletions=0 n_modifications=1 n_matches=0 is_valid=None accuracy=0.0 precision=0.0 recall=0.0<br><i>true: </i>'finished'<br><i>pred: </i>'unknown'",
          "n_leaves=2 n_additions=0 n_deletions=0 n_modifications=0 n_matches=2 is_valid=None accuracy=1.0 precision=1.0 recall=1.0<br><i>true: </i>{'display': 'Mr. Chase Olson', 'reference': 'Patient/1', 'resourceType': {}}<br><i>pred: </i>{'display': 'Mr. Chase Olson', 'reference': 'Patient/1'}",
          "n_leaves=1 n_additions=0 n_deletions=0 n_modifications=0 n_matches=1 is_valid=None accuracy=1.0 precision=1.0 recall=1.0<br><i>true: </i>'Mr. Chase Olson'<br><i>pred: </i>'Mr. Chase Olson'",
          "n_leaves=1 n_additions=0 n_deletions=0 n_modifications=0 n_matches=1 is_valid=None accuracy=1.0 precision=1.0 recall=1.0<br><i>true: </i>'Patient/1'<br><i>pred: </i>'Patient/1'"
         ],
         "labels": [
          "BundleEntry",
          "BundleEntry.Encounter",
          "BundleEntry.Encounter.id",
          "BundleEntry.Encounter.class",
          "BundleEntry.Encounter.class.code",
          "BundleEntry.Encounter.class.system",
          "BundleEntry.Encounter.participant.0",
          "BundleEntry.Encounter.participant.0.individual",
          "BundleEntry.Encounter.participant.0.individual.display",
          "BundleEntry.Encounter.participant.0.individual.reference",
          "BundleEntry.Encounter.participant.0.period",
          "BundleEntry.Encounter.participant.0.period.end",
          "BundleEntry.Encounter.participant.0.period.start",
          "BundleEntry.Encounter.participant.0.type.0",
          "BundleEntry.Encounter.participant.0.type.0.coding.0",
          "BundleEntry.Encounter.participant.0.type.0.coding.0.code",
          "BundleEntry.Encounter.participant.0.type.0.coding.0.display",
          "BundleEntry.Encounter.participant.0.type.0.coding.0.system",
          "BundleEntry.Encounter.participant.0.type.0.text",
          "BundleEntry.Encounter.period",
          "BundleEntry.Encounter.period.end",
          "BundleEntry.Encounter.period.start",
          "BundleEntry.Encounter.status",
          "BundleEntry.Encounter.subject",
          "BundleEntry.Encounter.subject.display",
          "BundleEntry.Encounter.subject.reference"
         ],
         "marker": {
          "cmid": 0.5,
          "colors": [
           0.4375,
           0.4375,
           1,
           1,
           1,
           1,
           0.25,
           1,
           1,
           1,
           0,
           0,
           0,
           0,
           0,
           0,
           0,
           0,
           0,
           0,
           0,
           0,
           0,
           1,
           1,
           1
          ],
          "colorscale": [
           [
            0,
            "rgb(103,0,31)"
           ],
           [
            0.1,
            "rgb(178,24,43)"
           ],
           [
            0.2,
            "rgb(214,96,77)"
           ],
           [
            0.3,
            "rgb(244,165,130)"
           ],
           [
            0.4,
            "rgb(253,219,199)"
           ],
           [
            0.5,
            "rgb(247,247,247)"
           ],
           [
            0.6,
            "rgb(209,229,240)"
           ],
           [
            0.7,
            "rgb(146,197,222)"
           ],
           [
            0.8,
            "rgb(67,147,195)"
           ],
           [
            0.9,
            "rgb(33,102,172)"
           ],
           [
            1,
            "rgb(5,48,97)"
           ]
          ],
          "cornerradius": 5
         },
         "parents": [
          "",
          "BundleEntry",
          "BundleEntry.Encounter",
          "BundleEntry.Encounter",
          "BundleEntry.Encounter.class",
          "BundleEntry.Encounter.class",
          "BundleEntry.Encounter",
          "BundleEntry.Encounter.participant.0",
          "BundleEntry.Encounter.participant.0.individual",
          "BundleEntry.Encounter.participant.0.individual",
          "BundleEntry.Encounter.participant.0",
          "BundleEntry.Encounter.participant.0.period",
          "BundleEntry.Encounter.participant.0.period",
          "BundleEntry.Encounter.participant.0",
          "BundleEntry.Encounter.participant.0.type.0",
          "BundleEntry.Encounter.participant.0.type.0.coding.0",
          "BundleEntry.Encounter.participant.0.type.0.coding.0",
          "BundleEntry.Encounter.participant.0.type.0.coding.0",
          "BundleEntry.Encounter.participant.0.type.0",
          "BundleEntry.Encounter",
          "BundleEntry.Encounter.period",
          "BundleEntry.Encounter.period",
          "BundleEntry.Encounter",
          "BundleEntry.Encounter",
          "BundleEntry.Encounter.subject",
          "BundleEntry.Encounter.subject"
         ],
         "text": [
          "BundleEntry",
          "Encounter",
          "id",
          "class",
          "code",
          "system",
          [
           "participant",
           "0"
          ],
          "individual",
          "display",
          "reference",
          "period",
          "end",
          "start",
          [
           "type",
           "0"
          ],
          [
           "coding",
           "0"
          ],
          "code",
          "display",
          "system",
          "text",
          "period",
          "end",
          "start",
          "status",
          "subject",
          "display",
          "reference"
         ],
         "textinfo": "text",
         "type": "treemap",
         "values": [
          9,
          8,
          7,
          7,
          6,
          6,
          6,
          5,
          4,
          4,
          5,
          4,
          4,
          4,
          2,
          1,
          1,
          1,
          3,
          7,
          6,
          6,
          7,
          7,
          6,
          6
         ]
        }
       ],
       "layout": {
        "margin": {
         "b": 25,
         "l": 25,
         "r": 25,
         "t": 50
        },
        "template": {
         "data": {
          "bar": [
           {
            "error_x": {
             "color": "#2a3f5f"
            },
            "error_y": {
             "color": "#2a3f5f"
            },
            "marker": {
             "line": {
              "color": "#E5ECF6",
              "width": 0.5
             },
             "pattern": {
              "fillmode": "overlay",
              "size": 10,
              "solidity": 0.2
             }
            },
            "type": "bar"
           }
          ],
          "barpolar": [
           {
            "marker": {
             "line": {
              "color": "#E5ECF6",
              "width": 0.5
             },
             "pattern": {
              "fillmode": "overlay",
              "size": 10,
              "solidity": 0.2
             }
            },
            "type": "barpolar"
           }
          ],
          "carpet": [
           {
            "aaxis": {
             "endlinecolor": "#2a3f5f",
             "gridcolor": "white",
             "linecolor": "white",
             "minorgridcolor": "white",
             "startlinecolor": "#2a3f5f"
            },
            "baxis": {
             "endlinecolor": "#2a3f5f",
             "gridcolor": "white",
             "linecolor": "white",
             "minorgridcolor": "white",
             "startlinecolor": "#2a3f5f"
            },
            "type": "carpet"
           }
          ],
          "choropleth": [
           {
            "colorbar": {
             "outlinewidth": 0,
             "ticks": ""
            },
            "type": "choropleth"
           }
          ],
          "contour": [
           {
            "colorbar": {
             "outlinewidth": 0,
             "ticks": ""
            },
            "colorscale": [
             [
              0,
              "#0d0887"
             ],
             [
              0.1111111111111111,
              "#46039f"
             ],
             [
              0.2222222222222222,
              "#7201a8"
             ],
             [
              0.3333333333333333,
              "#9c179e"
             ],
             [
              0.4444444444444444,
              "#bd3786"
             ],
             [
              0.5555555555555556,
              "#d8576b"
             ],
             [
              0.6666666666666666,
              "#ed7953"
             ],
             [
              0.7777777777777778,
              "#fb9f3a"
             ],
             [
              0.8888888888888888,
              "#fdca26"
             ],
             [
              1,
              "#f0f921"
             ]
            ],
            "type": "contour"
           }
          ],
          "contourcarpet": [
           {
            "colorbar": {
             "outlinewidth": 0,
             "ticks": ""
            },
            "type": "contourcarpet"
           }
          ],
          "heatmap": [
           {
            "colorbar": {
             "outlinewidth": 0,
             "ticks": ""
            },
            "colorscale": [
             [
              0,
              "#0d0887"
             ],
             [
              0.1111111111111111,
              "#46039f"
             ],
             [
              0.2222222222222222,
              "#7201a8"
             ],
             [
              0.3333333333333333,
              "#9c179e"
             ],
             [
              0.4444444444444444,
              "#bd3786"
             ],
             [
              0.5555555555555556,
              "#d8576b"
             ],
             [
              0.6666666666666666,
              "#ed7953"
             ],
             [
              0.7777777777777778,
              "#fb9f3a"
             ],
             [
              0.8888888888888888,
              "#fdca26"
             ],
             [
              1,
              "#f0f921"
             ]
            ],
            "type": "heatmap"
           }
          ],
          "heatmapgl": [
           {
            "colorbar": {
             "outlinewidth": 0,
             "ticks": ""
            },
            "colorscale": [
             [
              0,
              "#0d0887"
             ],
             [
              0.1111111111111111,
              "#46039f"
             ],
             [
              0.2222222222222222,
              "#7201a8"
             ],
             [
              0.3333333333333333,
              "#9c179e"
             ],
             [
              0.4444444444444444,
              "#bd3786"
             ],
             [
              0.5555555555555556,
              "#d8576b"
             ],
             [
              0.6666666666666666,
              "#ed7953"
             ],
             [
              0.7777777777777778,
              "#fb9f3a"
             ],
             [
              0.8888888888888888,
              "#fdca26"
             ],
             [
              1,
              "#f0f921"
             ]
            ],
            "type": "heatmapgl"
           }
          ],
          "histogram": [
           {
            "marker": {
             "pattern": {
              "fillmode": "overlay",
              "size": 10,
              "solidity": 0.2
             }
            },
            "type": "histogram"
           }
          ],
          "histogram2d": [
           {
            "colorbar": {
             "outlinewidth": 0,
             "ticks": ""
            },
            "colorscale": [
             [
              0,
              "#0d0887"
             ],
             [
              0.1111111111111111,
              "#46039f"
             ],
             [
              0.2222222222222222,
              "#7201a8"
             ],
             [
              0.3333333333333333,
              "#9c179e"
             ],
             [
              0.4444444444444444,
              "#bd3786"
             ],
             [
              0.5555555555555556,
              "#d8576b"
             ],
             [
              0.6666666666666666,
              "#ed7953"
             ],
             [
              0.7777777777777778,
              "#fb9f3a"
             ],
             [
              0.8888888888888888,
              "#fdca26"
             ],
             [
              1,
              "#f0f921"
             ]
            ],
            "type": "histogram2d"
           }
          ],
          "histogram2dcontour": [
           {
            "colorbar": {
             "outlinewidth": 0,
             "ticks": ""
            },
            "colorscale": [
             [
              0,
              "#0d0887"
             ],
             [
              0.1111111111111111,
              "#46039f"
             ],
             [
              0.2222222222222222,
              "#7201a8"
             ],
             [
              0.3333333333333333,
              "#9c179e"
             ],
             [
              0.4444444444444444,
              "#bd3786"
             ],
             [
              0.5555555555555556,
              "#d8576b"
             ],
             [
              0.6666666666666666,
              "#ed7953"
             ],
             [
              0.7777777777777778,
              "#fb9f3a"
             ],
             [
              0.8888888888888888,
              "#fdca26"
             ],
             [
              1,
              "#f0f921"
             ]
            ],
            "type": "histogram2dcontour"
           }
          ],
          "mesh3d": [
           {
            "colorbar": {
             "outlinewidth": 0,
             "ticks": ""
            },
            "type": "mesh3d"
           }
          ],
          "parcoords": [
           {
            "line": {
             "colorbar": {
              "outlinewidth": 0,
              "ticks": ""
             }
            },
            "type": "parcoords"
           }
          ],
          "pie": [
           {
            "automargin": true,
            "type": "pie"
           }
          ],
          "scatter": [
           {
            "fillpattern": {
             "fillmode": "overlay",
             "size": 10,
             "solidity": 0.2
            },
            "type": "scatter"
           }
          ],
          "scatter3d": [
           {
            "line": {
             "colorbar": {
              "outlinewidth": 0,
              "ticks": ""
             }
            },
            "marker": {
             "colorbar": {
              "outlinewidth": 0,
              "ticks": ""
             }
            },
            "type": "scatter3d"
           }
          ],
          "scattercarpet": [
           {
            "marker": {
             "colorbar": {
              "outlinewidth": 0,
              "ticks": ""
             }
            },
            "type": "scattercarpet"
           }
          ],
          "scattergeo": [
           {
            "marker": {
             "colorbar": {
              "outlinewidth": 0,
              "ticks": ""
             }
            },
            "type": "scattergeo"
           }
          ],
          "scattergl": [
           {
            "marker": {
             "colorbar": {
              "outlinewidth": 0,
              "ticks": ""
             }
            },
            "type": "scattergl"
           }
          ],
          "scattermapbox": [
           {
            "marker": {
             "colorbar": {
              "outlinewidth": 0,
              "ticks": ""
             }
            },
            "type": "scattermapbox"
           }
          ],
          "scatterpolar": [
           {
            "marker": {
             "colorbar": {
              "outlinewidth": 0,
              "ticks": ""
             }
            },
            "type": "scatterpolar"
           }
          ],
          "scatterpolargl": [
           {
            "marker": {
             "colorbar": {
              "outlinewidth": 0,
              "ticks": ""
             }
            },
            "type": "scatterpolargl"
           }
          ],
          "scatterternary": [
           {
            "marker": {
             "colorbar": {
              "outlinewidth": 0,
              "ticks": ""
             }
            },
            "type": "scatterternary"
           }
          ],
          "surface": [
           {
            "colorbar": {
             "outlinewidth": 0,
             "ticks": ""
            },
            "colorscale": [
             [
              0,
              "#0d0887"
             ],
             [
              0.1111111111111111,
              "#46039f"
             ],
             [
              0.2222222222222222,
              "#7201a8"
             ],
             [
              0.3333333333333333,
              "#9c179e"
             ],
             [
              0.4444444444444444,
              "#bd3786"
             ],
             [
              0.5555555555555556,
              "#d8576b"
             ],
             [
              0.6666666666666666,
              "#ed7953"
             ],
             [
              0.7777777777777778,
              "#fb9f3a"
             ],
             [
              0.8888888888888888,
              "#fdca26"
             ],
             [
              1,
              "#f0f921"
             ]
            ],
            "type": "surface"
           }
          ],
          "table": [
           {
            "cells": {
             "fill": {
              "color": "#EBF0F8"
             },
             "line": {
              "color": "white"
             }
            },
            "header": {
             "fill": {
              "color": "#C8D4E3"
             },
             "line": {
              "color": "white"
             }
            },
            "type": "table"
           }
          ]
         },
         "layout": {
          "annotationdefaults": {
           "arrowcolor": "#2a3f5f",
           "arrowhead": 0,
           "arrowwidth": 1
          },
          "autotypenumbers": "strict",
          "coloraxis": {
           "colorbar": {
            "outlinewidth": 0,
            "ticks": ""
           }
          },
          "colorscale": {
           "diverging": [
            [
             0,
             "#8e0152"
            ],
            [
             0.1,
             "#c51b7d"
            ],
            [
             0.2,
             "#de77ae"
            ],
            [
             0.3,
             "#f1b6da"
            ],
            [
             0.4,
             "#fde0ef"
            ],
            [
             0.5,
             "#f7f7f7"
            ],
            [
             0.6,
             "#e6f5d0"
            ],
            [
             0.7,
             "#b8e186"
            ],
            [
             0.8,
             "#7fbc41"
            ],
            [
             0.9,
             "#4d9221"
            ],
            [
             1,
             "#276419"
            ]
           ],
           "sequential": [
            [
             0,
             "#0d0887"
            ],
            [
             0.1111111111111111,
             "#46039f"
            ],
            [
             0.2222222222222222,
             "#7201a8"
            ],
            [
             0.3333333333333333,
             "#9c179e"
            ],
            [
             0.4444444444444444,
             "#bd3786"
            ],
            [
             0.5555555555555556,
             "#d8576b"
            ],
            [
             0.6666666666666666,
             "#ed7953"
            ],
            [
             0.7777777777777778,
             "#fb9f3a"
            ],
            [
             0.8888888888888888,
             "#fdca26"
            ],
            [
             1,
             "#f0f921"
            ]
           ],
           "sequentialminus": [
            [
             0,
             "#0d0887"
            ],
            [
             0.1111111111111111,
             "#46039f"
            ],
            [
             0.2222222222222222,
             "#7201a8"
            ],
            [
             0.3333333333333333,
             "#9c179e"
            ],
            [
             0.4444444444444444,
             "#bd3786"
            ],
            [
             0.5555555555555556,
             "#d8576b"
            ],
            [
             0.6666666666666666,
             "#ed7953"
            ],
            [
             0.7777777777777778,
             "#fb9f3a"
            ],
            [
             0.8888888888888888,
             "#fdca26"
            ],
            [
             1,
             "#f0f921"
            ]
           ]
          },
          "colorway": [
           "#636efa",
           "#EF553B",
           "#00cc96",
           "#ab63fa",
           "#FFA15A",
           "#19d3f3",
           "#FF6692",
           "#B6E880",
           "#FF97FF",
           "#FECB52"
          ],
          "font": {
           "color": "#2a3f5f"
          },
          "geo": {
           "bgcolor": "white",
           "lakecolor": "white",
           "landcolor": "#E5ECF6",
           "showlakes": true,
           "showland": true,
           "subunitcolor": "white"
          },
          "hoverlabel": {
           "align": "left"
          },
          "hovermode": "closest",
          "mapbox": {
           "style": "light"
          },
          "paper_bgcolor": "white",
          "plot_bgcolor": "#E5ECF6",
          "polar": {
           "angularaxis": {
            "gridcolor": "white",
            "linecolor": "white",
            "ticks": ""
           },
           "bgcolor": "#E5ECF6",
           "radialaxis": {
            "gridcolor": "white",
            "linecolor": "white",
            "ticks": ""
           }
          },
          "scene": {
           "xaxis": {
            "backgroundcolor": "#E5ECF6",
            "gridcolor": "white",
            "gridwidth": 2,
            "linecolor": "white",
            "showbackground": true,
            "ticks": "",
            "zerolinecolor": "white"
           },
           "yaxis": {
            "backgroundcolor": "#E5ECF6",
            "gridcolor": "white",
            "gridwidth": 2,
            "linecolor": "white",
            "showbackground": true,
            "ticks": "",
            "zerolinecolor": "white"
           },
           "zaxis": {
            "backgroundcolor": "#E5ECF6",
            "gridcolor": "white",
            "gridwidth": 2,
            "linecolor": "white",
            "showbackground": true,
            "ticks": "",
            "zerolinecolor": "white"
           }
          },
          "shapedefaults": {
           "line": {
            "color": "#2a3f5f"
           }
          },
          "ternary": {
           "aaxis": {
            "gridcolor": "white",
            "linecolor": "white",
            "ticks": ""
           },
           "baxis": {
            "gridcolor": "white",
            "linecolor": "white",
            "ticks": ""
           },
           "bgcolor": "#E5ECF6",
           "caxis": {
            "gridcolor": "white",
            "linecolor": "white",
            "ticks": ""
           }
          },
          "title": {
           "x": 0.05
          },
          "xaxis": {
           "automargin": true,
           "gridcolor": "white",
           "linecolor": "white",
           "ticks": "",
           "title": {
            "standoff": 15
           },
           "zerolinecolor": "white",
           "zerolinewidth": 2
          },
          "yaxis": {
           "automargin": true,
           "gridcolor": "white",
           "linecolor": "white",
           "ticks": "",
           "title": {
            "standoff": 15
           },
           "zerolinecolor": "white",
           "zerolinewidth": 2
          }
         }
        }
       }
      },
      "text/html": [
       "<div>                            <div id=\"be51ccf7-1d3a-44c2-a9cd-9774ce6484cf\" class=\"plotly-graph-div\" style=\"height:525px; width:100%;\"></div>            <script type=\"text/javascript\">                require([\"plotly\"], function(Plotly) {                    window.PLOTLYENV=window.PLOTLYENV || {};                                    if (document.getElementById(\"be51ccf7-1d3a-44c2-a9cd-9774ce6484cf\")) {                    Plotly.newPlot(                        \"be51ccf7-1d3a-44c2-a9cd-9774ce6484cf\",                        [{\"hoverinfo\":\"text\",\"hovertext\":[\"n_leaves=16 n_additions=0 n_deletions=6 n_modifications=3 n_matches=7 is_valid=None accuracy=0.4375 precision=0.7 recall=0.4375\\u003cbr\\u003e\\u003ci\\u003etrue: \\u003c\\u002fi\\u003e{'resource': {...}, 'resourceType': {}}\\u003cbr\\u003e\\u003ci\\u003epred: \\u003c\\u002fi\\u003e{'resource': {...}}\",\"n_leaves=16 n_additions=0 n_deletions=6 n_modifications=3 n_matches=7 is_valid=None accuracy=0.4375 precision=0.7 recall=0.4375\\u003cbr\\u003e\\u003ci\\u003etrue: \\u003c\\u002fi\\u003e{'class': {...},\\u003cbr\\u003e\\u003ci\\u003e...8 lines...\\u003c\\u002fi\\u003e\\u003cbr\\u003e 'type': None}\\u003cbr\\u003e\\u003ci\\u003epred: \\u003c\\u002fi\\u003e{'class': {...},\\u003cbr\\u003e\\u003ci\\u003e...8 lines...\\u003c\\u002fi\\u003e\\u003cbr\\u003e 'type': None}\",\"n_leaves=1 n_additions=0 n_deletions=0 n_modifications=0 n_matches=1 is_valid=None accuracy=1.0 precision=1.0 recall=1.0\\u003cbr\\u003e\\u003ci\\u003etrue: \\u003c\\u002fi\\u003e'1'\\u003cbr\\u003e\\u003ci\\u003epred: \\u003c\\u002fi\\u003e'1'\",\"n_leaves=2 n_additions=0 n_deletions=0 n_modifications=0 n_matches=2 is_valid=None accuracy=1.0 precision=1.0 recall=1.0\\u003cbr\\u003e\\u003ci\\u003etrue: \\u003c\\u002fi\\u003e{'code': 'AMB',\\u003cbr\\u003e 'resourceType': {},\\u003cbr\\u003e 'system': 'http:\\u002f\\u002fterminology.hl7.org\\u002fCodeSystem\\u002fv3-ActCode'}\\u003cbr\\u003e\\u003ci\\u003epred: \\u003c\\u002fi\\u003e{'code': 'AMB', 'system': 'http:\\u002f\\u002fterminology.hl7.org\\u002fCodeSystem\\u002fv3-ActCode'}\",\"n_leaves=1 n_additions=0 n_deletions=0 n_modifications=0 n_matches=1 is_valid=None accuracy=1.0 precision=1.0 recall=1.0\\u003cbr\\u003e\\u003ci\\u003etrue: \\u003c\\u002fi\\u003e'AMB'\\u003cbr\\u003e\\u003ci\\u003epred: \\u003c\\u002fi\\u003e'AMB'\",\"n_leaves=1 n_additions=0 n_deletions=0 n_modifications=0 n_matches=1 is_valid=None accuracy=1.0 precision=1.0 recall=1.0\\u003cbr\\u003e\\u003ci\\u003etrue: \\u003c\\u002fi\\u003e'http:\\u002f\\u002fterminology.hl7.org\\u002fCodeSystem\\u002fv3-ActCode'\\u003cbr\\u003e\\u003ci\\u003epred: \\u003c\\u002fi\\u003e'http:\\u002f\\u002fterminology.hl7.org\\u002fCodeSystem\\u002fv3-ActCode'\",\"n_leaves=8 n_additions=0 n_deletions=4 n_modifications=2 n_matches=2 is_valid=None accuracy=0.25 precision=0.5 recall=0.25\\u003cbr\\u003e\\u003ci\\u003etrue: \\u003c\\u002fi\\u003e{'individual': {...}, 'period': {...}, 'resourceType': {}, 'type': [...]}\\u003cbr\\u003e\\u003ci\\u003epred: \\u003c\\u002fi\\u003e{'individual': {...}, 'period': {...}, 'type': None}\",\"n_leaves=2 n_additions=0 n_deletions=0 n_modifications=0 n_matches=2 is_valid=None accuracy=1.0 precision=1.0 recall=1.0\\u003cbr\\u003e\\u003ci\\u003etrue: \\u003c\\u002fi\\u003e{'display': 'Dr. Jude Reynolds',\\u003cbr\\u003e 'reference': 'Practitioner\\u002f1',\\u003cbr\\u003e 'resourceType': {}}\\u003cbr\\u003e\\u003ci\\u003epred: \\u003c\\u002fi\\u003e{'display': 'Dr. Jude Reynolds', 'reference': 'Practitioner\\u002f1'}\",\"n_leaves=1 n_additions=0 n_deletions=0 n_modifications=0 n_matches=1 is_valid=None accuracy=1.0 precision=1.0 recall=1.0\\u003cbr\\u003e\\u003ci\\u003etrue: \\u003c\\u002fi\\u003e'Dr. Jude Reynolds'\\u003cbr\\u003e\\u003ci\\u003epred: \\u003c\\u002fi\\u003e'Dr. Jude Reynolds'\",\"n_leaves=1 n_additions=0 n_deletions=0 n_modifications=0 n_matches=1 is_valid=None accuracy=1.0 precision=1.0 recall=1.0\\u003cbr\\u003e\\u003ci\\u003etrue: \\u003c\\u002fi\\u003e'Practitioner\\u002f1'\\u003cbr\\u003e\\u003ci\\u003epred: \\u003c\\u002fi\\u003e'Practitioner\\u002f1'\",\"n_leaves=2 n_additions=0 n_deletions=0 n_modifications=2 n_matches=0 is_valid=None accuracy=0.0 precision=0.0 recall=0.0\\u003cbr\\u003e\\u003ci\\u003etrue: \\u003c\\u002fi\\u003e{'end': '2023-01-17T21:57:36+01:00',\\u003cbr\\u003e 'resourceType': {},\\u003cbr\\u003e 'start': '2023-01-17T21:42:36+01:00'}\\u003cbr\\u003e\\u003ci\\u003epred: \\u003c\\u002fi\\u003e{'end': '2023-01-17T21:57:00+01:00', 'start': '2023-01-17T21:42:00+01:00'}\",\"n_leaves=1 n_additions=0 n_deletions=0 n_modifications=1 n_matches=0 is_valid=None accuracy=0.0 precision=0.0 recall=0.0\\u003cbr\\u003e\\u003ci\\u003etrue: \\u003c\\u002fi\\u003e'2023-01-17T21:57:36+01:00'\\u003cbr\\u003e\\u003ci\\u003epred: \\u003c\\u002fi\\u003e'2023-01-17T21:57:00+01:00'\",\"n_leaves=1 n_additions=0 n_deletions=0 n_modifications=1 n_matches=0 is_valid=None accuracy=0.0 precision=0.0 recall=0.0\\u003cbr\\u003e\\u003ci\\u003etrue: \\u003c\\u002fi\\u003e'2023-01-17T21:42:36+01:00'\\u003cbr\\u003e\\u003ci\\u003epred: \\u003c\\u002fi\\u003e'2023-01-17T21:42:00+01:00'\",\"n_leaves=4 n_additions=0 n_deletions=4 n_modifications=0 n_matches=0 is_valid=None accuracy=0.0 precision=0.0 recall=0.0\\u003cbr\\u003e\\u003ci\\u003etrue: \\u003c\\u002fi\\u003e{'coding': [...], 'resourceType': {}, 'text': 'primary performer'}\\u003cbr\\u003e\\u003ci\\u003epred: \\u003c\\u002fi\\u003e{'coding': [], 'text': {}}\",\"n_leaves=3 n_additions=0 n_deletions=3 n_modifications=0 n_matches=0 is_valid=None accuracy=0.0 precision=0.0 recall=0.0\\u003cbr\\u003e\\u003ci\\u003etrue: \\u003c\\u002fi\\u003e{'code': 'PPRF',\\u003cbr\\u003e\\u003ci\\u003e...2 lines...\\u003c\\u002fi\\u003e\\u003cbr\\u003e 'system': 'http:\\u002f\\u002fterminology.hl7.org\\u002fCodeSystem\\u002fv3-ParticipationType'}\\u003cbr\\u003e\\u003ci\\u003epred: \\u003c\\u002fi\\u003e{'code': {}, 'display': {}, 'system': {}}\",\"n_leaves=1 n_additions=0 n_deletions=1 n_modifications=0 n_matches=0 is_valid=None accuracy=0.0 precision=0.0 recall=0.0\\u003cbr\\u003e\\u003ci\\u003etrue: \\u003c\\u002fi\\u003e'PPRF'\\u003cbr\\u003e\\u003ci\\u003epred: \\u003c\\u002fi\\u003e{}\",\"n_leaves=1 n_additions=0 n_deletions=1 n_modifications=0 n_matches=0 is_valid=None accuracy=0.0 precision=0.0 recall=0.0\\u003cbr\\u003e\\u003ci\\u003etrue: \\u003c\\u002fi\\u003e'primary performer'\\u003cbr\\u003e\\u003ci\\u003epred: \\u003c\\u002fi\\u003e{}\",\"n_leaves=1 n_additions=0 n_deletions=1 n_modifications=0 n_matches=0 is_valid=None accuracy=0.0 precision=0.0 recall=0.0\\u003cbr\\u003e\\u003ci\\u003etrue: \\u003c\\u002fi\\u003e'http:\\u002f\\u002fterminology.hl7.org\\u002fCodeSystem\\u002fv3-ParticipationType'\\u003cbr\\u003e\\u003ci\\u003epred: \\u003c\\u002fi\\u003e{}\",\"n_leaves=1 n_additions=0 n_deletions=1 n_modifications=0 n_matches=0 is_valid=None accuracy=0.0 precision=0.0 recall=0.0\\u003cbr\\u003e\\u003ci\\u003etrue: \\u003c\\u002fi\\u003e'primary performer'\\u003cbr\\u003e\\u003ci\\u003epred: \\u003c\\u002fi\\u003e{}\",\"n_leaves=2 n_additions=0 n_deletions=2 n_modifications=0 n_matches=0 is_valid=None accuracy=0.0 precision=0.0 recall=0.0\\u003cbr\\u003e\\u003ci\\u003etrue: \\u003c\\u002fi\\u003e{'end': '2023-01-17T21:57:36+01:00',\\u003cbr\\u003e 'resourceType': {},\\u003cbr\\u003e 'start': '2023-01-17T21:42:36+01:00'}\\u003cbr\\u003e\\u003ci\\u003epred: \\u003c\\u002fi\\u003e{'end': {}, 'start': {}}\",\"n_leaves=1 n_additions=0 n_deletions=1 n_modifications=0 n_matches=0 is_valid=None accuracy=0.0 precision=0.0 recall=0.0\\u003cbr\\u003e\\u003ci\\u003etrue: \\u003c\\u002fi\\u003e'2023-01-17T21:57:36+01:00'\\u003cbr\\u003e\\u003ci\\u003epred: \\u003c\\u002fi\\u003e{}\",\"n_leaves=1 n_additions=0 n_deletions=1 n_modifications=0 n_matches=0 is_valid=None accuracy=0.0 precision=0.0 recall=0.0\\u003cbr\\u003e\\u003ci\\u003etrue: \\u003c\\u002fi\\u003e'2023-01-17T21:42:36+01:00'\\u003cbr\\u003e\\u003ci\\u003epred: \\u003c\\u002fi\\u003e{}\",\"n_leaves=1 n_additions=0 n_deletions=0 n_modifications=1 n_matches=0 is_valid=None accuracy=0.0 precision=0.0 recall=0.0\\u003cbr\\u003e\\u003ci\\u003etrue: \\u003c\\u002fi\\u003e'finished'\\u003cbr\\u003e\\u003ci\\u003epred: \\u003c\\u002fi\\u003e'unknown'\",\"n_leaves=2 n_additions=0 n_deletions=0 n_modifications=0 n_matches=2 is_valid=None accuracy=1.0 precision=1.0 recall=1.0\\u003cbr\\u003e\\u003ci\\u003etrue: \\u003c\\u002fi\\u003e{'display': 'Mr. Chase Olson', 'reference': 'Patient\\u002f1', 'resourceType': {}}\\u003cbr\\u003e\\u003ci\\u003epred: \\u003c\\u002fi\\u003e{'display': 'Mr. Chase Olson', 'reference': 'Patient\\u002f1'}\",\"n_leaves=1 n_additions=0 n_deletions=0 n_modifications=0 n_matches=1 is_valid=None accuracy=1.0 precision=1.0 recall=1.0\\u003cbr\\u003e\\u003ci\\u003etrue: \\u003c\\u002fi\\u003e'Mr. Chase Olson'\\u003cbr\\u003e\\u003ci\\u003epred: \\u003c\\u002fi\\u003e'Mr. Chase Olson'\",\"n_leaves=1 n_additions=0 n_deletions=0 n_modifications=0 n_matches=1 is_valid=None accuracy=1.0 precision=1.0 recall=1.0\\u003cbr\\u003e\\u003ci\\u003etrue: \\u003c\\u002fi\\u003e'Patient\\u002f1'\\u003cbr\\u003e\\u003ci\\u003epred: \\u003c\\u002fi\\u003e'Patient\\u002f1'\"],\"labels\":[\"BundleEntry\",\"BundleEntry.Encounter\",\"BundleEntry.Encounter.id\",\"BundleEntry.Encounter.class\",\"BundleEntry.Encounter.class.code\",\"BundleEntry.Encounter.class.system\",\"BundleEntry.Encounter.participant.0\",\"BundleEntry.Encounter.participant.0.individual\",\"BundleEntry.Encounter.participant.0.individual.display\",\"BundleEntry.Encounter.participant.0.individual.reference\",\"BundleEntry.Encounter.participant.0.period\",\"BundleEntry.Encounter.participant.0.period.end\",\"BundleEntry.Encounter.participant.0.period.start\",\"BundleEntry.Encounter.participant.0.type.0\",\"BundleEntry.Encounter.participant.0.type.0.coding.0\",\"BundleEntry.Encounter.participant.0.type.0.coding.0.code\",\"BundleEntry.Encounter.participant.0.type.0.coding.0.display\",\"BundleEntry.Encounter.participant.0.type.0.coding.0.system\",\"BundleEntry.Encounter.participant.0.type.0.text\",\"BundleEntry.Encounter.period\",\"BundleEntry.Encounter.period.end\",\"BundleEntry.Encounter.period.start\",\"BundleEntry.Encounter.status\",\"BundleEntry.Encounter.subject\",\"BundleEntry.Encounter.subject.display\",\"BundleEntry.Encounter.subject.reference\"],\"marker\":{\"cmid\":0.5,\"colors\":[0.4375,0.4375,1.0,1.0,1.0,1.0,0.25,1.0,1.0,1.0,0.0,0.0,0.0,0.0,0.0,0.0,0.0,0.0,0.0,0.0,0.0,0.0,0.0,1.0,1.0,1.0],\"colorscale\":[[0.0,\"rgb(103,0,31)\"],[0.1,\"rgb(178,24,43)\"],[0.2,\"rgb(214,96,77)\"],[0.3,\"rgb(244,165,130)\"],[0.4,\"rgb(253,219,199)\"],[0.5,\"rgb(247,247,247)\"],[0.6,\"rgb(209,229,240)\"],[0.7,\"rgb(146,197,222)\"],[0.8,\"rgb(67,147,195)\"],[0.9,\"rgb(33,102,172)\"],[1.0,\"rgb(5,48,97)\"]],\"cornerradius\":5},\"parents\":[\"\",\"BundleEntry\",\"BundleEntry.Encounter\",\"BundleEntry.Encounter\",\"BundleEntry.Encounter.class\",\"BundleEntry.Encounter.class\",\"BundleEntry.Encounter\",\"BundleEntry.Encounter.participant.0\",\"BundleEntry.Encounter.participant.0.individual\",\"BundleEntry.Encounter.participant.0.individual\",\"BundleEntry.Encounter.participant.0\",\"BundleEntry.Encounter.participant.0.period\",\"BundleEntry.Encounter.participant.0.period\",\"BundleEntry.Encounter.participant.0\",\"BundleEntry.Encounter.participant.0.type.0\",\"BundleEntry.Encounter.participant.0.type.0.coding.0\",\"BundleEntry.Encounter.participant.0.type.0.coding.0\",\"BundleEntry.Encounter.participant.0.type.0.coding.0\",\"BundleEntry.Encounter.participant.0.type.0\",\"BundleEntry.Encounter\",\"BundleEntry.Encounter.period\",\"BundleEntry.Encounter.period\",\"BundleEntry.Encounter\",\"BundleEntry.Encounter\",\"BundleEntry.Encounter.subject\",\"BundleEntry.Encounter.subject\"],\"text\":[\"BundleEntry\",\"Encounter\",\"id\",\"class\",\"code\",\"system\",[\"participant\",\"0\"],\"individual\",\"display\",\"reference\",\"period\",\"end\",\"start\",[\"type\",\"0\"],[\"coding\",\"0\"],\"code\",\"display\",\"system\",\"text\",\"period\",\"end\",\"start\",\"status\",\"subject\",\"display\",\"reference\"],\"textinfo\":\"text\",\"values\":[9,8,7,7,6,6,6,5,4,4,5,4,4,4,2,1,1,1,3,7,6,6,7,7,6,6],\"type\":\"treemap\"}],                        {\"template\":{\"data\":{\"histogram2dcontour\":[{\"type\":\"histogram2dcontour\",\"colorbar\":{\"outlinewidth\":0,\"ticks\":\"\"},\"colorscale\":[[0.0,\"#0d0887\"],[0.1111111111111111,\"#46039f\"],[0.2222222222222222,\"#7201a8\"],[0.3333333333333333,\"#9c179e\"],[0.4444444444444444,\"#bd3786\"],[0.5555555555555556,\"#d8576b\"],[0.6666666666666666,\"#ed7953\"],[0.7777777777777778,\"#fb9f3a\"],[0.8888888888888888,\"#fdca26\"],[1.0,\"#f0f921\"]]}],\"choropleth\":[{\"type\":\"choropleth\",\"colorbar\":{\"outlinewidth\":0,\"ticks\":\"\"}}],\"histogram2d\":[{\"type\":\"histogram2d\",\"colorbar\":{\"outlinewidth\":0,\"ticks\":\"\"},\"colorscale\":[[0.0,\"#0d0887\"],[0.1111111111111111,\"#46039f\"],[0.2222222222222222,\"#7201a8\"],[0.3333333333333333,\"#9c179e\"],[0.4444444444444444,\"#bd3786\"],[0.5555555555555556,\"#d8576b\"],[0.6666666666666666,\"#ed7953\"],[0.7777777777777778,\"#fb9f3a\"],[0.8888888888888888,\"#fdca26\"],[1.0,\"#f0f921\"]]}],\"heatmap\":[{\"type\":\"heatmap\",\"colorbar\":{\"outlinewidth\":0,\"ticks\":\"\"},\"colorscale\":[[0.0,\"#0d0887\"],[0.1111111111111111,\"#46039f\"],[0.2222222222222222,\"#7201a8\"],[0.3333333333333333,\"#9c179e\"],[0.4444444444444444,\"#bd3786\"],[0.5555555555555556,\"#d8576b\"],[0.6666666666666666,\"#ed7953\"],[0.7777777777777778,\"#fb9f3a\"],[0.8888888888888888,\"#fdca26\"],[1.0,\"#f0f921\"]]}],\"heatmapgl\":[{\"type\":\"heatmapgl\",\"colorbar\":{\"outlinewidth\":0,\"ticks\":\"\"},\"colorscale\":[[0.0,\"#0d0887\"],[0.1111111111111111,\"#46039f\"],[0.2222222222222222,\"#7201a8\"],[0.3333333333333333,\"#9c179e\"],[0.4444444444444444,\"#bd3786\"],[0.5555555555555556,\"#d8576b\"],[0.6666666666666666,\"#ed7953\"],[0.7777777777777778,\"#fb9f3a\"],[0.8888888888888888,\"#fdca26\"],[1.0,\"#f0f921\"]]}],\"contourcarpet\":[{\"type\":\"contourcarpet\",\"colorbar\":{\"outlinewidth\":0,\"ticks\":\"\"}}],\"contour\":[{\"type\":\"contour\",\"colorbar\":{\"outlinewidth\":0,\"ticks\":\"\"},\"colorscale\":[[0.0,\"#0d0887\"],[0.1111111111111111,\"#46039f\"],[0.2222222222222222,\"#7201a8\"],[0.3333333333333333,\"#9c179e\"],[0.4444444444444444,\"#bd3786\"],[0.5555555555555556,\"#d8576b\"],[0.6666666666666666,\"#ed7953\"],[0.7777777777777778,\"#fb9f3a\"],[0.8888888888888888,\"#fdca26\"],[1.0,\"#f0f921\"]]}],\"surface\":[{\"type\":\"surface\",\"colorbar\":{\"outlinewidth\":0,\"ticks\":\"\"},\"colorscale\":[[0.0,\"#0d0887\"],[0.1111111111111111,\"#46039f\"],[0.2222222222222222,\"#7201a8\"],[0.3333333333333333,\"#9c179e\"],[0.4444444444444444,\"#bd3786\"],[0.5555555555555556,\"#d8576b\"],[0.6666666666666666,\"#ed7953\"],[0.7777777777777778,\"#fb9f3a\"],[0.8888888888888888,\"#fdca26\"],[1.0,\"#f0f921\"]]}],\"mesh3d\":[{\"type\":\"mesh3d\",\"colorbar\":{\"outlinewidth\":0,\"ticks\":\"\"}}],\"scatter\":[{\"fillpattern\":{\"fillmode\":\"overlay\",\"size\":10,\"solidity\":0.2},\"type\":\"scatter\"}],\"parcoords\":[{\"type\":\"parcoords\",\"line\":{\"colorbar\":{\"outlinewidth\":0,\"ticks\":\"\"}}}],\"scatterpolargl\":[{\"type\":\"scatterpolargl\",\"marker\":{\"colorbar\":{\"outlinewidth\":0,\"ticks\":\"\"}}}],\"bar\":[{\"error_x\":{\"color\":\"#2a3f5f\"},\"error_y\":{\"color\":\"#2a3f5f\"},\"marker\":{\"line\":{\"color\":\"#E5ECF6\",\"width\":0.5},\"pattern\":{\"fillmode\":\"overlay\",\"size\":10,\"solidity\":0.2}},\"type\":\"bar\"}],\"scattergeo\":[{\"type\":\"scattergeo\",\"marker\":{\"colorbar\":{\"outlinewidth\":0,\"ticks\":\"\"}}}],\"scatterpolar\":[{\"type\":\"scatterpolar\",\"marker\":{\"colorbar\":{\"outlinewidth\":0,\"ticks\":\"\"}}}],\"histogram\":[{\"marker\":{\"pattern\":{\"fillmode\":\"overlay\",\"size\":10,\"solidity\":0.2}},\"type\":\"histogram\"}],\"scattergl\":[{\"type\":\"scattergl\",\"marker\":{\"colorbar\":{\"outlinewidth\":0,\"ticks\":\"\"}}}],\"scatter3d\":[{\"type\":\"scatter3d\",\"line\":{\"colorbar\":{\"outlinewidth\":0,\"ticks\":\"\"}},\"marker\":{\"colorbar\":{\"outlinewidth\":0,\"ticks\":\"\"}}}],\"scattermapbox\":[{\"type\":\"scattermapbox\",\"marker\":{\"colorbar\":{\"outlinewidth\":0,\"ticks\":\"\"}}}],\"scatterternary\":[{\"type\":\"scatterternary\",\"marker\":{\"colorbar\":{\"outlinewidth\":0,\"ticks\":\"\"}}}],\"scattercarpet\":[{\"type\":\"scattercarpet\",\"marker\":{\"colorbar\":{\"outlinewidth\":0,\"ticks\":\"\"}}}],\"carpet\":[{\"aaxis\":{\"endlinecolor\":\"#2a3f5f\",\"gridcolor\":\"white\",\"linecolor\":\"white\",\"minorgridcolor\":\"white\",\"startlinecolor\":\"#2a3f5f\"},\"baxis\":{\"endlinecolor\":\"#2a3f5f\",\"gridcolor\":\"white\",\"linecolor\":\"white\",\"minorgridcolor\":\"white\",\"startlinecolor\":\"#2a3f5f\"},\"type\":\"carpet\"}],\"table\":[{\"cells\":{\"fill\":{\"color\":\"#EBF0F8\"},\"line\":{\"color\":\"white\"}},\"header\":{\"fill\":{\"color\":\"#C8D4E3\"},\"line\":{\"color\":\"white\"}},\"type\":\"table\"}],\"barpolar\":[{\"marker\":{\"line\":{\"color\":\"#E5ECF6\",\"width\":0.5},\"pattern\":{\"fillmode\":\"overlay\",\"size\":10,\"solidity\":0.2}},\"type\":\"barpolar\"}],\"pie\":[{\"automargin\":true,\"type\":\"pie\"}]},\"layout\":{\"autotypenumbers\":\"strict\",\"colorway\":[\"#636efa\",\"#EF553B\",\"#00cc96\",\"#ab63fa\",\"#FFA15A\",\"#19d3f3\",\"#FF6692\",\"#B6E880\",\"#FF97FF\",\"#FECB52\"],\"font\":{\"color\":\"#2a3f5f\"},\"hovermode\":\"closest\",\"hoverlabel\":{\"align\":\"left\"},\"paper_bgcolor\":\"white\",\"plot_bgcolor\":\"#E5ECF6\",\"polar\":{\"bgcolor\":\"#E5ECF6\",\"angularaxis\":{\"gridcolor\":\"white\",\"linecolor\":\"white\",\"ticks\":\"\"},\"radialaxis\":{\"gridcolor\":\"white\",\"linecolor\":\"white\",\"ticks\":\"\"}},\"ternary\":{\"bgcolor\":\"#E5ECF6\",\"aaxis\":{\"gridcolor\":\"white\",\"linecolor\":\"white\",\"ticks\":\"\"},\"baxis\":{\"gridcolor\":\"white\",\"linecolor\":\"white\",\"ticks\":\"\"},\"caxis\":{\"gridcolor\":\"white\",\"linecolor\":\"white\",\"ticks\":\"\"}},\"coloraxis\":{\"colorbar\":{\"outlinewidth\":0,\"ticks\":\"\"}},\"colorscale\":{\"sequential\":[[0.0,\"#0d0887\"],[0.1111111111111111,\"#46039f\"],[0.2222222222222222,\"#7201a8\"],[0.3333333333333333,\"#9c179e\"],[0.4444444444444444,\"#bd3786\"],[0.5555555555555556,\"#d8576b\"],[0.6666666666666666,\"#ed7953\"],[0.7777777777777778,\"#fb9f3a\"],[0.8888888888888888,\"#fdca26\"],[1.0,\"#f0f921\"]],\"sequentialminus\":[[0.0,\"#0d0887\"],[0.1111111111111111,\"#46039f\"],[0.2222222222222222,\"#7201a8\"],[0.3333333333333333,\"#9c179e\"],[0.4444444444444444,\"#bd3786\"],[0.5555555555555556,\"#d8576b\"],[0.6666666666666666,\"#ed7953\"],[0.7777777777777778,\"#fb9f3a\"],[0.8888888888888888,\"#fdca26\"],[1.0,\"#f0f921\"]],\"diverging\":[[0,\"#8e0152\"],[0.1,\"#c51b7d\"],[0.2,\"#de77ae\"],[0.3,\"#f1b6da\"],[0.4,\"#fde0ef\"],[0.5,\"#f7f7f7\"],[0.6,\"#e6f5d0\"],[0.7,\"#b8e186\"],[0.8,\"#7fbc41\"],[0.9,\"#4d9221\"],[1,\"#276419\"]]},\"xaxis\":{\"gridcolor\":\"white\",\"linecolor\":\"white\",\"ticks\":\"\",\"title\":{\"standoff\":15},\"zerolinecolor\":\"white\",\"automargin\":true,\"zerolinewidth\":2},\"yaxis\":{\"gridcolor\":\"white\",\"linecolor\":\"white\",\"ticks\":\"\",\"title\":{\"standoff\":15},\"zerolinecolor\":\"white\",\"automargin\":true,\"zerolinewidth\":2},\"scene\":{\"xaxis\":{\"backgroundcolor\":\"#E5ECF6\",\"gridcolor\":\"white\",\"linecolor\":\"white\",\"showbackground\":true,\"ticks\":\"\",\"zerolinecolor\":\"white\",\"gridwidth\":2},\"yaxis\":{\"backgroundcolor\":\"#E5ECF6\",\"gridcolor\":\"white\",\"linecolor\":\"white\",\"showbackground\":true,\"ticks\":\"\",\"zerolinecolor\":\"white\",\"gridwidth\":2},\"zaxis\":{\"backgroundcolor\":\"#E5ECF6\",\"gridcolor\":\"white\",\"linecolor\":\"white\",\"showbackground\":true,\"ticks\":\"\",\"zerolinecolor\":\"white\",\"gridwidth\":2}},\"shapedefaults\":{\"line\":{\"color\":\"#2a3f5f\"}},\"annotationdefaults\":{\"arrowcolor\":\"#2a3f5f\",\"arrowhead\":0,\"arrowwidth\":1},\"geo\":{\"bgcolor\":\"white\",\"landcolor\":\"#E5ECF6\",\"subunitcolor\":\"white\",\"showland\":true,\"showlakes\":true,\"lakecolor\":\"white\"},\"title\":{\"x\":0.05},\"mapbox\":{\"style\":\"light\"}}},\"margin\":{\"t\":50,\"l\":25,\"r\":25,\"b\":25}},                        {\"responsive\": true}                    ).then(function(){\n",
       "                            \n",
       "var gd = document.getElementById('be51ccf7-1d3a-44c2-a9cd-9774ce6484cf');\n",
       "var x = new MutationObserver(function (mutations, observer) {{\n",
       "        var display = window.getComputedStyle(gd).display;\n",
       "        if (!display || display === 'none') {{\n",
       "            console.log([gd, 'removed!']);\n",
       "            Plotly.purge(gd);\n",
       "            observer.disconnect();\n",
       "        }}\n",
       "}});\n",
       "\n",
       "// Listen for the removal of the full notebook cells\n",
       "var notebookContainer = gd.closest('#notebook-container');\n",
       "if (notebookContainer) {{\n",
       "    x.observe(notebookContainer, {childList: true});\n",
       "}}\n",
       "\n",
       "// Listen for the clearing of the current output cell\n",
       "var outputEl = gd.closest('.output');\n",
       "if (outputEl) {{\n",
       "    x.observe(outputEl, {childList: true});\n",
       "}}\n",
       "\n",
       "                        })                };                });            </script>        </div>"
      ]
     },
     "metadata": {},
     "output_type": "display_data"
    }
   ],
   "source": [
    "show_diff(diff)"
   ]
  },
  {
   "cell_type": "markdown",
   "id": "4aeffb6b",
   "metadata": {},
   "source": [
    "### The visualization clearly shows where the differences are:"
   ]
  },
  {
   "cell_type": "markdown",
   "id": "2ce429bf",
   "metadata": {},
   "source": [
    "- Red are 0% accuracy leaves\n",
    "- Blue are 100% accuracy leaves\n",
    "- Colors in between represent the accuracy scale"
   ]
  },
  {
   "cell_type": "markdown",
   "id": "f8690047",
   "metadata": {},
   "source": [
    "### Learning from this example:"
   ]
  },
  {
   "cell_type": "markdown",
   "id": "99a4a6a0",
   "metadata": {},
   "source": [
    "- The period in which the participant was present in the encounter differed by 36 seconds. A neglible difference.\n",
    "- The Participant type was not predicted, resulting in 4 \"missing\" nodes\n",
    "- The Period of the Ecnounter itself was not predicted, altough it was identical to the period of the participant\n",
    "- The predicted status was unknown where the actual status was finished"
   ]
  },
  {
   "cell_type": "markdown",
   "id": "2b5ca1ef",
   "metadata": {},
   "source": [
    "### Visualization of the entire Bundle"
   ]
  },
  {
   "cell_type": "code",
   "execution_count": 55,
   "id": "d64df027",
   "metadata": {},
   "outputs": [],
   "source": [
    "diff = get_diff(fhir_true, fhir_pred, resource_type=\"Bundle\")"
   ]
  },
  {
   "cell_type": "code",
   "execution_count": 56,
   "id": "91b194b7",
   "metadata": {},
   "outputs": [
    {
     "data": {
      "application/vnd.plotly.v1+json": {
       "config": {
        "plotlyServerURL": "https://plot.ly"
       },
       "data": [
        {
         "hoverinfo": "text",
         "hovertext": [
          "n_leaves=49 n_additions=1 n_deletions=10 n_modifications=3 n_matches=35 is_valid=None accuracy=0.7142857142857143 precision=0.8974358974358975 recall=0.7291666666666666<br><i>true: </i>{'entry': [...], 'id': '1', 'resourceType': 'Bundle', 'type': 'collection'}<br><i>pred: </i>{'entry': [...], 'id': '1', 'resourceType': 'Bundle', 'type': 'collection'}",
          "n_leaves=1 n_additions=0 n_deletions=0 n_modifications=0 n_matches=1 is_valid=None accuracy=1.0 precision=1.0 recall=1.0<br><i>true: </i>'1'<br><i>pred: </i>'1'",
          "n_leaves=16 n_additions=0 n_deletions=6 n_modifications=3 n_matches=7 is_valid=None accuracy=0.4375 precision=0.7 recall=0.4375<br><i>true: </i>{'resource': {...}, 'resourceType': {}}<br><i>pred: </i>{'resource': {...}}",
          "n_leaves=16 n_additions=0 n_deletions=6 n_modifications=3 n_matches=7 is_valid=None accuracy=0.4375 precision=0.7 recall=0.4375<br><i>true: </i>{'class': {...},<br><i>...8 lines...</i><br> 'type': None}<br><i>pred: </i>{'class': {...},<br><i>...8 lines...</i><br> 'type': None}",
          "n_leaves=1 n_additions=0 n_deletions=0 n_modifications=0 n_matches=1 is_valid=None accuracy=1.0 precision=1.0 recall=1.0<br><i>true: </i>'1'<br><i>pred: </i>'1'",
          "n_leaves=2 n_additions=0 n_deletions=0 n_modifications=0 n_matches=2 is_valid=None accuracy=1.0 precision=1.0 recall=1.0<br><i>true: </i>{'code': 'AMB',<br> 'resourceType': {},<br> 'system': 'http://terminology.hl7.org/CodeSystem/v3-ActCode'}<br><i>pred: </i>{'code': 'AMB', 'system': 'http://terminology.hl7.org/CodeSystem/v3-ActCode'}",
          "n_leaves=1 n_additions=0 n_deletions=0 n_modifications=0 n_matches=1 is_valid=None accuracy=1.0 precision=1.0 recall=1.0<br><i>true: </i>'AMB'<br><i>pred: </i>'AMB'",
          "n_leaves=1 n_additions=0 n_deletions=0 n_modifications=0 n_matches=1 is_valid=None accuracy=1.0 precision=1.0 recall=1.0<br><i>true: </i>'http://terminology.hl7.org/CodeSystem/v3-ActCode'<br><i>pred: </i>'http://terminology.hl7.org/CodeSystem/v3-ActCode'",
          "n_leaves=8 n_additions=0 n_deletions=4 n_modifications=2 n_matches=2 is_valid=None accuracy=0.25 precision=0.5 recall=0.25<br><i>true: </i>{'individual': {...}, 'period': {...}, 'resourceType': {}, 'type': [...]}<br><i>pred: </i>{'individual': {...}, 'period': {...}, 'type': None}",
          "n_leaves=2 n_additions=0 n_deletions=0 n_modifications=0 n_matches=2 is_valid=None accuracy=1.0 precision=1.0 recall=1.0<br><i>true: </i>{'display': 'Dr. Jude Reynolds',<br> 'reference': 'Practitioner/1',<br> 'resourceType': {}}<br><i>pred: </i>{'display': 'Dr. Jude Reynolds', 'reference': 'Practitioner/1'}",
          "n_leaves=1 n_additions=0 n_deletions=0 n_modifications=0 n_matches=1 is_valid=None accuracy=1.0 precision=1.0 recall=1.0<br><i>true: </i>'Dr. Jude Reynolds'<br><i>pred: </i>'Dr. Jude Reynolds'",
          "n_leaves=1 n_additions=0 n_deletions=0 n_modifications=0 n_matches=1 is_valid=None accuracy=1.0 precision=1.0 recall=1.0<br><i>true: </i>'Practitioner/1'<br><i>pred: </i>'Practitioner/1'",
          "n_leaves=2 n_additions=0 n_deletions=0 n_modifications=2 n_matches=0 is_valid=None accuracy=0.0 precision=0.0 recall=0.0<br><i>true: </i>{'end': '2023-01-17T21:57:36+01:00',<br> 'resourceType': {},<br> 'start': '2023-01-17T21:42:36+01:00'}<br><i>pred: </i>{'end': '2023-01-17T21:57:00+01:00', 'start': '2023-01-17T21:42:00+01:00'}",
          "n_leaves=1 n_additions=0 n_deletions=0 n_modifications=1 n_matches=0 is_valid=None accuracy=0.0 precision=0.0 recall=0.0<br><i>true: </i>'2023-01-17T21:57:36+01:00'<br><i>pred: </i>'2023-01-17T21:57:00+01:00'",
          "n_leaves=1 n_additions=0 n_deletions=0 n_modifications=1 n_matches=0 is_valid=None accuracy=0.0 precision=0.0 recall=0.0<br><i>true: </i>'2023-01-17T21:42:36+01:00'<br><i>pred: </i>'2023-01-17T21:42:00+01:00'",
          "n_leaves=4 n_additions=0 n_deletions=4 n_modifications=0 n_matches=0 is_valid=None accuracy=0.0 precision=0.0 recall=0.0<br><i>true: </i>{'coding': [...], 'resourceType': {}, 'text': 'primary performer'}<br><i>pred: </i>{'coding': [], 'text': {}}",
          "n_leaves=3 n_additions=0 n_deletions=3 n_modifications=0 n_matches=0 is_valid=None accuracy=0.0 precision=0.0 recall=0.0<br><i>true: </i>{'code': 'PPRF',<br><i>...2 lines...</i><br> 'system': 'http://terminology.hl7.org/CodeSystem/v3-ParticipationType'}<br><i>pred: </i>{'code': {}, 'display': {}, 'system': {}}",
          "n_leaves=1 n_additions=0 n_deletions=1 n_modifications=0 n_matches=0 is_valid=None accuracy=0.0 precision=0.0 recall=0.0<br><i>true: </i>'PPRF'<br><i>pred: </i>{}",
          "n_leaves=1 n_additions=0 n_deletions=1 n_modifications=0 n_matches=0 is_valid=None accuracy=0.0 precision=0.0 recall=0.0<br><i>true: </i>'primary performer'<br><i>pred: </i>{}",
          "n_leaves=1 n_additions=0 n_deletions=1 n_modifications=0 n_matches=0 is_valid=None accuracy=0.0 precision=0.0 recall=0.0<br><i>true: </i>'http://terminology.hl7.org/CodeSystem/v3-ParticipationType'<br><i>pred: </i>{}",
          "n_leaves=1 n_additions=0 n_deletions=1 n_modifications=0 n_matches=0 is_valid=None accuracy=0.0 precision=0.0 recall=0.0<br><i>true: </i>'primary performer'<br><i>pred: </i>{}",
          "n_leaves=2 n_additions=0 n_deletions=2 n_modifications=0 n_matches=0 is_valid=None accuracy=0.0 precision=0.0 recall=0.0<br><i>true: </i>{'end': '2023-01-17T21:57:36+01:00',<br> 'resourceType': {},<br> 'start': '2023-01-17T21:42:36+01:00'}<br><i>pred: </i>{'end': {}, 'start': {}}",
          "n_leaves=1 n_additions=0 n_deletions=1 n_modifications=0 n_matches=0 is_valid=None accuracy=0.0 precision=0.0 recall=0.0<br><i>true: </i>'2023-01-17T21:57:36+01:00'<br><i>pred: </i>{}",
          "n_leaves=1 n_additions=0 n_deletions=1 n_modifications=0 n_matches=0 is_valid=None accuracy=0.0 precision=0.0 recall=0.0<br><i>true: </i>'2023-01-17T21:42:36+01:00'<br><i>pred: </i>{}",
          "n_leaves=1 n_additions=0 n_deletions=0 n_modifications=1 n_matches=0 is_valid=None accuracy=0.0 precision=0.0 recall=0.0<br><i>true: </i>'finished'<br><i>pred: </i>'unknown'",
          "n_leaves=2 n_additions=0 n_deletions=0 n_modifications=0 n_matches=2 is_valid=None accuracy=1.0 precision=1.0 recall=1.0<br><i>true: </i>{'display': 'Mr. Chase Olson', 'reference': 'Patient/1', 'resourceType': {}}<br><i>pred: </i>{'display': 'Mr. Chase Olson', 'reference': 'Patient/1'}",
          "n_leaves=1 n_additions=0 n_deletions=0 n_modifications=0 n_matches=1 is_valid=None accuracy=1.0 precision=1.0 recall=1.0<br><i>true: </i>'Mr. Chase Olson'<br><i>pred: </i>'Mr. Chase Olson'",
          "n_leaves=1 n_additions=0 n_deletions=0 n_modifications=0 n_matches=1 is_valid=None accuracy=1.0 precision=1.0 recall=1.0<br><i>true: </i>'Patient/1'<br><i>pred: </i>'Patient/1'",
          "n_leaves=19 n_additions=0 n_deletions=0 n_modifications=0 n_matches=19 is_valid=None accuracy=1.0 precision=1.0 recall=1.0<br><i>true: </i>{'resource': {...}, 'resourceType': {}}<br><i>pred: </i>{'resource': {...}}",
          "n_leaves=19 n_additions=0 n_deletions=0 n_modifications=0 n_matches=19 is_valid=None accuracy=1.0 precision=1.0 recall=1.0<br><i>true: </i>{'address': [...],<br><i>...8 lines...</i><br> 'telecom': [...]}<br><i>pred: </i>{'address': [...],<br><i>...8 lines...</i><br> 'telecom': [...]}",
          "n_leaves=1 n_additions=0 n_deletions=0 n_modifications=0 n_matches=1 is_valid=None accuracy=1.0 precision=1.0 recall=1.0<br><i>true: </i>'1'<br><i>pred: </i>'1'",
          "n_leaves=5 n_additions=0 n_deletions=0 n_modifications=0 n_matches=5 is_valid=None accuracy=1.0 precision=1.0 recall=1.0<br><i>true: </i>{'city': 'Palmer',<br><i>...4 lines...</i><br> 'state': 'Massachusetts'}<br><i>pred: </i>{'city': 'Palmer',<br><i>...3 lines...</i><br> 'state': 'Massachusetts'}",
          "n_leaves=1 n_additions=0 n_deletions=0 n_modifications=0 n_matches=1 is_valid=None accuracy=1.0 precision=1.0 recall=1.0<br><i>true: </i>'Palmer'<br><i>pred: </i>'Palmer'",
          "n_leaves=1 n_additions=0 n_deletions=0 n_modifications=0 n_matches=1 is_valid=None accuracy=1.0 precision=1.0 recall=1.0<br><i>true: </i>'US'<br><i>pred: </i>'US'",
          "n_leaves=1 n_additions=0 n_deletions=0 n_modifications=0 n_matches=1 is_valid=None accuracy=1.0 precision=1.0 recall=1.0<br><i>true: </i>'792 Schumm Fork Unit 62'<br><i>pred: </i>'792 Schumm Fork Unit 62'",
          "n_leaves=1 n_additions=0 n_deletions=0 n_modifications=0 n_matches=1 is_valid=None accuracy=1.0 precision=1.0 recall=1.0<br><i>true: </i>'01069'<br><i>pred: </i>'01069'",
          "n_leaves=1 n_additions=0 n_deletions=0 n_modifications=0 n_matches=1 is_valid=None accuracy=1.0 precision=1.0 recall=1.0<br><i>true: </i>'Massachusetts'<br><i>pred: </i>'Massachusetts'",
          "n_leaves=1 n_additions=0 n_deletions=0 n_modifications=0 n_matches=1 is_valid=None accuracy=1.0 precision=1.0 recall=1.0<br><i>true: </i>'1966-11-29'<br><i>pred: </i>'1966-11-29'",
          "n_leaves=4 n_additions=0 n_deletions=0 n_modifications=0 n_matches=4 is_valid=None accuracy=1.0 precision=1.0 recall=1.0<br><i>true: </i>{'language': {...}, 'resourceType': {}}<br><i>pred: </i>{'language': {...}}",
          "n_leaves=4 n_additions=0 n_deletions=0 n_modifications=0 n_matches=4 is_valid=None accuracy=1.0 precision=1.0 recall=1.0<br><i>true: </i>{'coding': [...], 'resourceType': {}, 'text': 'English (United States)'}<br><i>pred: </i>{'coding': [...], 'text': 'English (United States)'}",
          "n_leaves=3 n_additions=0 n_deletions=0 n_modifications=0 n_matches=3 is_valid=None accuracy=1.0 precision=1.0 recall=1.0<br><i>true: </i>{'code': 'en-US',<br><i>...2 lines...</i><br> 'system': 'urn:ietf:bcp:47'}<br><i>pred: </i>{'code': 'en-US',<br> 'display': 'English (United States)',<br> 'system': 'urn:ietf:bcp:47'}",
          "n_leaves=1 n_additions=0 n_deletions=0 n_modifications=0 n_matches=1 is_valid=None accuracy=1.0 precision=1.0 recall=1.0<br><i>true: </i>'en-US'<br><i>pred: </i>'en-US'",
          "n_leaves=1 n_additions=0 n_deletions=0 n_modifications=0 n_matches=1 is_valid=None accuracy=1.0 precision=1.0 recall=1.0<br><i>true: </i>'English (United States)'<br><i>pred: </i>'English (United States)'",
          "n_leaves=1 n_additions=0 n_deletions=0 n_modifications=0 n_matches=1 is_valid=None accuracy=1.0 precision=1.0 recall=1.0<br><i>true: </i>'urn:ietf:bcp:47'<br><i>pred: </i>'urn:ietf:bcp:47'",
          "n_leaves=1 n_additions=0 n_deletions=0 n_modifications=0 n_matches=1 is_valid=None accuracy=1.0 precision=1.0 recall=1.0<br><i>true: </i>'English (United States)'<br><i>pred: </i>'English (United States)'",
          "n_leaves=1 n_additions=0 n_deletions=0 n_modifications=0 n_matches=1 is_valid=None accuracy=1.0 precision=1.0 recall=1.0<br><i>true: </i>'male'<br><i>pred: </i>'male'",
          "n_leaves=4 n_additions=0 n_deletions=0 n_modifications=0 n_matches=4 is_valid=None accuracy=1.0 precision=1.0 recall=1.0<br><i>true: </i>{'family': 'Olson',<br><i>...3 lines...</i><br> 'use': 'official'}<br><i>pred: </i>{'family': 'Olson', 'given': [...], 'prefix': [...], 'use': 'official'}",
          "n_leaves=1 n_additions=0 n_deletions=0 n_modifications=0 n_matches=1 is_valid=None accuracy=1.0 precision=1.0 recall=1.0<br><i>true: </i>'Olson'<br><i>pred: </i>'Olson'",
          "n_leaves=1 n_additions=0 n_deletions=0 n_modifications=0 n_matches=1 is_valid=None accuracy=1.0 precision=1.0 recall=1.0<br><i>true: </i>'Chase'<br><i>pred: </i>'Chase'",
          "n_leaves=1 n_additions=0 n_deletions=0 n_modifications=0 n_matches=1 is_valid=None accuracy=1.0 precision=1.0 recall=1.0<br><i>true: </i>'Mr.'<br><i>pred: </i>'Mr.'",
          "n_leaves=1 n_additions=0 n_deletions=0 n_modifications=0 n_matches=1 is_valid=None accuracy=1.0 precision=1.0 recall=1.0<br><i>true: </i>'official'<br><i>pred: </i>'official'",
          "n_leaves=3 n_additions=0 n_deletions=0 n_modifications=0 n_matches=3 is_valid=None accuracy=1.0 precision=1.0 recall=1.0<br><i>true: </i>{'resourceType': {}, 'system': 'phone', 'use': 'home', 'value': '555-770-7639'}<br><i>pred: </i>{'system': 'phone', 'use': 'home', 'value': '555-770-7639'}",
          "n_leaves=1 n_additions=0 n_deletions=0 n_modifications=0 n_matches=1 is_valid=None accuracy=1.0 precision=1.0 recall=1.0<br><i>true: </i>'phone'<br><i>pred: </i>'phone'",
          "n_leaves=1 n_additions=0 n_deletions=0 n_modifications=0 n_matches=1 is_valid=None accuracy=1.0 precision=1.0 recall=1.0<br><i>true: </i>'home'<br><i>pred: </i>'home'",
          "n_leaves=1 n_additions=0 n_deletions=0 n_modifications=0 n_matches=1 is_valid=None accuracy=1.0 precision=1.0 recall=1.0<br><i>true: </i>'555-770-7639'<br><i>pred: </i>'555-770-7639'",
          "n_leaves=12 n_additions=1 n_deletions=4 n_modifications=0 n_matches=7 is_valid=None accuracy=0.5833333333333334 precision=0.875 recall=0.6363636363636364<br><i>true: </i>{'resource': {...}, 'resourceType': {}}<br><i>pred: </i>{'resource': {...}}",
          "n_leaves=12 n_additions=1 n_deletions=4 n_modifications=0 n_matches=7 is_valid=None accuracy=0.5833333333333334 precision=0.875 recall=0.6363636363636364<br><i>true: </i>{'category': [...],<br><i>...8 lines...</i><br> 'verificationStatus': {...}}<br><i>pred: </i>{'category': [...],<br><i>...8 lines...</i><br> 'verificationStatus': {...}}",
          "n_leaves=1 n_additions=0 n_deletions=0 n_modifications=0 n_matches=1 is_valid=None accuracy=1.0 precision=1.0 recall=1.0<br><i>true: </i>'1'<br><i>pred: </i>'1'",
          "n_leaves=1 n_additions=0 n_deletions=0 n_modifications=0 n_matches=1 is_valid=None accuracy=1.0 precision=1.0 recall=1.0<br><i>true: </i>'environment'<br><i>pred: </i>'environment'",
          "n_leaves=2 n_additions=0 n_deletions=0 n_modifications=0 n_matches=2 is_valid=None accuracy=1.0 precision=1.0 recall=1.0<br><i>true: </i>{'coding': [...], 'resourceType': {}}<br><i>pred: </i>{'coding': [...]}",
          "n_leaves=2 n_additions=0 n_deletions=0 n_modifications=0 n_matches=2 is_valid=None accuracy=1.0 precision=1.0 recall=1.0<br><i>true: </i>{'code': 'active',<br> 'resourceType': {},<br> 'system': 'http://terminology.hl7.org/CodeSystem/allergyintolerance-clinical'}<br><i>pred: </i>{'code': 'active',<br> 'system': 'http://terminology.hl7.org/CodeSystem/allergyintolerance-clinical'}",
          "n_leaves=1 n_additions=0 n_deletions=0 n_modifications=0 n_matches=1 is_valid=None accuracy=1.0 precision=1.0 recall=1.0<br><i>true: </i>'active'<br><i>pred: </i>'active'",
          "n_leaves=1 n_additions=0 n_deletions=0 n_modifications=0 n_matches=1 is_valid=None accuracy=1.0 precision=1.0 recall=1.0<br><i>true: </i>'http://terminology.hl7.org/CodeSystem/allergyintolerance-clinical'<br><i>pred: </i>'http://terminology.hl7.org/CodeSystem/allergyintolerance-clinical'",
          "n_leaves=4 n_additions=0 n_deletions=4 n_modifications=0 n_matches=0 is_valid=None accuracy=0.0 precision=0.0 recall=0.0<br><i>true: </i>{'coding': [...], 'resourceType': {}, 'text': 'Allergy to substance (finding)'}<br><i>pred: </i>{'coding': [], 'text': {}}",
          "n_leaves=3 n_additions=0 n_deletions=3 n_modifications=0 n_matches=0 is_valid=None accuracy=0.0 precision=0.0 recall=0.0<br><i>true: </i>{'code': '419199007',<br><i>...2 lines...</i><br> 'system': 'http://snomed.info/sct'}<br><i>pred: </i>{'code': {}, 'display': {}, 'system': {}}",
          "n_leaves=1 n_additions=0 n_deletions=1 n_modifications=0 n_matches=0 is_valid=None accuracy=0.0 precision=0.0 recall=0.0<br><i>true: </i>'419199007'<br><i>pred: </i>{}",
          "n_leaves=1 n_additions=0 n_deletions=1 n_modifications=0 n_matches=0 is_valid=None accuracy=0.0 precision=0.0 recall=0.0<br><i>true: </i>'Allergy to substance (finding)'<br><i>pred: </i>{}",
          "n_leaves=1 n_additions=0 n_deletions=1 n_modifications=0 n_matches=0 is_valid=None accuracy=0.0 precision=0.0 recall=0.0<br><i>true: </i>'http://snomed.info/sct'<br><i>pred: </i>{}",
          "n_leaves=1 n_additions=0 n_deletions=1 n_modifications=0 n_matches=0 is_valid=None accuracy=0.0 precision=0.0 recall=0.0<br><i>true: </i>'Allergy to substance (finding)'<br><i>pred: </i>{}",
          "n_leaves=1 n_additions=0 n_deletions=0 n_modifications=0 n_matches=1 is_valid=None accuracy=1.0 precision=1.0 recall=1.0<br><i>true: </i>{'reference': 'Patient/1', 'resourceType': {}}<br><i>pred: </i>{'reference': 'Patient/1'}",
          "n_leaves=1 n_additions=0 n_deletions=0 n_modifications=0 n_matches=1 is_valid=None accuracy=1.0 precision=1.0 recall=1.0<br><i>true: </i>'Patient/1'<br><i>pred: </i>'Patient/1'",
          "n_leaves=1 n_additions=1 n_deletions=0 n_modifications=0 n_matches=0 is_valid=None accuracy=0.0 precision=0.0 recall=0.0<br><i>true: </i>{}<br><i>pred: </i>'allergy'",
          "n_leaves=2 n_additions=0 n_deletions=0 n_modifications=0 n_matches=2 is_valid=None accuracy=1.0 precision=1.0 recall=1.0<br><i>true: </i>{'coding': [...], 'resourceType': {}}<br><i>pred: </i>{'coding': [...]}",
          "n_leaves=2 n_additions=0 n_deletions=0 n_modifications=0 n_matches=2 is_valid=None accuracy=1.0 precision=1.0 recall=1.0<br><i>true: </i>{'code': 'confirmed',<br> 'resourceType': {},<br> 'system': 'http://terminology.hl7.org/CodeSystem/allergyintolerance-verification'}<br><i>pred: </i>{'code': 'confirmed',<br> 'system': 'http://terminology.hl7.org/CodeSystem/allergyintolerance-verification'}",
          "n_leaves=1 n_additions=0 n_deletions=0 n_modifications=0 n_matches=1 is_valid=None accuracy=1.0 precision=1.0 recall=1.0<br><i>true: </i>'confirmed'<br><i>pred: </i>'confirmed'",
          "n_leaves=1 n_additions=0 n_deletions=0 n_modifications=0 n_matches=1 is_valid=None accuracy=1.0 precision=1.0 recall=1.0<br><i>true: </i>'http://terminology.hl7.org/CodeSystem/allergyintolerance-verification'<br><i>pred: </i>'http://terminology.hl7.org/CodeSystem/allergyintolerance-verification'",
          "n_leaves=1 n_additions=0 n_deletions=0 n_modifications=0 n_matches=1 is_valid=None accuracy=1.0 precision=1.0 recall=1.0<br><i>true: </i>'collection'<br><i>pred: </i>'collection'"
         ],
         "labels": [
          "Bundle",
          "Bundle.id",
          "Bundle.entry.0",
          "Bundle.entry.0.Encounter",
          "Bundle.entry.0.Encounter.id",
          "Bundle.entry.0.Encounter.class",
          "Bundle.entry.0.Encounter.class.code",
          "Bundle.entry.0.Encounter.class.system",
          "Bundle.entry.0.Encounter.participant.0",
          "Bundle.entry.0.Encounter.participant.0.individual",
          "Bundle.entry.0.Encounter.participant.0.individual.display",
          "Bundle.entry.0.Encounter.participant.0.individual.reference",
          "Bundle.entry.0.Encounter.participant.0.period",
          "Bundle.entry.0.Encounter.participant.0.period.end",
          "Bundle.entry.0.Encounter.participant.0.period.start",
          "Bundle.entry.0.Encounter.participant.0.type.0",
          "Bundle.entry.0.Encounter.participant.0.type.0.coding.0",
          "Bundle.entry.0.Encounter.participant.0.type.0.coding.0.code",
          "Bundle.entry.0.Encounter.participant.0.type.0.coding.0.display",
          "Bundle.entry.0.Encounter.participant.0.type.0.coding.0.system",
          "Bundle.entry.0.Encounter.participant.0.type.0.text",
          "Bundle.entry.0.Encounter.period",
          "Bundle.entry.0.Encounter.period.end",
          "Bundle.entry.0.Encounter.period.start",
          "Bundle.entry.0.Encounter.status",
          "Bundle.entry.0.Encounter.subject",
          "Bundle.entry.0.Encounter.subject.display",
          "Bundle.entry.0.Encounter.subject.reference",
          "Bundle.entry.1",
          "Bundle.entry.1.Patient",
          "Bundle.entry.1.Patient.id",
          "Bundle.entry.1.Patient.address.0",
          "Bundle.entry.1.Patient.address.0.city",
          "Bundle.entry.1.Patient.address.0.country",
          "Bundle.entry.1.Patient.address.0.line.0",
          "Bundle.entry.1.Patient.address.0.postalCode",
          "Bundle.entry.1.Patient.address.0.state",
          "Bundle.entry.1.Patient.birthDate",
          "Bundle.entry.1.Patient.communication.0",
          "Bundle.entry.1.Patient.communication.0.language",
          "Bundle.entry.1.Patient.communication.0.language.coding.0",
          "Bundle.entry.1.Patient.communication.0.language.coding.0.code",
          "Bundle.entry.1.Patient.communication.0.language.coding.0.display",
          "Bundle.entry.1.Patient.communication.0.language.coding.0.system",
          "Bundle.entry.1.Patient.communication.0.language.text",
          "Bundle.entry.1.Patient.gender",
          "Bundle.entry.1.Patient.name.0",
          "Bundle.entry.1.Patient.name.0.family",
          "Bundle.entry.1.Patient.name.0.given.0",
          "Bundle.entry.1.Patient.name.0.prefix.0",
          "Bundle.entry.1.Patient.name.0.use",
          "Bundle.entry.1.Patient.telecom.0",
          "Bundle.entry.1.Patient.telecom.0.system",
          "Bundle.entry.1.Patient.telecom.0.use",
          "Bundle.entry.1.Patient.telecom.0.value",
          "Bundle.entry.2",
          "Bundle.entry.2.AllergyIntolerance",
          "Bundle.entry.2.AllergyIntolerance.id",
          "Bundle.entry.2.AllergyIntolerance.category.0",
          "Bundle.entry.2.AllergyIntolerance.clinicalStatus",
          "Bundle.entry.2.AllergyIntolerance.clinicalStatus.coding.0",
          "Bundle.entry.2.AllergyIntolerance.clinicalStatus.coding.0.code",
          "Bundle.entry.2.AllergyIntolerance.clinicalStatus.coding.0.system",
          "Bundle.entry.2.AllergyIntolerance.code",
          "Bundle.entry.2.AllergyIntolerance.code.coding.0",
          "Bundle.entry.2.AllergyIntolerance.code.coding.0.code",
          "Bundle.entry.2.AllergyIntolerance.code.coding.0.display",
          "Bundle.entry.2.AllergyIntolerance.code.coding.0.system",
          "Bundle.entry.2.AllergyIntolerance.code.text",
          "Bundle.entry.2.AllergyIntolerance.patient",
          "Bundle.entry.2.AllergyIntolerance.patient.reference",
          "Bundle.entry.2.AllergyIntolerance.type",
          "Bundle.entry.2.AllergyIntolerance.verificationStatus",
          "Bundle.entry.2.AllergyIntolerance.verificationStatus.coding.0",
          "Bundle.entry.2.AllergyIntolerance.verificationStatus.coding.0.code",
          "Bundle.entry.2.AllergyIntolerance.verificationStatus.coding.0.system",
          "Bundle.type"
         ],
         "marker": {
          "cmid": 0.5,
          "colors": [
           0.7142857142857143,
           1,
           0.4375,
           0.4375,
           1,
           1,
           1,
           1,
           0.25,
           1,
           1,
           1,
           0,
           0,
           0,
           0,
           0,
           0,
           0,
           0,
           0,
           0,
           0,
           0,
           0,
           1,
           1,
           1,
           1,
           1,
           1,
           1,
           1,
           1,
           1,
           1,
           1,
           1,
           1,
           1,
           1,
           1,
           1,
           1,
           1,
           1,
           1,
           1,
           1,
           1,
           1,
           1,
           1,
           1,
           1,
           0.5833333333333334,
           0.5833333333333334,
           1,
           1,
           1,
           1,
           1,
           1,
           0,
           0,
           0,
           0,
           0,
           0,
           1,
           1,
           0,
           1,
           1,
           1,
           1,
           1
          ],
          "colorscale": [
           [
            0,
            "rgb(103,0,31)"
           ],
           [
            0.1,
            "rgb(178,24,43)"
           ],
           [
            0.2,
            "rgb(214,96,77)"
           ],
           [
            0.3,
            "rgb(244,165,130)"
           ],
           [
            0.4,
            "rgb(253,219,199)"
           ],
           [
            0.5,
            "rgb(247,247,247)"
           ],
           [
            0.6,
            "rgb(209,229,240)"
           ],
           [
            0.7,
            "rgb(146,197,222)"
           ],
           [
            0.8,
            "rgb(67,147,195)"
           ],
           [
            0.9,
            "rgb(33,102,172)"
           ],
           [
            1,
            "rgb(5,48,97)"
           ]
          ],
          "cornerradius": 5
         },
         "parents": [
          "",
          "Bundle",
          "Bundle",
          "Bundle.entry.0",
          "Bundle.entry.0.Encounter",
          "Bundle.entry.0.Encounter",
          "Bundle.entry.0.Encounter.class",
          "Bundle.entry.0.Encounter.class",
          "Bundle.entry.0.Encounter",
          "Bundle.entry.0.Encounter.participant.0",
          "Bundle.entry.0.Encounter.participant.0.individual",
          "Bundle.entry.0.Encounter.participant.0.individual",
          "Bundle.entry.0.Encounter.participant.0",
          "Bundle.entry.0.Encounter.participant.0.period",
          "Bundle.entry.0.Encounter.participant.0.period",
          "Bundle.entry.0.Encounter.participant.0",
          "Bundle.entry.0.Encounter.participant.0.type.0",
          "Bundle.entry.0.Encounter.participant.0.type.0.coding.0",
          "Bundle.entry.0.Encounter.participant.0.type.0.coding.0",
          "Bundle.entry.0.Encounter.participant.0.type.0.coding.0",
          "Bundle.entry.0.Encounter.participant.0.type.0",
          "Bundle.entry.0.Encounter",
          "Bundle.entry.0.Encounter.period",
          "Bundle.entry.0.Encounter.period",
          "Bundle.entry.0.Encounter",
          "Bundle.entry.0.Encounter",
          "Bundle.entry.0.Encounter.subject",
          "Bundle.entry.0.Encounter.subject",
          "Bundle",
          "Bundle.entry.1",
          "Bundle.entry.1.Patient",
          "Bundle.entry.1.Patient",
          "Bundle.entry.1.Patient.address.0",
          "Bundle.entry.1.Patient.address.0",
          "Bundle.entry.1.Patient.address.0",
          "Bundle.entry.1.Patient.address.0",
          "Bundle.entry.1.Patient.address.0",
          "Bundle.entry.1.Patient",
          "Bundle.entry.1.Patient",
          "Bundle.entry.1.Patient.communication.0",
          "Bundle.entry.1.Patient.communication.0.language",
          "Bundle.entry.1.Patient.communication.0.language.coding.0",
          "Bundle.entry.1.Patient.communication.0.language.coding.0",
          "Bundle.entry.1.Patient.communication.0.language.coding.0",
          "Bundle.entry.1.Patient.communication.0.language",
          "Bundle.entry.1.Patient",
          "Bundle.entry.1.Patient",
          "Bundle.entry.1.Patient.name.0",
          "Bundle.entry.1.Patient.name.0",
          "Bundle.entry.1.Patient.name.0",
          "Bundle.entry.1.Patient.name.0",
          "Bundle.entry.1.Patient",
          "Bundle.entry.1.Patient.telecom.0",
          "Bundle.entry.1.Patient.telecom.0",
          "Bundle.entry.1.Patient.telecom.0",
          "Bundle",
          "Bundle.entry.2",
          "Bundle.entry.2.AllergyIntolerance",
          "Bundle.entry.2.AllergyIntolerance",
          "Bundle.entry.2.AllergyIntolerance",
          "Bundle.entry.2.AllergyIntolerance.clinicalStatus",
          "Bundle.entry.2.AllergyIntolerance.clinicalStatus.coding.0",
          "Bundle.entry.2.AllergyIntolerance.clinicalStatus.coding.0",
          "Bundle.entry.2.AllergyIntolerance",
          "Bundle.entry.2.AllergyIntolerance.code",
          "Bundle.entry.2.AllergyIntolerance.code.coding.0",
          "Bundle.entry.2.AllergyIntolerance.code.coding.0",
          "Bundle.entry.2.AllergyIntolerance.code.coding.0",
          "Bundle.entry.2.AllergyIntolerance.code",
          "Bundle.entry.2.AllergyIntolerance",
          "Bundle.entry.2.AllergyIntolerance.patient",
          "Bundle.entry.2.AllergyIntolerance",
          "Bundle.entry.2.AllergyIntolerance",
          "Bundle.entry.2.AllergyIntolerance.verificationStatus",
          "Bundle.entry.2.AllergyIntolerance.verificationStatus.coding.0",
          "Bundle.entry.2.AllergyIntolerance.verificationStatus.coding.0",
          "Bundle"
         ],
         "text": [
          "Bundle",
          "id",
          [
           "entry",
           "0"
          ],
          "Encounter",
          "id",
          "class",
          "code",
          "system",
          [
           "participant",
           "0"
          ],
          "individual",
          "display",
          "reference",
          "period",
          "end",
          "start",
          [
           "type",
           "0"
          ],
          [
           "coding",
           "0"
          ],
          "code",
          "display",
          "system",
          "text",
          "period",
          "end",
          "start",
          "status",
          "subject",
          "display",
          "reference",
          [
           "entry",
           "1"
          ],
          "Patient",
          "id",
          [
           "address",
           "0"
          ],
          "city",
          "country",
          [
           "line",
           "0"
          ],
          "postalCode",
          "state",
          "birthDate",
          [
           "communication",
           "0"
          ],
          "language",
          [
           "coding",
           "0"
          ],
          "code",
          "display",
          "system",
          "text",
          "gender",
          [
           "name",
           "0"
          ],
          "family",
          [
           "given",
           "0"
          ],
          [
           "prefix",
           "0"
          ],
          "use",
          [
           "telecom",
           "0"
          ],
          "system",
          "use",
          "value",
          [
           "entry",
           "2"
          ],
          "AllergyIntolerance",
          "id",
          [
           "category",
           "0"
          ],
          "clinicalStatus",
          [
           "coding",
           "0"
          ],
          "code",
          "system",
          "code",
          [
           "coding",
           "0"
          ],
          "code",
          "display",
          "system",
          "text",
          "patient",
          "reference",
          "type",
          "verificationStatus",
          [
           "coding",
           "0"
          ],
          "code",
          "system",
          "type"
         ],
         "textinfo": "text",
         "type": "treemap",
         "values": [
          11,
          10,
          9,
          8,
          7,
          7,
          6,
          6,
          6,
          5,
          4,
          4,
          5,
          4,
          4,
          4,
          2,
          1,
          1,
          1,
          3,
          7,
          6,
          6,
          7,
          7,
          6,
          6,
          9,
          8,
          7,
          6,
          5,
          5,
          4,
          5,
          5,
          7,
          6,
          5,
          3,
          2,
          2,
          2,
          4,
          7,
          6,
          5,
          4,
          4,
          5,
          6,
          5,
          5,
          5,
          9,
          8,
          7,
          6,
          7,
          5,
          4,
          4,
          7,
          5,
          4,
          4,
          4,
          6,
          7,
          6,
          7,
          7,
          5,
          4,
          4,
          10
         ]
        }
       ],
       "layout": {
        "margin": {
         "b": 25,
         "l": 25,
         "r": 25,
         "t": 50
        },
        "template": {
         "data": {
          "bar": [
           {
            "error_x": {
             "color": "#2a3f5f"
            },
            "error_y": {
             "color": "#2a3f5f"
            },
            "marker": {
             "line": {
              "color": "#E5ECF6",
              "width": 0.5
             },
             "pattern": {
              "fillmode": "overlay",
              "size": 10,
              "solidity": 0.2
             }
            },
            "type": "bar"
           }
          ],
          "barpolar": [
           {
            "marker": {
             "line": {
              "color": "#E5ECF6",
              "width": 0.5
             },
             "pattern": {
              "fillmode": "overlay",
              "size": 10,
              "solidity": 0.2
             }
            },
            "type": "barpolar"
           }
          ],
          "carpet": [
           {
            "aaxis": {
             "endlinecolor": "#2a3f5f",
             "gridcolor": "white",
             "linecolor": "white",
             "minorgridcolor": "white",
             "startlinecolor": "#2a3f5f"
            },
            "baxis": {
             "endlinecolor": "#2a3f5f",
             "gridcolor": "white",
             "linecolor": "white",
             "minorgridcolor": "white",
             "startlinecolor": "#2a3f5f"
            },
            "type": "carpet"
           }
          ],
          "choropleth": [
           {
            "colorbar": {
             "outlinewidth": 0,
             "ticks": ""
            },
            "type": "choropleth"
           }
          ],
          "contour": [
           {
            "colorbar": {
             "outlinewidth": 0,
             "ticks": ""
            },
            "colorscale": [
             [
              0,
              "#0d0887"
             ],
             [
              0.1111111111111111,
              "#46039f"
             ],
             [
              0.2222222222222222,
              "#7201a8"
             ],
             [
              0.3333333333333333,
              "#9c179e"
             ],
             [
              0.4444444444444444,
              "#bd3786"
             ],
             [
              0.5555555555555556,
              "#d8576b"
             ],
             [
              0.6666666666666666,
              "#ed7953"
             ],
             [
              0.7777777777777778,
              "#fb9f3a"
             ],
             [
              0.8888888888888888,
              "#fdca26"
             ],
             [
              1,
              "#f0f921"
             ]
            ],
            "type": "contour"
           }
          ],
          "contourcarpet": [
           {
            "colorbar": {
             "outlinewidth": 0,
             "ticks": ""
            },
            "type": "contourcarpet"
           }
          ],
          "heatmap": [
           {
            "colorbar": {
             "outlinewidth": 0,
             "ticks": ""
            },
            "colorscale": [
             [
              0,
              "#0d0887"
             ],
             [
              0.1111111111111111,
              "#46039f"
             ],
             [
              0.2222222222222222,
              "#7201a8"
             ],
             [
              0.3333333333333333,
              "#9c179e"
             ],
             [
              0.4444444444444444,
              "#bd3786"
             ],
             [
              0.5555555555555556,
              "#d8576b"
             ],
             [
              0.6666666666666666,
              "#ed7953"
             ],
             [
              0.7777777777777778,
              "#fb9f3a"
             ],
             [
              0.8888888888888888,
              "#fdca26"
             ],
             [
              1,
              "#f0f921"
             ]
            ],
            "type": "heatmap"
           }
          ],
          "heatmapgl": [
           {
            "colorbar": {
             "outlinewidth": 0,
             "ticks": ""
            },
            "colorscale": [
             [
              0,
              "#0d0887"
             ],
             [
              0.1111111111111111,
              "#46039f"
             ],
             [
              0.2222222222222222,
              "#7201a8"
             ],
             [
              0.3333333333333333,
              "#9c179e"
             ],
             [
              0.4444444444444444,
              "#bd3786"
             ],
             [
              0.5555555555555556,
              "#d8576b"
             ],
             [
              0.6666666666666666,
              "#ed7953"
             ],
             [
              0.7777777777777778,
              "#fb9f3a"
             ],
             [
              0.8888888888888888,
              "#fdca26"
             ],
             [
              1,
              "#f0f921"
             ]
            ],
            "type": "heatmapgl"
           }
          ],
          "histogram": [
           {
            "marker": {
             "pattern": {
              "fillmode": "overlay",
              "size": 10,
              "solidity": 0.2
             }
            },
            "type": "histogram"
           }
          ],
          "histogram2d": [
           {
            "colorbar": {
             "outlinewidth": 0,
             "ticks": ""
            },
            "colorscale": [
             [
              0,
              "#0d0887"
             ],
             [
              0.1111111111111111,
              "#46039f"
             ],
             [
              0.2222222222222222,
              "#7201a8"
             ],
             [
              0.3333333333333333,
              "#9c179e"
             ],
             [
              0.4444444444444444,
              "#bd3786"
             ],
             [
              0.5555555555555556,
              "#d8576b"
             ],
             [
              0.6666666666666666,
              "#ed7953"
             ],
             [
              0.7777777777777778,
              "#fb9f3a"
             ],
             [
              0.8888888888888888,
              "#fdca26"
             ],
             [
              1,
              "#f0f921"
             ]
            ],
            "type": "histogram2d"
           }
          ],
          "histogram2dcontour": [
           {
            "colorbar": {
             "outlinewidth": 0,
             "ticks": ""
            },
            "colorscale": [
             [
              0,
              "#0d0887"
             ],
             [
              0.1111111111111111,
              "#46039f"
             ],
             [
              0.2222222222222222,
              "#7201a8"
             ],
             [
              0.3333333333333333,
              "#9c179e"
             ],
             [
              0.4444444444444444,
              "#bd3786"
             ],
             [
              0.5555555555555556,
              "#d8576b"
             ],
             [
              0.6666666666666666,
              "#ed7953"
             ],
             [
              0.7777777777777778,
              "#fb9f3a"
             ],
             [
              0.8888888888888888,
              "#fdca26"
             ],
             [
              1,
              "#f0f921"
             ]
            ],
            "type": "histogram2dcontour"
           }
          ],
          "mesh3d": [
           {
            "colorbar": {
             "outlinewidth": 0,
             "ticks": ""
            },
            "type": "mesh3d"
           }
          ],
          "parcoords": [
           {
            "line": {
             "colorbar": {
              "outlinewidth": 0,
              "ticks": ""
             }
            },
            "type": "parcoords"
           }
          ],
          "pie": [
           {
            "automargin": true,
            "type": "pie"
           }
          ],
          "scatter": [
           {
            "fillpattern": {
             "fillmode": "overlay",
             "size": 10,
             "solidity": 0.2
            },
            "type": "scatter"
           }
          ],
          "scatter3d": [
           {
            "line": {
             "colorbar": {
              "outlinewidth": 0,
              "ticks": ""
             }
            },
            "marker": {
             "colorbar": {
              "outlinewidth": 0,
              "ticks": ""
             }
            },
            "type": "scatter3d"
           }
          ],
          "scattercarpet": [
           {
            "marker": {
             "colorbar": {
              "outlinewidth": 0,
              "ticks": ""
             }
            },
            "type": "scattercarpet"
           }
          ],
          "scattergeo": [
           {
            "marker": {
             "colorbar": {
              "outlinewidth": 0,
              "ticks": ""
             }
            },
            "type": "scattergeo"
           }
          ],
          "scattergl": [
           {
            "marker": {
             "colorbar": {
              "outlinewidth": 0,
              "ticks": ""
             }
            },
            "type": "scattergl"
           }
          ],
          "scattermapbox": [
           {
            "marker": {
             "colorbar": {
              "outlinewidth": 0,
              "ticks": ""
             }
            },
            "type": "scattermapbox"
           }
          ],
          "scatterpolar": [
           {
            "marker": {
             "colorbar": {
              "outlinewidth": 0,
              "ticks": ""
             }
            },
            "type": "scatterpolar"
           }
          ],
          "scatterpolargl": [
           {
            "marker": {
             "colorbar": {
              "outlinewidth": 0,
              "ticks": ""
             }
            },
            "type": "scatterpolargl"
           }
          ],
          "scatterternary": [
           {
            "marker": {
             "colorbar": {
              "outlinewidth": 0,
              "ticks": ""
             }
            },
            "type": "scatterternary"
           }
          ],
          "surface": [
           {
            "colorbar": {
             "outlinewidth": 0,
             "ticks": ""
            },
            "colorscale": [
             [
              0,
              "#0d0887"
             ],
             [
              0.1111111111111111,
              "#46039f"
             ],
             [
              0.2222222222222222,
              "#7201a8"
             ],
             [
              0.3333333333333333,
              "#9c179e"
             ],
             [
              0.4444444444444444,
              "#bd3786"
             ],
             [
              0.5555555555555556,
              "#d8576b"
             ],
             [
              0.6666666666666666,
              "#ed7953"
             ],
             [
              0.7777777777777778,
              "#fb9f3a"
             ],
             [
              0.8888888888888888,
              "#fdca26"
             ],
             [
              1,
              "#f0f921"
             ]
            ],
            "type": "surface"
           }
          ],
          "table": [
           {
            "cells": {
             "fill": {
              "color": "#EBF0F8"
             },
             "line": {
              "color": "white"
             }
            },
            "header": {
             "fill": {
              "color": "#C8D4E3"
             },
             "line": {
              "color": "white"
             }
            },
            "type": "table"
           }
          ]
         },
         "layout": {
          "annotationdefaults": {
           "arrowcolor": "#2a3f5f",
           "arrowhead": 0,
           "arrowwidth": 1
          },
          "autotypenumbers": "strict",
          "coloraxis": {
           "colorbar": {
            "outlinewidth": 0,
            "ticks": ""
           }
          },
          "colorscale": {
           "diverging": [
            [
             0,
             "#8e0152"
            ],
            [
             0.1,
             "#c51b7d"
            ],
            [
             0.2,
             "#de77ae"
            ],
            [
             0.3,
             "#f1b6da"
            ],
            [
             0.4,
             "#fde0ef"
            ],
            [
             0.5,
             "#f7f7f7"
            ],
            [
             0.6,
             "#e6f5d0"
            ],
            [
             0.7,
             "#b8e186"
            ],
            [
             0.8,
             "#7fbc41"
            ],
            [
             0.9,
             "#4d9221"
            ],
            [
             1,
             "#276419"
            ]
           ],
           "sequential": [
            [
             0,
             "#0d0887"
            ],
            [
             0.1111111111111111,
             "#46039f"
            ],
            [
             0.2222222222222222,
             "#7201a8"
            ],
            [
             0.3333333333333333,
             "#9c179e"
            ],
            [
             0.4444444444444444,
             "#bd3786"
            ],
            [
             0.5555555555555556,
             "#d8576b"
            ],
            [
             0.6666666666666666,
             "#ed7953"
            ],
            [
             0.7777777777777778,
             "#fb9f3a"
            ],
            [
             0.8888888888888888,
             "#fdca26"
            ],
            [
             1,
             "#f0f921"
            ]
           ],
           "sequentialminus": [
            [
             0,
             "#0d0887"
            ],
            [
             0.1111111111111111,
             "#46039f"
            ],
            [
             0.2222222222222222,
             "#7201a8"
            ],
            [
             0.3333333333333333,
             "#9c179e"
            ],
            [
             0.4444444444444444,
             "#bd3786"
            ],
            [
             0.5555555555555556,
             "#d8576b"
            ],
            [
             0.6666666666666666,
             "#ed7953"
            ],
            [
             0.7777777777777778,
             "#fb9f3a"
            ],
            [
             0.8888888888888888,
             "#fdca26"
            ],
            [
             1,
             "#f0f921"
            ]
           ]
          },
          "colorway": [
           "#636efa",
           "#EF553B",
           "#00cc96",
           "#ab63fa",
           "#FFA15A",
           "#19d3f3",
           "#FF6692",
           "#B6E880",
           "#FF97FF",
           "#FECB52"
          ],
          "font": {
           "color": "#2a3f5f"
          },
          "geo": {
           "bgcolor": "white",
           "lakecolor": "white",
           "landcolor": "#E5ECF6",
           "showlakes": true,
           "showland": true,
           "subunitcolor": "white"
          },
          "hoverlabel": {
           "align": "left"
          },
          "hovermode": "closest",
          "mapbox": {
           "style": "light"
          },
          "paper_bgcolor": "white",
          "plot_bgcolor": "#E5ECF6",
          "polar": {
           "angularaxis": {
            "gridcolor": "white",
            "linecolor": "white",
            "ticks": ""
           },
           "bgcolor": "#E5ECF6",
           "radialaxis": {
            "gridcolor": "white",
            "linecolor": "white",
            "ticks": ""
           }
          },
          "scene": {
           "xaxis": {
            "backgroundcolor": "#E5ECF6",
            "gridcolor": "white",
            "gridwidth": 2,
            "linecolor": "white",
            "showbackground": true,
            "ticks": "",
            "zerolinecolor": "white"
           },
           "yaxis": {
            "backgroundcolor": "#E5ECF6",
            "gridcolor": "white",
            "gridwidth": 2,
            "linecolor": "white",
            "showbackground": true,
            "ticks": "",
            "zerolinecolor": "white"
           },
           "zaxis": {
            "backgroundcolor": "#E5ECF6",
            "gridcolor": "white",
            "gridwidth": 2,
            "linecolor": "white",
            "showbackground": true,
            "ticks": "",
            "zerolinecolor": "white"
           }
          },
          "shapedefaults": {
           "line": {
            "color": "#2a3f5f"
           }
          },
          "ternary": {
           "aaxis": {
            "gridcolor": "white",
            "linecolor": "white",
            "ticks": ""
           },
           "baxis": {
            "gridcolor": "white",
            "linecolor": "white",
            "ticks": ""
           },
           "bgcolor": "#E5ECF6",
           "caxis": {
            "gridcolor": "white",
            "linecolor": "white",
            "ticks": ""
           }
          },
          "title": {
           "x": 0.05
          },
          "xaxis": {
           "automargin": true,
           "gridcolor": "white",
           "linecolor": "white",
           "ticks": "",
           "title": {
            "standoff": 15
           },
           "zerolinecolor": "white",
           "zerolinewidth": 2
          },
          "yaxis": {
           "automargin": true,
           "gridcolor": "white",
           "linecolor": "white",
           "ticks": "",
           "title": {
            "standoff": 15
           },
           "zerolinecolor": "white",
           "zerolinewidth": 2
          }
         }
        }
       }
      },
      "text/html": [
       "<div>                            <div id=\"31c7be2f-9686-4996-9105-9eff972805fa\" class=\"plotly-graph-div\" style=\"height:525px; width:100%;\"></div>            <script type=\"text/javascript\">                require([\"plotly\"], function(Plotly) {                    window.PLOTLYENV=window.PLOTLYENV || {};                                    if (document.getElementById(\"31c7be2f-9686-4996-9105-9eff972805fa\")) {                    Plotly.newPlot(                        \"31c7be2f-9686-4996-9105-9eff972805fa\",                        [{\"hoverinfo\":\"text\",\"hovertext\":[\"n_leaves=49 n_additions=1 n_deletions=10 n_modifications=3 n_matches=35 is_valid=None accuracy=0.7142857142857143 precision=0.8974358974358975 recall=0.7291666666666666\\u003cbr\\u003e\\u003ci\\u003etrue: \\u003c\\u002fi\\u003e{'entry': [...], 'id': '1', 'resourceType': 'Bundle', 'type': 'collection'}\\u003cbr\\u003e\\u003ci\\u003epred: \\u003c\\u002fi\\u003e{'entry': [...], 'id': '1', 'resourceType': 'Bundle', 'type': 'collection'}\",\"n_leaves=1 n_additions=0 n_deletions=0 n_modifications=0 n_matches=1 is_valid=None accuracy=1.0 precision=1.0 recall=1.0\\u003cbr\\u003e\\u003ci\\u003etrue: \\u003c\\u002fi\\u003e'1'\\u003cbr\\u003e\\u003ci\\u003epred: \\u003c\\u002fi\\u003e'1'\",\"n_leaves=16 n_additions=0 n_deletions=6 n_modifications=3 n_matches=7 is_valid=None accuracy=0.4375 precision=0.7 recall=0.4375\\u003cbr\\u003e\\u003ci\\u003etrue: \\u003c\\u002fi\\u003e{'resource': {...}, 'resourceType': {}}\\u003cbr\\u003e\\u003ci\\u003epred: \\u003c\\u002fi\\u003e{'resource': {...}}\",\"n_leaves=16 n_additions=0 n_deletions=6 n_modifications=3 n_matches=7 is_valid=None accuracy=0.4375 precision=0.7 recall=0.4375\\u003cbr\\u003e\\u003ci\\u003etrue: \\u003c\\u002fi\\u003e{'class': {...},\\u003cbr\\u003e\\u003ci\\u003e...8 lines...\\u003c\\u002fi\\u003e\\u003cbr\\u003e 'type': None}\\u003cbr\\u003e\\u003ci\\u003epred: \\u003c\\u002fi\\u003e{'class': {...},\\u003cbr\\u003e\\u003ci\\u003e...8 lines...\\u003c\\u002fi\\u003e\\u003cbr\\u003e 'type': None}\",\"n_leaves=1 n_additions=0 n_deletions=0 n_modifications=0 n_matches=1 is_valid=None accuracy=1.0 precision=1.0 recall=1.0\\u003cbr\\u003e\\u003ci\\u003etrue: \\u003c\\u002fi\\u003e'1'\\u003cbr\\u003e\\u003ci\\u003epred: \\u003c\\u002fi\\u003e'1'\",\"n_leaves=2 n_additions=0 n_deletions=0 n_modifications=0 n_matches=2 is_valid=None accuracy=1.0 precision=1.0 recall=1.0\\u003cbr\\u003e\\u003ci\\u003etrue: \\u003c\\u002fi\\u003e{'code': 'AMB',\\u003cbr\\u003e 'resourceType': {},\\u003cbr\\u003e 'system': 'http:\\u002f\\u002fterminology.hl7.org\\u002fCodeSystem\\u002fv3-ActCode'}\\u003cbr\\u003e\\u003ci\\u003epred: \\u003c\\u002fi\\u003e{'code': 'AMB', 'system': 'http:\\u002f\\u002fterminology.hl7.org\\u002fCodeSystem\\u002fv3-ActCode'}\",\"n_leaves=1 n_additions=0 n_deletions=0 n_modifications=0 n_matches=1 is_valid=None accuracy=1.0 precision=1.0 recall=1.0\\u003cbr\\u003e\\u003ci\\u003etrue: \\u003c\\u002fi\\u003e'AMB'\\u003cbr\\u003e\\u003ci\\u003epred: \\u003c\\u002fi\\u003e'AMB'\",\"n_leaves=1 n_additions=0 n_deletions=0 n_modifications=0 n_matches=1 is_valid=None accuracy=1.0 precision=1.0 recall=1.0\\u003cbr\\u003e\\u003ci\\u003etrue: \\u003c\\u002fi\\u003e'http:\\u002f\\u002fterminology.hl7.org\\u002fCodeSystem\\u002fv3-ActCode'\\u003cbr\\u003e\\u003ci\\u003epred: \\u003c\\u002fi\\u003e'http:\\u002f\\u002fterminology.hl7.org\\u002fCodeSystem\\u002fv3-ActCode'\",\"n_leaves=8 n_additions=0 n_deletions=4 n_modifications=2 n_matches=2 is_valid=None accuracy=0.25 precision=0.5 recall=0.25\\u003cbr\\u003e\\u003ci\\u003etrue: \\u003c\\u002fi\\u003e{'individual': {...}, 'period': {...}, 'resourceType': {}, 'type': [...]}\\u003cbr\\u003e\\u003ci\\u003epred: \\u003c\\u002fi\\u003e{'individual': {...}, 'period': {...}, 'type': None}\",\"n_leaves=2 n_additions=0 n_deletions=0 n_modifications=0 n_matches=2 is_valid=None accuracy=1.0 precision=1.0 recall=1.0\\u003cbr\\u003e\\u003ci\\u003etrue: \\u003c\\u002fi\\u003e{'display': 'Dr. Jude Reynolds',\\u003cbr\\u003e 'reference': 'Practitioner\\u002f1',\\u003cbr\\u003e 'resourceType': {}}\\u003cbr\\u003e\\u003ci\\u003epred: \\u003c\\u002fi\\u003e{'display': 'Dr. Jude Reynolds', 'reference': 'Practitioner\\u002f1'}\",\"n_leaves=1 n_additions=0 n_deletions=0 n_modifications=0 n_matches=1 is_valid=None accuracy=1.0 precision=1.0 recall=1.0\\u003cbr\\u003e\\u003ci\\u003etrue: \\u003c\\u002fi\\u003e'Dr. Jude Reynolds'\\u003cbr\\u003e\\u003ci\\u003epred: \\u003c\\u002fi\\u003e'Dr. Jude Reynolds'\",\"n_leaves=1 n_additions=0 n_deletions=0 n_modifications=0 n_matches=1 is_valid=None accuracy=1.0 precision=1.0 recall=1.0\\u003cbr\\u003e\\u003ci\\u003etrue: \\u003c\\u002fi\\u003e'Practitioner\\u002f1'\\u003cbr\\u003e\\u003ci\\u003epred: \\u003c\\u002fi\\u003e'Practitioner\\u002f1'\",\"n_leaves=2 n_additions=0 n_deletions=0 n_modifications=2 n_matches=0 is_valid=None accuracy=0.0 precision=0.0 recall=0.0\\u003cbr\\u003e\\u003ci\\u003etrue: \\u003c\\u002fi\\u003e{'end': '2023-01-17T21:57:36+01:00',\\u003cbr\\u003e 'resourceType': {},\\u003cbr\\u003e 'start': '2023-01-17T21:42:36+01:00'}\\u003cbr\\u003e\\u003ci\\u003epred: \\u003c\\u002fi\\u003e{'end': '2023-01-17T21:57:00+01:00', 'start': '2023-01-17T21:42:00+01:00'}\",\"n_leaves=1 n_additions=0 n_deletions=0 n_modifications=1 n_matches=0 is_valid=None accuracy=0.0 precision=0.0 recall=0.0\\u003cbr\\u003e\\u003ci\\u003etrue: \\u003c\\u002fi\\u003e'2023-01-17T21:57:36+01:00'\\u003cbr\\u003e\\u003ci\\u003epred: \\u003c\\u002fi\\u003e'2023-01-17T21:57:00+01:00'\",\"n_leaves=1 n_additions=0 n_deletions=0 n_modifications=1 n_matches=0 is_valid=None accuracy=0.0 precision=0.0 recall=0.0\\u003cbr\\u003e\\u003ci\\u003etrue: \\u003c\\u002fi\\u003e'2023-01-17T21:42:36+01:00'\\u003cbr\\u003e\\u003ci\\u003epred: \\u003c\\u002fi\\u003e'2023-01-17T21:42:00+01:00'\",\"n_leaves=4 n_additions=0 n_deletions=4 n_modifications=0 n_matches=0 is_valid=None accuracy=0.0 precision=0.0 recall=0.0\\u003cbr\\u003e\\u003ci\\u003etrue: \\u003c\\u002fi\\u003e{'coding': [...], 'resourceType': {}, 'text': 'primary performer'}\\u003cbr\\u003e\\u003ci\\u003epred: \\u003c\\u002fi\\u003e{'coding': [], 'text': {}}\",\"n_leaves=3 n_additions=0 n_deletions=3 n_modifications=0 n_matches=0 is_valid=None accuracy=0.0 precision=0.0 recall=0.0\\u003cbr\\u003e\\u003ci\\u003etrue: \\u003c\\u002fi\\u003e{'code': 'PPRF',\\u003cbr\\u003e\\u003ci\\u003e...2 lines...\\u003c\\u002fi\\u003e\\u003cbr\\u003e 'system': 'http:\\u002f\\u002fterminology.hl7.org\\u002fCodeSystem\\u002fv3-ParticipationType'}\\u003cbr\\u003e\\u003ci\\u003epred: \\u003c\\u002fi\\u003e{'code': {}, 'display': {}, 'system': {}}\",\"n_leaves=1 n_additions=0 n_deletions=1 n_modifications=0 n_matches=0 is_valid=None accuracy=0.0 precision=0.0 recall=0.0\\u003cbr\\u003e\\u003ci\\u003etrue: \\u003c\\u002fi\\u003e'PPRF'\\u003cbr\\u003e\\u003ci\\u003epred: \\u003c\\u002fi\\u003e{}\",\"n_leaves=1 n_additions=0 n_deletions=1 n_modifications=0 n_matches=0 is_valid=None accuracy=0.0 precision=0.0 recall=0.0\\u003cbr\\u003e\\u003ci\\u003etrue: \\u003c\\u002fi\\u003e'primary performer'\\u003cbr\\u003e\\u003ci\\u003epred: \\u003c\\u002fi\\u003e{}\",\"n_leaves=1 n_additions=0 n_deletions=1 n_modifications=0 n_matches=0 is_valid=None accuracy=0.0 precision=0.0 recall=0.0\\u003cbr\\u003e\\u003ci\\u003etrue: \\u003c\\u002fi\\u003e'http:\\u002f\\u002fterminology.hl7.org\\u002fCodeSystem\\u002fv3-ParticipationType'\\u003cbr\\u003e\\u003ci\\u003epred: \\u003c\\u002fi\\u003e{}\",\"n_leaves=1 n_additions=0 n_deletions=1 n_modifications=0 n_matches=0 is_valid=None accuracy=0.0 precision=0.0 recall=0.0\\u003cbr\\u003e\\u003ci\\u003etrue: \\u003c\\u002fi\\u003e'primary performer'\\u003cbr\\u003e\\u003ci\\u003epred: \\u003c\\u002fi\\u003e{}\",\"n_leaves=2 n_additions=0 n_deletions=2 n_modifications=0 n_matches=0 is_valid=None accuracy=0.0 precision=0.0 recall=0.0\\u003cbr\\u003e\\u003ci\\u003etrue: \\u003c\\u002fi\\u003e{'end': '2023-01-17T21:57:36+01:00',\\u003cbr\\u003e 'resourceType': {},\\u003cbr\\u003e 'start': '2023-01-17T21:42:36+01:00'}\\u003cbr\\u003e\\u003ci\\u003epred: \\u003c\\u002fi\\u003e{'end': {}, 'start': {}}\",\"n_leaves=1 n_additions=0 n_deletions=1 n_modifications=0 n_matches=0 is_valid=None accuracy=0.0 precision=0.0 recall=0.0\\u003cbr\\u003e\\u003ci\\u003etrue: \\u003c\\u002fi\\u003e'2023-01-17T21:57:36+01:00'\\u003cbr\\u003e\\u003ci\\u003epred: \\u003c\\u002fi\\u003e{}\",\"n_leaves=1 n_additions=0 n_deletions=1 n_modifications=0 n_matches=0 is_valid=None accuracy=0.0 precision=0.0 recall=0.0\\u003cbr\\u003e\\u003ci\\u003etrue: \\u003c\\u002fi\\u003e'2023-01-17T21:42:36+01:00'\\u003cbr\\u003e\\u003ci\\u003epred: \\u003c\\u002fi\\u003e{}\",\"n_leaves=1 n_additions=0 n_deletions=0 n_modifications=1 n_matches=0 is_valid=None accuracy=0.0 precision=0.0 recall=0.0\\u003cbr\\u003e\\u003ci\\u003etrue: \\u003c\\u002fi\\u003e'finished'\\u003cbr\\u003e\\u003ci\\u003epred: \\u003c\\u002fi\\u003e'unknown'\",\"n_leaves=2 n_additions=0 n_deletions=0 n_modifications=0 n_matches=2 is_valid=None accuracy=1.0 precision=1.0 recall=1.0\\u003cbr\\u003e\\u003ci\\u003etrue: \\u003c\\u002fi\\u003e{'display': 'Mr. Chase Olson', 'reference': 'Patient\\u002f1', 'resourceType': {}}\\u003cbr\\u003e\\u003ci\\u003epred: \\u003c\\u002fi\\u003e{'display': 'Mr. Chase Olson', 'reference': 'Patient\\u002f1'}\",\"n_leaves=1 n_additions=0 n_deletions=0 n_modifications=0 n_matches=1 is_valid=None accuracy=1.0 precision=1.0 recall=1.0\\u003cbr\\u003e\\u003ci\\u003etrue: \\u003c\\u002fi\\u003e'Mr. Chase Olson'\\u003cbr\\u003e\\u003ci\\u003epred: \\u003c\\u002fi\\u003e'Mr. Chase Olson'\",\"n_leaves=1 n_additions=0 n_deletions=0 n_modifications=0 n_matches=1 is_valid=None accuracy=1.0 precision=1.0 recall=1.0\\u003cbr\\u003e\\u003ci\\u003etrue: \\u003c\\u002fi\\u003e'Patient\\u002f1'\\u003cbr\\u003e\\u003ci\\u003epred: \\u003c\\u002fi\\u003e'Patient\\u002f1'\",\"n_leaves=19 n_additions=0 n_deletions=0 n_modifications=0 n_matches=19 is_valid=None accuracy=1.0 precision=1.0 recall=1.0\\u003cbr\\u003e\\u003ci\\u003etrue: \\u003c\\u002fi\\u003e{'resource': {...}, 'resourceType': {}}\\u003cbr\\u003e\\u003ci\\u003epred: \\u003c\\u002fi\\u003e{'resource': {...}}\",\"n_leaves=19 n_additions=0 n_deletions=0 n_modifications=0 n_matches=19 is_valid=None accuracy=1.0 precision=1.0 recall=1.0\\u003cbr\\u003e\\u003ci\\u003etrue: \\u003c\\u002fi\\u003e{'address': [...],\\u003cbr\\u003e\\u003ci\\u003e...8 lines...\\u003c\\u002fi\\u003e\\u003cbr\\u003e 'telecom': [...]}\\u003cbr\\u003e\\u003ci\\u003epred: \\u003c\\u002fi\\u003e{'address': [...],\\u003cbr\\u003e\\u003ci\\u003e...8 lines...\\u003c\\u002fi\\u003e\\u003cbr\\u003e 'telecom': [...]}\",\"n_leaves=1 n_additions=0 n_deletions=0 n_modifications=0 n_matches=1 is_valid=None accuracy=1.0 precision=1.0 recall=1.0\\u003cbr\\u003e\\u003ci\\u003etrue: \\u003c\\u002fi\\u003e'1'\\u003cbr\\u003e\\u003ci\\u003epred: \\u003c\\u002fi\\u003e'1'\",\"n_leaves=5 n_additions=0 n_deletions=0 n_modifications=0 n_matches=5 is_valid=None accuracy=1.0 precision=1.0 recall=1.0\\u003cbr\\u003e\\u003ci\\u003etrue: \\u003c\\u002fi\\u003e{'city': 'Palmer',\\u003cbr\\u003e\\u003ci\\u003e...4 lines...\\u003c\\u002fi\\u003e\\u003cbr\\u003e 'state': 'Massachusetts'}\\u003cbr\\u003e\\u003ci\\u003epred: \\u003c\\u002fi\\u003e{'city': 'Palmer',\\u003cbr\\u003e\\u003ci\\u003e...3 lines...\\u003c\\u002fi\\u003e\\u003cbr\\u003e 'state': 'Massachusetts'}\",\"n_leaves=1 n_additions=0 n_deletions=0 n_modifications=0 n_matches=1 is_valid=None accuracy=1.0 precision=1.0 recall=1.0\\u003cbr\\u003e\\u003ci\\u003etrue: \\u003c\\u002fi\\u003e'Palmer'\\u003cbr\\u003e\\u003ci\\u003epred: \\u003c\\u002fi\\u003e'Palmer'\",\"n_leaves=1 n_additions=0 n_deletions=0 n_modifications=0 n_matches=1 is_valid=None accuracy=1.0 precision=1.0 recall=1.0\\u003cbr\\u003e\\u003ci\\u003etrue: \\u003c\\u002fi\\u003e'US'\\u003cbr\\u003e\\u003ci\\u003epred: \\u003c\\u002fi\\u003e'US'\",\"n_leaves=1 n_additions=0 n_deletions=0 n_modifications=0 n_matches=1 is_valid=None accuracy=1.0 precision=1.0 recall=1.0\\u003cbr\\u003e\\u003ci\\u003etrue: \\u003c\\u002fi\\u003e'792 Schumm Fork Unit 62'\\u003cbr\\u003e\\u003ci\\u003epred: \\u003c\\u002fi\\u003e'792 Schumm Fork Unit 62'\",\"n_leaves=1 n_additions=0 n_deletions=0 n_modifications=0 n_matches=1 is_valid=None accuracy=1.0 precision=1.0 recall=1.0\\u003cbr\\u003e\\u003ci\\u003etrue: \\u003c\\u002fi\\u003e'01069'\\u003cbr\\u003e\\u003ci\\u003epred: \\u003c\\u002fi\\u003e'01069'\",\"n_leaves=1 n_additions=0 n_deletions=0 n_modifications=0 n_matches=1 is_valid=None accuracy=1.0 precision=1.0 recall=1.0\\u003cbr\\u003e\\u003ci\\u003etrue: \\u003c\\u002fi\\u003e'Massachusetts'\\u003cbr\\u003e\\u003ci\\u003epred: \\u003c\\u002fi\\u003e'Massachusetts'\",\"n_leaves=1 n_additions=0 n_deletions=0 n_modifications=0 n_matches=1 is_valid=None accuracy=1.0 precision=1.0 recall=1.0\\u003cbr\\u003e\\u003ci\\u003etrue: \\u003c\\u002fi\\u003e'1966-11-29'\\u003cbr\\u003e\\u003ci\\u003epred: \\u003c\\u002fi\\u003e'1966-11-29'\",\"n_leaves=4 n_additions=0 n_deletions=0 n_modifications=0 n_matches=4 is_valid=None accuracy=1.0 precision=1.0 recall=1.0\\u003cbr\\u003e\\u003ci\\u003etrue: \\u003c\\u002fi\\u003e{'language': {...}, 'resourceType': {}}\\u003cbr\\u003e\\u003ci\\u003epred: \\u003c\\u002fi\\u003e{'language': {...}}\",\"n_leaves=4 n_additions=0 n_deletions=0 n_modifications=0 n_matches=4 is_valid=None accuracy=1.0 precision=1.0 recall=1.0\\u003cbr\\u003e\\u003ci\\u003etrue: \\u003c\\u002fi\\u003e{'coding': [...], 'resourceType': {}, 'text': 'English (United States)'}\\u003cbr\\u003e\\u003ci\\u003epred: \\u003c\\u002fi\\u003e{'coding': [...], 'text': 'English (United States)'}\",\"n_leaves=3 n_additions=0 n_deletions=0 n_modifications=0 n_matches=3 is_valid=None accuracy=1.0 precision=1.0 recall=1.0\\u003cbr\\u003e\\u003ci\\u003etrue: \\u003c\\u002fi\\u003e{'code': 'en-US',\\u003cbr\\u003e\\u003ci\\u003e...2 lines...\\u003c\\u002fi\\u003e\\u003cbr\\u003e 'system': 'urn:ietf:bcp:47'}\\u003cbr\\u003e\\u003ci\\u003epred: \\u003c\\u002fi\\u003e{'code': 'en-US',\\u003cbr\\u003e 'display': 'English (United States)',\\u003cbr\\u003e 'system': 'urn:ietf:bcp:47'}\",\"n_leaves=1 n_additions=0 n_deletions=0 n_modifications=0 n_matches=1 is_valid=None accuracy=1.0 precision=1.0 recall=1.0\\u003cbr\\u003e\\u003ci\\u003etrue: \\u003c\\u002fi\\u003e'en-US'\\u003cbr\\u003e\\u003ci\\u003epred: \\u003c\\u002fi\\u003e'en-US'\",\"n_leaves=1 n_additions=0 n_deletions=0 n_modifications=0 n_matches=1 is_valid=None accuracy=1.0 precision=1.0 recall=1.0\\u003cbr\\u003e\\u003ci\\u003etrue: \\u003c\\u002fi\\u003e'English (United States)'\\u003cbr\\u003e\\u003ci\\u003epred: \\u003c\\u002fi\\u003e'English (United States)'\",\"n_leaves=1 n_additions=0 n_deletions=0 n_modifications=0 n_matches=1 is_valid=None accuracy=1.0 precision=1.0 recall=1.0\\u003cbr\\u003e\\u003ci\\u003etrue: \\u003c\\u002fi\\u003e'urn:ietf:bcp:47'\\u003cbr\\u003e\\u003ci\\u003epred: \\u003c\\u002fi\\u003e'urn:ietf:bcp:47'\",\"n_leaves=1 n_additions=0 n_deletions=0 n_modifications=0 n_matches=1 is_valid=None accuracy=1.0 precision=1.0 recall=1.0\\u003cbr\\u003e\\u003ci\\u003etrue: \\u003c\\u002fi\\u003e'English (United States)'\\u003cbr\\u003e\\u003ci\\u003epred: \\u003c\\u002fi\\u003e'English (United States)'\",\"n_leaves=1 n_additions=0 n_deletions=0 n_modifications=0 n_matches=1 is_valid=None accuracy=1.0 precision=1.0 recall=1.0\\u003cbr\\u003e\\u003ci\\u003etrue: \\u003c\\u002fi\\u003e'male'\\u003cbr\\u003e\\u003ci\\u003epred: \\u003c\\u002fi\\u003e'male'\",\"n_leaves=4 n_additions=0 n_deletions=0 n_modifications=0 n_matches=4 is_valid=None accuracy=1.0 precision=1.0 recall=1.0\\u003cbr\\u003e\\u003ci\\u003etrue: \\u003c\\u002fi\\u003e{'family': 'Olson',\\u003cbr\\u003e\\u003ci\\u003e...3 lines...\\u003c\\u002fi\\u003e\\u003cbr\\u003e 'use': 'official'}\\u003cbr\\u003e\\u003ci\\u003epred: \\u003c\\u002fi\\u003e{'family': 'Olson', 'given': [...], 'prefix': [...], 'use': 'official'}\",\"n_leaves=1 n_additions=0 n_deletions=0 n_modifications=0 n_matches=1 is_valid=None accuracy=1.0 precision=1.0 recall=1.0\\u003cbr\\u003e\\u003ci\\u003etrue: \\u003c\\u002fi\\u003e'Olson'\\u003cbr\\u003e\\u003ci\\u003epred: \\u003c\\u002fi\\u003e'Olson'\",\"n_leaves=1 n_additions=0 n_deletions=0 n_modifications=0 n_matches=1 is_valid=None accuracy=1.0 precision=1.0 recall=1.0\\u003cbr\\u003e\\u003ci\\u003etrue: \\u003c\\u002fi\\u003e'Chase'\\u003cbr\\u003e\\u003ci\\u003epred: \\u003c\\u002fi\\u003e'Chase'\",\"n_leaves=1 n_additions=0 n_deletions=0 n_modifications=0 n_matches=1 is_valid=None accuracy=1.0 precision=1.0 recall=1.0\\u003cbr\\u003e\\u003ci\\u003etrue: \\u003c\\u002fi\\u003e'Mr.'\\u003cbr\\u003e\\u003ci\\u003epred: \\u003c\\u002fi\\u003e'Mr.'\",\"n_leaves=1 n_additions=0 n_deletions=0 n_modifications=0 n_matches=1 is_valid=None accuracy=1.0 precision=1.0 recall=1.0\\u003cbr\\u003e\\u003ci\\u003etrue: \\u003c\\u002fi\\u003e'official'\\u003cbr\\u003e\\u003ci\\u003epred: \\u003c\\u002fi\\u003e'official'\",\"n_leaves=3 n_additions=0 n_deletions=0 n_modifications=0 n_matches=3 is_valid=None accuracy=1.0 precision=1.0 recall=1.0\\u003cbr\\u003e\\u003ci\\u003etrue: \\u003c\\u002fi\\u003e{'resourceType': {}, 'system': 'phone', 'use': 'home', 'value': '555-770-7639'}\\u003cbr\\u003e\\u003ci\\u003epred: \\u003c\\u002fi\\u003e{'system': 'phone', 'use': 'home', 'value': '555-770-7639'}\",\"n_leaves=1 n_additions=0 n_deletions=0 n_modifications=0 n_matches=1 is_valid=None accuracy=1.0 precision=1.0 recall=1.0\\u003cbr\\u003e\\u003ci\\u003etrue: \\u003c\\u002fi\\u003e'phone'\\u003cbr\\u003e\\u003ci\\u003epred: \\u003c\\u002fi\\u003e'phone'\",\"n_leaves=1 n_additions=0 n_deletions=0 n_modifications=0 n_matches=1 is_valid=None accuracy=1.0 precision=1.0 recall=1.0\\u003cbr\\u003e\\u003ci\\u003etrue: \\u003c\\u002fi\\u003e'home'\\u003cbr\\u003e\\u003ci\\u003epred: \\u003c\\u002fi\\u003e'home'\",\"n_leaves=1 n_additions=0 n_deletions=0 n_modifications=0 n_matches=1 is_valid=None accuracy=1.0 precision=1.0 recall=1.0\\u003cbr\\u003e\\u003ci\\u003etrue: \\u003c\\u002fi\\u003e'555-770-7639'\\u003cbr\\u003e\\u003ci\\u003epred: \\u003c\\u002fi\\u003e'555-770-7639'\",\"n_leaves=12 n_additions=1 n_deletions=4 n_modifications=0 n_matches=7 is_valid=None accuracy=0.5833333333333334 precision=0.875 recall=0.6363636363636364\\u003cbr\\u003e\\u003ci\\u003etrue: \\u003c\\u002fi\\u003e{'resource': {...}, 'resourceType': {}}\\u003cbr\\u003e\\u003ci\\u003epred: \\u003c\\u002fi\\u003e{'resource': {...}}\",\"n_leaves=12 n_additions=1 n_deletions=4 n_modifications=0 n_matches=7 is_valid=None accuracy=0.5833333333333334 precision=0.875 recall=0.6363636363636364\\u003cbr\\u003e\\u003ci\\u003etrue: \\u003c\\u002fi\\u003e{'category': [...],\\u003cbr\\u003e\\u003ci\\u003e...8 lines...\\u003c\\u002fi\\u003e\\u003cbr\\u003e 'verificationStatus': {...}}\\u003cbr\\u003e\\u003ci\\u003epred: \\u003c\\u002fi\\u003e{'category': [...],\\u003cbr\\u003e\\u003ci\\u003e...8 lines...\\u003c\\u002fi\\u003e\\u003cbr\\u003e 'verificationStatus': {...}}\",\"n_leaves=1 n_additions=0 n_deletions=0 n_modifications=0 n_matches=1 is_valid=None accuracy=1.0 precision=1.0 recall=1.0\\u003cbr\\u003e\\u003ci\\u003etrue: \\u003c\\u002fi\\u003e'1'\\u003cbr\\u003e\\u003ci\\u003epred: \\u003c\\u002fi\\u003e'1'\",\"n_leaves=1 n_additions=0 n_deletions=0 n_modifications=0 n_matches=1 is_valid=None accuracy=1.0 precision=1.0 recall=1.0\\u003cbr\\u003e\\u003ci\\u003etrue: \\u003c\\u002fi\\u003e'environment'\\u003cbr\\u003e\\u003ci\\u003epred: \\u003c\\u002fi\\u003e'environment'\",\"n_leaves=2 n_additions=0 n_deletions=0 n_modifications=0 n_matches=2 is_valid=None accuracy=1.0 precision=1.0 recall=1.0\\u003cbr\\u003e\\u003ci\\u003etrue: \\u003c\\u002fi\\u003e{'coding': [...], 'resourceType': {}}\\u003cbr\\u003e\\u003ci\\u003epred: \\u003c\\u002fi\\u003e{'coding': [...]}\",\"n_leaves=2 n_additions=0 n_deletions=0 n_modifications=0 n_matches=2 is_valid=None accuracy=1.0 precision=1.0 recall=1.0\\u003cbr\\u003e\\u003ci\\u003etrue: \\u003c\\u002fi\\u003e{'code': 'active',\\u003cbr\\u003e 'resourceType': {},\\u003cbr\\u003e 'system': 'http:\\u002f\\u002fterminology.hl7.org\\u002fCodeSystem\\u002fallergyintolerance-clinical'}\\u003cbr\\u003e\\u003ci\\u003epred: \\u003c\\u002fi\\u003e{'code': 'active',\\u003cbr\\u003e 'system': 'http:\\u002f\\u002fterminology.hl7.org\\u002fCodeSystem\\u002fallergyintolerance-clinical'}\",\"n_leaves=1 n_additions=0 n_deletions=0 n_modifications=0 n_matches=1 is_valid=None accuracy=1.0 precision=1.0 recall=1.0\\u003cbr\\u003e\\u003ci\\u003etrue: \\u003c\\u002fi\\u003e'active'\\u003cbr\\u003e\\u003ci\\u003epred: \\u003c\\u002fi\\u003e'active'\",\"n_leaves=1 n_additions=0 n_deletions=0 n_modifications=0 n_matches=1 is_valid=None accuracy=1.0 precision=1.0 recall=1.0\\u003cbr\\u003e\\u003ci\\u003etrue: \\u003c\\u002fi\\u003e'http:\\u002f\\u002fterminology.hl7.org\\u002fCodeSystem\\u002fallergyintolerance-clinical'\\u003cbr\\u003e\\u003ci\\u003epred: \\u003c\\u002fi\\u003e'http:\\u002f\\u002fterminology.hl7.org\\u002fCodeSystem\\u002fallergyintolerance-clinical'\",\"n_leaves=4 n_additions=0 n_deletions=4 n_modifications=0 n_matches=0 is_valid=None accuracy=0.0 precision=0.0 recall=0.0\\u003cbr\\u003e\\u003ci\\u003etrue: \\u003c\\u002fi\\u003e{'coding': [...], 'resourceType': {}, 'text': 'Allergy to substance (finding)'}\\u003cbr\\u003e\\u003ci\\u003epred: \\u003c\\u002fi\\u003e{'coding': [], 'text': {}}\",\"n_leaves=3 n_additions=0 n_deletions=3 n_modifications=0 n_matches=0 is_valid=None accuracy=0.0 precision=0.0 recall=0.0\\u003cbr\\u003e\\u003ci\\u003etrue: \\u003c\\u002fi\\u003e{'code': '419199007',\\u003cbr\\u003e\\u003ci\\u003e...2 lines...\\u003c\\u002fi\\u003e\\u003cbr\\u003e 'system': 'http:\\u002f\\u002fsnomed.info\\u002fsct'}\\u003cbr\\u003e\\u003ci\\u003epred: \\u003c\\u002fi\\u003e{'code': {}, 'display': {}, 'system': {}}\",\"n_leaves=1 n_additions=0 n_deletions=1 n_modifications=0 n_matches=0 is_valid=None accuracy=0.0 precision=0.0 recall=0.0\\u003cbr\\u003e\\u003ci\\u003etrue: \\u003c\\u002fi\\u003e'419199007'\\u003cbr\\u003e\\u003ci\\u003epred: \\u003c\\u002fi\\u003e{}\",\"n_leaves=1 n_additions=0 n_deletions=1 n_modifications=0 n_matches=0 is_valid=None accuracy=0.0 precision=0.0 recall=0.0\\u003cbr\\u003e\\u003ci\\u003etrue: \\u003c\\u002fi\\u003e'Allergy to substance (finding)'\\u003cbr\\u003e\\u003ci\\u003epred: \\u003c\\u002fi\\u003e{}\",\"n_leaves=1 n_additions=0 n_deletions=1 n_modifications=0 n_matches=0 is_valid=None accuracy=0.0 precision=0.0 recall=0.0\\u003cbr\\u003e\\u003ci\\u003etrue: \\u003c\\u002fi\\u003e'http:\\u002f\\u002fsnomed.info\\u002fsct'\\u003cbr\\u003e\\u003ci\\u003epred: \\u003c\\u002fi\\u003e{}\",\"n_leaves=1 n_additions=0 n_deletions=1 n_modifications=0 n_matches=0 is_valid=None accuracy=0.0 precision=0.0 recall=0.0\\u003cbr\\u003e\\u003ci\\u003etrue: \\u003c\\u002fi\\u003e'Allergy to substance (finding)'\\u003cbr\\u003e\\u003ci\\u003epred: \\u003c\\u002fi\\u003e{}\",\"n_leaves=1 n_additions=0 n_deletions=0 n_modifications=0 n_matches=1 is_valid=None accuracy=1.0 precision=1.0 recall=1.0\\u003cbr\\u003e\\u003ci\\u003etrue: \\u003c\\u002fi\\u003e{'reference': 'Patient\\u002f1', 'resourceType': {}}\\u003cbr\\u003e\\u003ci\\u003epred: \\u003c\\u002fi\\u003e{'reference': 'Patient\\u002f1'}\",\"n_leaves=1 n_additions=0 n_deletions=0 n_modifications=0 n_matches=1 is_valid=None accuracy=1.0 precision=1.0 recall=1.0\\u003cbr\\u003e\\u003ci\\u003etrue: \\u003c\\u002fi\\u003e'Patient\\u002f1'\\u003cbr\\u003e\\u003ci\\u003epred: \\u003c\\u002fi\\u003e'Patient\\u002f1'\",\"n_leaves=1 n_additions=1 n_deletions=0 n_modifications=0 n_matches=0 is_valid=None accuracy=0.0 precision=0.0 recall=0.0\\u003cbr\\u003e\\u003ci\\u003etrue: \\u003c\\u002fi\\u003e{}\\u003cbr\\u003e\\u003ci\\u003epred: \\u003c\\u002fi\\u003e'allergy'\",\"n_leaves=2 n_additions=0 n_deletions=0 n_modifications=0 n_matches=2 is_valid=None accuracy=1.0 precision=1.0 recall=1.0\\u003cbr\\u003e\\u003ci\\u003etrue: \\u003c\\u002fi\\u003e{'coding': [...], 'resourceType': {}}\\u003cbr\\u003e\\u003ci\\u003epred: \\u003c\\u002fi\\u003e{'coding': [...]}\",\"n_leaves=2 n_additions=0 n_deletions=0 n_modifications=0 n_matches=2 is_valid=None accuracy=1.0 precision=1.0 recall=1.0\\u003cbr\\u003e\\u003ci\\u003etrue: \\u003c\\u002fi\\u003e{'code': 'confirmed',\\u003cbr\\u003e 'resourceType': {},\\u003cbr\\u003e 'system': 'http:\\u002f\\u002fterminology.hl7.org\\u002fCodeSystem\\u002fallergyintolerance-verification'}\\u003cbr\\u003e\\u003ci\\u003epred: \\u003c\\u002fi\\u003e{'code': 'confirmed',\\u003cbr\\u003e 'system': 'http:\\u002f\\u002fterminology.hl7.org\\u002fCodeSystem\\u002fallergyintolerance-verification'}\",\"n_leaves=1 n_additions=0 n_deletions=0 n_modifications=0 n_matches=1 is_valid=None accuracy=1.0 precision=1.0 recall=1.0\\u003cbr\\u003e\\u003ci\\u003etrue: \\u003c\\u002fi\\u003e'confirmed'\\u003cbr\\u003e\\u003ci\\u003epred: \\u003c\\u002fi\\u003e'confirmed'\",\"n_leaves=1 n_additions=0 n_deletions=0 n_modifications=0 n_matches=1 is_valid=None accuracy=1.0 precision=1.0 recall=1.0\\u003cbr\\u003e\\u003ci\\u003etrue: \\u003c\\u002fi\\u003e'http:\\u002f\\u002fterminology.hl7.org\\u002fCodeSystem\\u002fallergyintolerance-verification'\\u003cbr\\u003e\\u003ci\\u003epred: \\u003c\\u002fi\\u003e'http:\\u002f\\u002fterminology.hl7.org\\u002fCodeSystem\\u002fallergyintolerance-verification'\",\"n_leaves=1 n_additions=0 n_deletions=0 n_modifications=0 n_matches=1 is_valid=None accuracy=1.0 precision=1.0 recall=1.0\\u003cbr\\u003e\\u003ci\\u003etrue: \\u003c\\u002fi\\u003e'collection'\\u003cbr\\u003e\\u003ci\\u003epred: \\u003c\\u002fi\\u003e'collection'\"],\"labels\":[\"Bundle\",\"Bundle.id\",\"Bundle.entry.0\",\"Bundle.entry.0.Encounter\",\"Bundle.entry.0.Encounter.id\",\"Bundle.entry.0.Encounter.class\",\"Bundle.entry.0.Encounter.class.code\",\"Bundle.entry.0.Encounter.class.system\",\"Bundle.entry.0.Encounter.participant.0\",\"Bundle.entry.0.Encounter.participant.0.individual\",\"Bundle.entry.0.Encounter.participant.0.individual.display\",\"Bundle.entry.0.Encounter.participant.0.individual.reference\",\"Bundle.entry.0.Encounter.participant.0.period\",\"Bundle.entry.0.Encounter.participant.0.period.end\",\"Bundle.entry.0.Encounter.participant.0.period.start\",\"Bundle.entry.0.Encounter.participant.0.type.0\",\"Bundle.entry.0.Encounter.participant.0.type.0.coding.0\",\"Bundle.entry.0.Encounter.participant.0.type.0.coding.0.code\",\"Bundle.entry.0.Encounter.participant.0.type.0.coding.0.display\",\"Bundle.entry.0.Encounter.participant.0.type.0.coding.0.system\",\"Bundle.entry.0.Encounter.participant.0.type.0.text\",\"Bundle.entry.0.Encounter.period\",\"Bundle.entry.0.Encounter.period.end\",\"Bundle.entry.0.Encounter.period.start\",\"Bundle.entry.0.Encounter.status\",\"Bundle.entry.0.Encounter.subject\",\"Bundle.entry.0.Encounter.subject.display\",\"Bundle.entry.0.Encounter.subject.reference\",\"Bundle.entry.1\",\"Bundle.entry.1.Patient\",\"Bundle.entry.1.Patient.id\",\"Bundle.entry.1.Patient.address.0\",\"Bundle.entry.1.Patient.address.0.city\",\"Bundle.entry.1.Patient.address.0.country\",\"Bundle.entry.1.Patient.address.0.line.0\",\"Bundle.entry.1.Patient.address.0.postalCode\",\"Bundle.entry.1.Patient.address.0.state\",\"Bundle.entry.1.Patient.birthDate\",\"Bundle.entry.1.Patient.communication.0\",\"Bundle.entry.1.Patient.communication.0.language\",\"Bundle.entry.1.Patient.communication.0.language.coding.0\",\"Bundle.entry.1.Patient.communication.0.language.coding.0.code\",\"Bundle.entry.1.Patient.communication.0.language.coding.0.display\",\"Bundle.entry.1.Patient.communication.0.language.coding.0.system\",\"Bundle.entry.1.Patient.communication.0.language.text\",\"Bundle.entry.1.Patient.gender\",\"Bundle.entry.1.Patient.name.0\",\"Bundle.entry.1.Patient.name.0.family\",\"Bundle.entry.1.Patient.name.0.given.0\",\"Bundle.entry.1.Patient.name.0.prefix.0\",\"Bundle.entry.1.Patient.name.0.use\",\"Bundle.entry.1.Patient.telecom.0\",\"Bundle.entry.1.Patient.telecom.0.system\",\"Bundle.entry.1.Patient.telecom.0.use\",\"Bundle.entry.1.Patient.telecom.0.value\",\"Bundle.entry.2\",\"Bundle.entry.2.AllergyIntolerance\",\"Bundle.entry.2.AllergyIntolerance.id\",\"Bundle.entry.2.AllergyIntolerance.category.0\",\"Bundle.entry.2.AllergyIntolerance.clinicalStatus\",\"Bundle.entry.2.AllergyIntolerance.clinicalStatus.coding.0\",\"Bundle.entry.2.AllergyIntolerance.clinicalStatus.coding.0.code\",\"Bundle.entry.2.AllergyIntolerance.clinicalStatus.coding.0.system\",\"Bundle.entry.2.AllergyIntolerance.code\",\"Bundle.entry.2.AllergyIntolerance.code.coding.0\",\"Bundle.entry.2.AllergyIntolerance.code.coding.0.code\",\"Bundle.entry.2.AllergyIntolerance.code.coding.0.display\",\"Bundle.entry.2.AllergyIntolerance.code.coding.0.system\",\"Bundle.entry.2.AllergyIntolerance.code.text\",\"Bundle.entry.2.AllergyIntolerance.patient\",\"Bundle.entry.2.AllergyIntolerance.patient.reference\",\"Bundle.entry.2.AllergyIntolerance.type\",\"Bundle.entry.2.AllergyIntolerance.verificationStatus\",\"Bundle.entry.2.AllergyIntolerance.verificationStatus.coding.0\",\"Bundle.entry.2.AllergyIntolerance.verificationStatus.coding.0.code\",\"Bundle.entry.2.AllergyIntolerance.verificationStatus.coding.0.system\",\"Bundle.type\"],\"marker\":{\"cmid\":0.5,\"colors\":[0.7142857142857143,1.0,0.4375,0.4375,1.0,1.0,1.0,1.0,0.25,1.0,1.0,1.0,0.0,0.0,0.0,0.0,0.0,0.0,0.0,0.0,0.0,0.0,0.0,0.0,0.0,1.0,1.0,1.0,1.0,1.0,1.0,1.0,1.0,1.0,1.0,1.0,1.0,1.0,1.0,1.0,1.0,1.0,1.0,1.0,1.0,1.0,1.0,1.0,1.0,1.0,1.0,1.0,1.0,1.0,1.0,0.5833333333333334,0.5833333333333334,1.0,1.0,1.0,1.0,1.0,1.0,0.0,0.0,0.0,0.0,0.0,0.0,1.0,1.0,0.0,1.0,1.0,1.0,1.0,1.0],\"colorscale\":[[0.0,\"rgb(103,0,31)\"],[0.1,\"rgb(178,24,43)\"],[0.2,\"rgb(214,96,77)\"],[0.3,\"rgb(244,165,130)\"],[0.4,\"rgb(253,219,199)\"],[0.5,\"rgb(247,247,247)\"],[0.6,\"rgb(209,229,240)\"],[0.7,\"rgb(146,197,222)\"],[0.8,\"rgb(67,147,195)\"],[0.9,\"rgb(33,102,172)\"],[1.0,\"rgb(5,48,97)\"]],\"cornerradius\":5},\"parents\":[\"\",\"Bundle\",\"Bundle\",\"Bundle.entry.0\",\"Bundle.entry.0.Encounter\",\"Bundle.entry.0.Encounter\",\"Bundle.entry.0.Encounter.class\",\"Bundle.entry.0.Encounter.class\",\"Bundle.entry.0.Encounter\",\"Bundle.entry.0.Encounter.participant.0\",\"Bundle.entry.0.Encounter.participant.0.individual\",\"Bundle.entry.0.Encounter.participant.0.individual\",\"Bundle.entry.0.Encounter.participant.0\",\"Bundle.entry.0.Encounter.participant.0.period\",\"Bundle.entry.0.Encounter.participant.0.period\",\"Bundle.entry.0.Encounter.participant.0\",\"Bundle.entry.0.Encounter.participant.0.type.0\",\"Bundle.entry.0.Encounter.participant.0.type.0.coding.0\",\"Bundle.entry.0.Encounter.participant.0.type.0.coding.0\",\"Bundle.entry.0.Encounter.participant.0.type.0.coding.0\",\"Bundle.entry.0.Encounter.participant.0.type.0\",\"Bundle.entry.0.Encounter\",\"Bundle.entry.0.Encounter.period\",\"Bundle.entry.0.Encounter.period\",\"Bundle.entry.0.Encounter\",\"Bundle.entry.0.Encounter\",\"Bundle.entry.0.Encounter.subject\",\"Bundle.entry.0.Encounter.subject\",\"Bundle\",\"Bundle.entry.1\",\"Bundle.entry.1.Patient\",\"Bundle.entry.1.Patient\",\"Bundle.entry.1.Patient.address.0\",\"Bundle.entry.1.Patient.address.0\",\"Bundle.entry.1.Patient.address.0\",\"Bundle.entry.1.Patient.address.0\",\"Bundle.entry.1.Patient.address.0\",\"Bundle.entry.1.Patient\",\"Bundle.entry.1.Patient\",\"Bundle.entry.1.Patient.communication.0\",\"Bundle.entry.1.Patient.communication.0.language\",\"Bundle.entry.1.Patient.communication.0.language.coding.0\",\"Bundle.entry.1.Patient.communication.0.language.coding.0\",\"Bundle.entry.1.Patient.communication.0.language.coding.0\",\"Bundle.entry.1.Patient.communication.0.language\",\"Bundle.entry.1.Patient\",\"Bundle.entry.1.Patient\",\"Bundle.entry.1.Patient.name.0\",\"Bundle.entry.1.Patient.name.0\",\"Bundle.entry.1.Patient.name.0\",\"Bundle.entry.1.Patient.name.0\",\"Bundle.entry.1.Patient\",\"Bundle.entry.1.Patient.telecom.0\",\"Bundle.entry.1.Patient.telecom.0\",\"Bundle.entry.1.Patient.telecom.0\",\"Bundle\",\"Bundle.entry.2\",\"Bundle.entry.2.AllergyIntolerance\",\"Bundle.entry.2.AllergyIntolerance\",\"Bundle.entry.2.AllergyIntolerance\",\"Bundle.entry.2.AllergyIntolerance.clinicalStatus\",\"Bundle.entry.2.AllergyIntolerance.clinicalStatus.coding.0\",\"Bundle.entry.2.AllergyIntolerance.clinicalStatus.coding.0\",\"Bundle.entry.2.AllergyIntolerance\",\"Bundle.entry.2.AllergyIntolerance.code\",\"Bundle.entry.2.AllergyIntolerance.code.coding.0\",\"Bundle.entry.2.AllergyIntolerance.code.coding.0\",\"Bundle.entry.2.AllergyIntolerance.code.coding.0\",\"Bundle.entry.2.AllergyIntolerance.code\",\"Bundle.entry.2.AllergyIntolerance\",\"Bundle.entry.2.AllergyIntolerance.patient\",\"Bundle.entry.2.AllergyIntolerance\",\"Bundle.entry.2.AllergyIntolerance\",\"Bundle.entry.2.AllergyIntolerance.verificationStatus\",\"Bundle.entry.2.AllergyIntolerance.verificationStatus.coding.0\",\"Bundle.entry.2.AllergyIntolerance.verificationStatus.coding.0\",\"Bundle\"],\"text\":[\"Bundle\",\"id\",[\"entry\",\"0\"],\"Encounter\",\"id\",\"class\",\"code\",\"system\",[\"participant\",\"0\"],\"individual\",\"display\",\"reference\",\"period\",\"end\",\"start\",[\"type\",\"0\"],[\"coding\",\"0\"],\"code\",\"display\",\"system\",\"text\",\"period\",\"end\",\"start\",\"status\",\"subject\",\"display\",\"reference\",[\"entry\",\"1\"],\"Patient\",\"id\",[\"address\",\"0\"],\"city\",\"country\",[\"line\",\"0\"],\"postalCode\",\"state\",\"birthDate\",[\"communication\",\"0\"],\"language\",[\"coding\",\"0\"],\"code\",\"display\",\"system\",\"text\",\"gender\",[\"name\",\"0\"],\"family\",[\"given\",\"0\"],[\"prefix\",\"0\"],\"use\",[\"telecom\",\"0\"],\"system\",\"use\",\"value\",[\"entry\",\"2\"],\"AllergyIntolerance\",\"id\",[\"category\",\"0\"],\"clinicalStatus\",[\"coding\",\"0\"],\"code\",\"system\",\"code\",[\"coding\",\"0\"],\"code\",\"display\",\"system\",\"text\",\"patient\",\"reference\",\"type\",\"verificationStatus\",[\"coding\",\"0\"],\"code\",\"system\",\"type\"],\"textinfo\":\"text\",\"values\":[11,10,9,8,7,7,6,6,6,5,4,4,5,4,4,4,2,1,1,1,3,7,6,6,7,7,6,6,9,8,7,6,5,5,4,5,5,7,6,5,3,2,2,2,4,7,6,5,4,4,5,6,5,5,5,9,8,7,6,7,5,4,4,7,5,4,4,4,6,7,6,7,7,5,4,4,10],\"type\":\"treemap\"}],                        {\"template\":{\"data\":{\"histogram2dcontour\":[{\"type\":\"histogram2dcontour\",\"colorbar\":{\"outlinewidth\":0,\"ticks\":\"\"},\"colorscale\":[[0.0,\"#0d0887\"],[0.1111111111111111,\"#46039f\"],[0.2222222222222222,\"#7201a8\"],[0.3333333333333333,\"#9c179e\"],[0.4444444444444444,\"#bd3786\"],[0.5555555555555556,\"#d8576b\"],[0.6666666666666666,\"#ed7953\"],[0.7777777777777778,\"#fb9f3a\"],[0.8888888888888888,\"#fdca26\"],[1.0,\"#f0f921\"]]}],\"choropleth\":[{\"type\":\"choropleth\",\"colorbar\":{\"outlinewidth\":0,\"ticks\":\"\"}}],\"histogram2d\":[{\"type\":\"histogram2d\",\"colorbar\":{\"outlinewidth\":0,\"ticks\":\"\"},\"colorscale\":[[0.0,\"#0d0887\"],[0.1111111111111111,\"#46039f\"],[0.2222222222222222,\"#7201a8\"],[0.3333333333333333,\"#9c179e\"],[0.4444444444444444,\"#bd3786\"],[0.5555555555555556,\"#d8576b\"],[0.6666666666666666,\"#ed7953\"],[0.7777777777777778,\"#fb9f3a\"],[0.8888888888888888,\"#fdca26\"],[1.0,\"#f0f921\"]]}],\"heatmap\":[{\"type\":\"heatmap\",\"colorbar\":{\"outlinewidth\":0,\"ticks\":\"\"},\"colorscale\":[[0.0,\"#0d0887\"],[0.1111111111111111,\"#46039f\"],[0.2222222222222222,\"#7201a8\"],[0.3333333333333333,\"#9c179e\"],[0.4444444444444444,\"#bd3786\"],[0.5555555555555556,\"#d8576b\"],[0.6666666666666666,\"#ed7953\"],[0.7777777777777778,\"#fb9f3a\"],[0.8888888888888888,\"#fdca26\"],[1.0,\"#f0f921\"]]}],\"heatmapgl\":[{\"type\":\"heatmapgl\",\"colorbar\":{\"outlinewidth\":0,\"ticks\":\"\"},\"colorscale\":[[0.0,\"#0d0887\"],[0.1111111111111111,\"#46039f\"],[0.2222222222222222,\"#7201a8\"],[0.3333333333333333,\"#9c179e\"],[0.4444444444444444,\"#bd3786\"],[0.5555555555555556,\"#d8576b\"],[0.6666666666666666,\"#ed7953\"],[0.7777777777777778,\"#fb9f3a\"],[0.8888888888888888,\"#fdca26\"],[1.0,\"#f0f921\"]]}],\"contourcarpet\":[{\"type\":\"contourcarpet\",\"colorbar\":{\"outlinewidth\":0,\"ticks\":\"\"}}],\"contour\":[{\"type\":\"contour\",\"colorbar\":{\"outlinewidth\":0,\"ticks\":\"\"},\"colorscale\":[[0.0,\"#0d0887\"],[0.1111111111111111,\"#46039f\"],[0.2222222222222222,\"#7201a8\"],[0.3333333333333333,\"#9c179e\"],[0.4444444444444444,\"#bd3786\"],[0.5555555555555556,\"#d8576b\"],[0.6666666666666666,\"#ed7953\"],[0.7777777777777778,\"#fb9f3a\"],[0.8888888888888888,\"#fdca26\"],[1.0,\"#f0f921\"]]}],\"surface\":[{\"type\":\"surface\",\"colorbar\":{\"outlinewidth\":0,\"ticks\":\"\"},\"colorscale\":[[0.0,\"#0d0887\"],[0.1111111111111111,\"#46039f\"],[0.2222222222222222,\"#7201a8\"],[0.3333333333333333,\"#9c179e\"],[0.4444444444444444,\"#bd3786\"],[0.5555555555555556,\"#d8576b\"],[0.6666666666666666,\"#ed7953\"],[0.7777777777777778,\"#fb9f3a\"],[0.8888888888888888,\"#fdca26\"],[1.0,\"#f0f921\"]]}],\"mesh3d\":[{\"type\":\"mesh3d\",\"colorbar\":{\"outlinewidth\":0,\"ticks\":\"\"}}],\"scatter\":[{\"fillpattern\":{\"fillmode\":\"overlay\",\"size\":10,\"solidity\":0.2},\"type\":\"scatter\"}],\"parcoords\":[{\"type\":\"parcoords\",\"line\":{\"colorbar\":{\"outlinewidth\":0,\"ticks\":\"\"}}}],\"scatterpolargl\":[{\"type\":\"scatterpolargl\",\"marker\":{\"colorbar\":{\"outlinewidth\":0,\"ticks\":\"\"}}}],\"bar\":[{\"error_x\":{\"color\":\"#2a3f5f\"},\"error_y\":{\"color\":\"#2a3f5f\"},\"marker\":{\"line\":{\"color\":\"#E5ECF6\",\"width\":0.5},\"pattern\":{\"fillmode\":\"overlay\",\"size\":10,\"solidity\":0.2}},\"type\":\"bar\"}],\"scattergeo\":[{\"type\":\"scattergeo\",\"marker\":{\"colorbar\":{\"outlinewidth\":0,\"ticks\":\"\"}}}],\"scatterpolar\":[{\"type\":\"scatterpolar\",\"marker\":{\"colorbar\":{\"outlinewidth\":0,\"ticks\":\"\"}}}],\"histogram\":[{\"marker\":{\"pattern\":{\"fillmode\":\"overlay\",\"size\":10,\"solidity\":0.2}},\"type\":\"histogram\"}],\"scattergl\":[{\"type\":\"scattergl\",\"marker\":{\"colorbar\":{\"outlinewidth\":0,\"ticks\":\"\"}}}],\"scatter3d\":[{\"type\":\"scatter3d\",\"line\":{\"colorbar\":{\"outlinewidth\":0,\"ticks\":\"\"}},\"marker\":{\"colorbar\":{\"outlinewidth\":0,\"ticks\":\"\"}}}],\"scattermapbox\":[{\"type\":\"scattermapbox\",\"marker\":{\"colorbar\":{\"outlinewidth\":0,\"ticks\":\"\"}}}],\"scatterternary\":[{\"type\":\"scatterternary\",\"marker\":{\"colorbar\":{\"outlinewidth\":0,\"ticks\":\"\"}}}],\"scattercarpet\":[{\"type\":\"scattercarpet\",\"marker\":{\"colorbar\":{\"outlinewidth\":0,\"ticks\":\"\"}}}],\"carpet\":[{\"aaxis\":{\"endlinecolor\":\"#2a3f5f\",\"gridcolor\":\"white\",\"linecolor\":\"white\",\"minorgridcolor\":\"white\",\"startlinecolor\":\"#2a3f5f\"},\"baxis\":{\"endlinecolor\":\"#2a3f5f\",\"gridcolor\":\"white\",\"linecolor\":\"white\",\"minorgridcolor\":\"white\",\"startlinecolor\":\"#2a3f5f\"},\"type\":\"carpet\"}],\"table\":[{\"cells\":{\"fill\":{\"color\":\"#EBF0F8\"},\"line\":{\"color\":\"white\"}},\"header\":{\"fill\":{\"color\":\"#C8D4E3\"},\"line\":{\"color\":\"white\"}},\"type\":\"table\"}],\"barpolar\":[{\"marker\":{\"line\":{\"color\":\"#E5ECF6\",\"width\":0.5},\"pattern\":{\"fillmode\":\"overlay\",\"size\":10,\"solidity\":0.2}},\"type\":\"barpolar\"}],\"pie\":[{\"automargin\":true,\"type\":\"pie\"}]},\"layout\":{\"autotypenumbers\":\"strict\",\"colorway\":[\"#636efa\",\"#EF553B\",\"#00cc96\",\"#ab63fa\",\"#FFA15A\",\"#19d3f3\",\"#FF6692\",\"#B6E880\",\"#FF97FF\",\"#FECB52\"],\"font\":{\"color\":\"#2a3f5f\"},\"hovermode\":\"closest\",\"hoverlabel\":{\"align\":\"left\"},\"paper_bgcolor\":\"white\",\"plot_bgcolor\":\"#E5ECF6\",\"polar\":{\"bgcolor\":\"#E5ECF6\",\"angularaxis\":{\"gridcolor\":\"white\",\"linecolor\":\"white\",\"ticks\":\"\"},\"radialaxis\":{\"gridcolor\":\"white\",\"linecolor\":\"white\",\"ticks\":\"\"}},\"ternary\":{\"bgcolor\":\"#E5ECF6\",\"aaxis\":{\"gridcolor\":\"white\",\"linecolor\":\"white\",\"ticks\":\"\"},\"baxis\":{\"gridcolor\":\"white\",\"linecolor\":\"white\",\"ticks\":\"\"},\"caxis\":{\"gridcolor\":\"white\",\"linecolor\":\"white\",\"ticks\":\"\"}},\"coloraxis\":{\"colorbar\":{\"outlinewidth\":0,\"ticks\":\"\"}},\"colorscale\":{\"sequential\":[[0.0,\"#0d0887\"],[0.1111111111111111,\"#46039f\"],[0.2222222222222222,\"#7201a8\"],[0.3333333333333333,\"#9c179e\"],[0.4444444444444444,\"#bd3786\"],[0.5555555555555556,\"#d8576b\"],[0.6666666666666666,\"#ed7953\"],[0.7777777777777778,\"#fb9f3a\"],[0.8888888888888888,\"#fdca26\"],[1.0,\"#f0f921\"]],\"sequentialminus\":[[0.0,\"#0d0887\"],[0.1111111111111111,\"#46039f\"],[0.2222222222222222,\"#7201a8\"],[0.3333333333333333,\"#9c179e\"],[0.4444444444444444,\"#bd3786\"],[0.5555555555555556,\"#d8576b\"],[0.6666666666666666,\"#ed7953\"],[0.7777777777777778,\"#fb9f3a\"],[0.8888888888888888,\"#fdca26\"],[1.0,\"#f0f921\"]],\"diverging\":[[0,\"#8e0152\"],[0.1,\"#c51b7d\"],[0.2,\"#de77ae\"],[0.3,\"#f1b6da\"],[0.4,\"#fde0ef\"],[0.5,\"#f7f7f7\"],[0.6,\"#e6f5d0\"],[0.7,\"#b8e186\"],[0.8,\"#7fbc41\"],[0.9,\"#4d9221\"],[1,\"#276419\"]]},\"xaxis\":{\"gridcolor\":\"white\",\"linecolor\":\"white\",\"ticks\":\"\",\"title\":{\"standoff\":15},\"zerolinecolor\":\"white\",\"automargin\":true,\"zerolinewidth\":2},\"yaxis\":{\"gridcolor\":\"white\",\"linecolor\":\"white\",\"ticks\":\"\",\"title\":{\"standoff\":15},\"zerolinecolor\":\"white\",\"automargin\":true,\"zerolinewidth\":2},\"scene\":{\"xaxis\":{\"backgroundcolor\":\"#E5ECF6\",\"gridcolor\":\"white\",\"linecolor\":\"white\",\"showbackground\":true,\"ticks\":\"\",\"zerolinecolor\":\"white\",\"gridwidth\":2},\"yaxis\":{\"backgroundcolor\":\"#E5ECF6\",\"gridcolor\":\"white\",\"linecolor\":\"white\",\"showbackground\":true,\"ticks\":\"\",\"zerolinecolor\":\"white\",\"gridwidth\":2},\"zaxis\":{\"backgroundcolor\":\"#E5ECF6\",\"gridcolor\":\"white\",\"linecolor\":\"white\",\"showbackground\":true,\"ticks\":\"\",\"zerolinecolor\":\"white\",\"gridwidth\":2}},\"shapedefaults\":{\"line\":{\"color\":\"#2a3f5f\"}},\"annotationdefaults\":{\"arrowcolor\":\"#2a3f5f\",\"arrowhead\":0,\"arrowwidth\":1},\"geo\":{\"bgcolor\":\"white\",\"landcolor\":\"#E5ECF6\",\"subunitcolor\":\"white\",\"showland\":true,\"showlakes\":true,\"lakecolor\":\"white\"},\"title\":{\"x\":0.05},\"mapbox\":{\"style\":\"light\"}}},\"margin\":{\"t\":50,\"l\":25,\"r\":25,\"b\":25}},                        {\"responsive\": true}                    ).then(function(){\n",
       "                            \n",
       "var gd = document.getElementById('31c7be2f-9686-4996-9105-9eff972805fa');\n",
       "var x = new MutationObserver(function (mutations, observer) {{\n",
       "        var display = window.getComputedStyle(gd).display;\n",
       "        if (!display || display === 'none') {{\n",
       "            console.log([gd, 'removed!']);\n",
       "            Plotly.purge(gd);\n",
       "            observer.disconnect();\n",
       "        }}\n",
       "}});\n",
       "\n",
       "// Listen for the removal of the full notebook cells\n",
       "var notebookContainer = gd.closest('#notebook-container');\n",
       "if (notebookContainer) {{\n",
       "    x.observe(notebookContainer, {childList: true});\n",
       "}}\n",
       "\n",
       "// Listen for the clearing of the current output cell\n",
       "var outputEl = gd.closest('.output');\n",
       "if (outputEl) {{\n",
       "    x.observe(outputEl, {childList: true});\n",
       "}}\n",
       "\n",
       "                        })                };                });            </script>        </div>"
      ]
     },
     "metadata": {},
     "output_type": "display_data"
    }
   ],
   "source": [
    "show_diff(diff)"
   ]
  },
  {
   "cell_type": "markdown",
   "id": "4d5061f3",
   "metadata": {},
   "source": [
    "### 📊 Visualizing Diffs in bar charts"
   ]
  },
  {
   "cell_type": "code",
   "execution_count": 57,
   "id": "8a071ee5",
   "metadata": {},
   "outputs": [],
   "source": [
    "df = diff_to_dataframe(diff)"
   ]
  },
  {
   "cell_type": "code",
   "execution_count": 58,
   "id": "078bdcb8",
   "metadata": {},
   "outputs": [
    {
     "data": {
      "text/html": [
       "<div>\n",
       "<style scoped>\n",
       "    .dataframe tbody tr th:only-of-type {\n",
       "        vertical-align: middle;\n",
       "    }\n",
       "\n",
       "    .dataframe tbody tr th {\n",
       "        vertical-align: top;\n",
       "    }\n",
       "\n",
       "    .dataframe thead th {\n",
       "        text-align: right;\n",
       "    }\n",
       "</style>\n",
       "<table border=\"1\" class=\"dataframe\">\n",
       "  <thead>\n",
       "    <tr style=\"text-align: right;\">\n",
       "      <th></th>\n",
       "      <th>resource_type</th>\n",
       "      <th>entry_nr</th>\n",
       "      <th>key</th>\n",
       "      <th>label</th>\n",
       "      <th>n_leaves</th>\n",
       "      <th>n_matches</th>\n",
       "      <th>n_additions</th>\n",
       "      <th>n_deletions</th>\n",
       "      <th>n_modifications</th>\n",
       "      <th>accuracy</th>\n",
       "      <th>precision</th>\n",
       "      <th>recall</th>\n",
       "      <th>score</th>\n",
       "    </tr>\n",
       "  </thead>\n",
       "  <tbody>\n",
       "    <tr>\n",
       "      <th>0</th>\n",
       "      <td>Bundle</td>\n",
       "      <td></td>\n",
       "      <td>Bundle</td>\n",
       "      <td>Bundle</td>\n",
       "      <td>49</td>\n",
       "      <td>35</td>\n",
       "      <td>1</td>\n",
       "      <td>10</td>\n",
       "      <td>3</td>\n",
       "      <td>0.714286</td>\n",
       "      <td>0.897436</td>\n",
       "      <td>0.729167</td>\n",
       "      <td>n_leaves=49 n_additions=1 n_deletions=10 n_mod...</td>\n",
       "    </tr>\n",
       "    <tr>\n",
       "      <th>1</th>\n",
       "      <td>string</td>\n",
       "      <td></td>\n",
       "      <td>id</td>\n",
       "      <td>id</td>\n",
       "      <td>1</td>\n",
       "      <td>1</td>\n",
       "      <td>0</td>\n",
       "      <td>0</td>\n",
       "      <td>0</td>\n",
       "      <td>1.000000</td>\n",
       "      <td>1.000000</td>\n",
       "      <td>1.000000</td>\n",
       "      <td>n_leaves=1 n_additions=0 n_deletions=0 n_modif...</td>\n",
       "    </tr>\n",
       "    <tr>\n",
       "      <th>2</th>\n",
       "      <td>BundleEntry</td>\n",
       "      <td>0</td>\n",
       "      <td>entry</td>\n",
       "      <td>entry.0</td>\n",
       "      <td>16</td>\n",
       "      <td>7</td>\n",
       "      <td>0</td>\n",
       "      <td>6</td>\n",
       "      <td>3</td>\n",
       "      <td>0.437500</td>\n",
       "      <td>0.700000</td>\n",
       "      <td>0.437500</td>\n",
       "      <td>n_leaves=16 n_additions=0 n_deletions=6 n_modi...</td>\n",
       "    </tr>\n",
       "    <tr>\n",
       "      <th>3</th>\n",
       "      <td>Encounter</td>\n",
       "      <td></td>\n",
       "      <td>resource</td>\n",
       "      <td>Encounter</td>\n",
       "      <td>16</td>\n",
       "      <td>7</td>\n",
       "      <td>0</td>\n",
       "      <td>6</td>\n",
       "      <td>3</td>\n",
       "      <td>0.437500</td>\n",
       "      <td>0.700000</td>\n",
       "      <td>0.437500</td>\n",
       "      <td>n_leaves=16 n_additions=0 n_deletions=6 n_modi...</td>\n",
       "    </tr>\n",
       "    <tr>\n",
       "      <th>4</th>\n",
       "      <td>string</td>\n",
       "      <td></td>\n",
       "      <td>id</td>\n",
       "      <td>id</td>\n",
       "      <td>1</td>\n",
       "      <td>1</td>\n",
       "      <td>0</td>\n",
       "      <td>0</td>\n",
       "      <td>0</td>\n",
       "      <td>1.000000</td>\n",
       "      <td>1.000000</td>\n",
       "      <td>1.000000</td>\n",
       "      <td>n_leaves=1 n_additions=0 n_deletions=0 n_modif...</td>\n",
       "    </tr>\n",
       "  </tbody>\n",
       "</table>\n",
       "</div>"
      ],
      "text/plain": [
       "  resource_type entry_nr       key      label  n_leaves  n_matches  \\\n",
       "0        Bundle             Bundle     Bundle        49         35   \n",
       "1        string                 id         id         1          1   \n",
       "2   BundleEntry        0     entry    entry.0        16          7   \n",
       "3     Encounter           resource  Encounter        16          7   \n",
       "4        string                 id         id         1          1   \n",
       "\n",
       "   n_additions  n_deletions  n_modifications  accuracy  precision    recall  \\\n",
       "0            1           10                3  0.714286   0.897436  0.729167   \n",
       "1            0            0                0  1.000000   1.000000  1.000000   \n",
       "2            0            6                3  0.437500   0.700000  0.437500   \n",
       "3            0            6                3  0.437500   0.700000  0.437500   \n",
       "4            0            0                0  1.000000   1.000000  1.000000   \n",
       "\n",
       "                                               score  \n",
       "0  n_leaves=49 n_additions=1 n_deletions=10 n_mod...  \n",
       "1  n_leaves=1 n_additions=0 n_deletions=0 n_modif...  \n",
       "2  n_leaves=16 n_additions=0 n_deletions=6 n_modi...  \n",
       "3  n_leaves=16 n_additions=0 n_deletions=6 n_modi...  \n",
       "4  n_leaves=1 n_additions=0 n_deletions=0 n_modif...  "
      ]
     },
     "execution_count": 58,
     "metadata": {},
     "output_type": "execute_result"
    }
   ],
   "source": [
    "df.head()"
   ]
  },
  {
   "cell_type": "code",
   "execution_count": 59,
   "id": "50e22412",
   "metadata": {},
   "outputs": [],
   "source": [
    "scores_per_type = df[['resource_type','score']].groupby('resource_type').sum()"
   ]
  },
  {
   "cell_type": "code",
   "execution_count": 60,
   "id": "7f0d3012",
   "metadata": {},
   "outputs": [],
   "source": [
    "scores_per_type['accuracy'] = scores_per_type['score'].apply(lambda x: x.accuracy)"
   ]
  },
  {
   "cell_type": "code",
   "execution_count": 61,
   "id": "36968ffc",
   "metadata": {},
   "outputs": [
    {
     "data": {
      "text/html": [
       "<div>\n",
       "<style scoped>\n",
       "    .dataframe tbody tr th:only-of-type {\n",
       "        vertical-align: middle;\n",
       "    }\n",
       "\n",
       "    .dataframe tbody tr th {\n",
       "        vertical-align: top;\n",
       "    }\n",
       "\n",
       "    .dataframe thead th {\n",
       "        text-align: right;\n",
       "    }\n",
       "</style>\n",
       "<table border=\"1\" class=\"dataframe\">\n",
       "  <thead>\n",
       "    <tr style=\"text-align: right;\">\n",
       "      <th></th>\n",
       "      <th>score</th>\n",
       "      <th>accuracy</th>\n",
       "    </tr>\n",
       "    <tr>\n",
       "      <th>resource_type</th>\n",
       "      <th></th>\n",
       "      <th></th>\n",
       "    </tr>\n",
       "  </thead>\n",
       "  <tbody>\n",
       "    <tr>\n",
       "      <th>Address</th>\n",
       "      <td>n_leaves=5 n_additions=0 n_deletions=0 n_modif...</td>\n",
       "      <td>1.000000</td>\n",
       "    </tr>\n",
       "    <tr>\n",
       "      <th>AllergyIntolerance</th>\n",
       "      <td>n_leaves=12 n_additions=1 n_deletions=4 n_modi...</td>\n",
       "      <td>0.583333</td>\n",
       "    </tr>\n",
       "    <tr>\n",
       "      <th>Bundle</th>\n",
       "      <td>n_leaves=49 n_additions=1 n_deletions=10 n_mod...</td>\n",
       "      <td>0.714286</td>\n",
       "    </tr>\n",
       "    <tr>\n",
       "      <th>BundleEntry</th>\n",
       "      <td>n_leaves=47 n_additions=1 n_deletions=10 n_mod...</td>\n",
       "      <td>0.702128</td>\n",
       "    </tr>\n",
       "    <tr>\n",
       "      <th>CodeableConcept</th>\n",
       "      <td>n_leaves=16 n_additions=0 n_deletions=8 n_modi...</td>\n",
       "      <td>0.500000</td>\n",
       "    </tr>\n",
       "    <tr>\n",
       "      <th>Coding</th>\n",
       "      <td>n_leaves=15 n_additions=0 n_deletions=6 n_modi...</td>\n",
       "      <td>0.600000</td>\n",
       "    </tr>\n",
       "    <tr>\n",
       "      <th>ContactPoint</th>\n",
       "      <td>n_leaves=3 n_additions=0 n_deletions=0 n_modif...</td>\n",
       "      <td>1.000000</td>\n",
       "    </tr>\n",
       "    <tr>\n",
       "      <th>Encounter</th>\n",
       "      <td>n_leaves=16 n_additions=0 n_deletions=6 n_modi...</td>\n",
       "      <td>0.437500</td>\n",
       "    </tr>\n",
       "    <tr>\n",
       "      <th>EncounterParticipant</th>\n",
       "      <td>n_leaves=8 n_additions=0 n_deletions=4 n_modif...</td>\n",
       "      <td>0.250000</td>\n",
       "    </tr>\n",
       "    <tr>\n",
       "      <th>HumanName</th>\n",
       "      <td>n_leaves=4 n_additions=0 n_deletions=0 n_modif...</td>\n",
       "      <td>1.000000</td>\n",
       "    </tr>\n",
       "    <tr>\n",
       "      <th>Patient</th>\n",
       "      <td>n_leaves=19 n_additions=0 n_deletions=0 n_modi...</td>\n",
       "      <td>1.000000</td>\n",
       "    </tr>\n",
       "    <tr>\n",
       "      <th>PatientCommunication</th>\n",
       "      <td>n_leaves=4 n_additions=0 n_deletions=0 n_modif...</td>\n",
       "      <td>1.000000</td>\n",
       "    </tr>\n",
       "    <tr>\n",
       "      <th>Period</th>\n",
       "      <td>n_leaves=4 n_additions=0 n_deletions=2 n_modif...</td>\n",
       "      <td>0.000000</td>\n",
       "    </tr>\n",
       "    <tr>\n",
       "      <th>Reference</th>\n",
       "      <td>n_leaves=5 n_additions=0 n_deletions=0 n_modif...</td>\n",
       "      <td>1.000000</td>\n",
       "    </tr>\n",
       "    <tr>\n",
       "      <th>string</th>\n",
       "      <td>n_leaves=49 n_additions=1 n_deletions=10 n_mod...</td>\n",
       "      <td>0.714286</td>\n",
       "    </tr>\n",
       "  </tbody>\n",
       "</table>\n",
       "</div>"
      ],
      "text/plain": [
       "                                                                  score  \\\n",
       "resource_type                                                             \n",
       "Address               n_leaves=5 n_additions=0 n_deletions=0 n_modif...   \n",
       "AllergyIntolerance    n_leaves=12 n_additions=1 n_deletions=4 n_modi...   \n",
       "Bundle                n_leaves=49 n_additions=1 n_deletions=10 n_mod...   \n",
       "BundleEntry           n_leaves=47 n_additions=1 n_deletions=10 n_mod...   \n",
       "CodeableConcept       n_leaves=16 n_additions=0 n_deletions=8 n_modi...   \n",
       "Coding                n_leaves=15 n_additions=0 n_deletions=6 n_modi...   \n",
       "ContactPoint          n_leaves=3 n_additions=0 n_deletions=0 n_modif...   \n",
       "Encounter             n_leaves=16 n_additions=0 n_deletions=6 n_modi...   \n",
       "EncounterParticipant  n_leaves=8 n_additions=0 n_deletions=4 n_modif...   \n",
       "HumanName             n_leaves=4 n_additions=0 n_deletions=0 n_modif...   \n",
       "Patient               n_leaves=19 n_additions=0 n_deletions=0 n_modi...   \n",
       "PatientCommunication  n_leaves=4 n_additions=0 n_deletions=0 n_modif...   \n",
       "Period                n_leaves=4 n_additions=0 n_deletions=2 n_modif...   \n",
       "Reference             n_leaves=5 n_additions=0 n_deletions=0 n_modif...   \n",
       "string                n_leaves=49 n_additions=1 n_deletions=10 n_mod...   \n",
       "\n",
       "                      accuracy  \n",
       "resource_type                   \n",
       "Address               1.000000  \n",
       "AllergyIntolerance    0.583333  \n",
       "Bundle                0.714286  \n",
       "BundleEntry           0.702128  \n",
       "CodeableConcept       0.500000  \n",
       "Coding                0.600000  \n",
       "ContactPoint          1.000000  \n",
       "Encounter             0.437500  \n",
       "EncounterParticipant  0.250000  \n",
       "HumanName             1.000000  \n",
       "Patient               1.000000  \n",
       "PatientCommunication  1.000000  \n",
       "Period                0.000000  \n",
       "Reference             1.000000  \n",
       "string                0.714286  "
      ]
     },
     "execution_count": 61,
     "metadata": {},
     "output_type": "execute_result"
    }
   ],
   "source": [
    "scores_per_type"
   ]
  },
  {
   "cell_type": "code",
   "execution_count": 62,
   "id": "119100a4",
   "metadata": {},
   "outputs": [
    {
     "data": {
      "text/plain": [
       "<Axes: xlabel='resource_type'>"
      ]
     },
     "execution_count": 62,
     "metadata": {},
     "output_type": "execute_result"
    },
    {
     "data": {
      "image/png": "[encoded data removed]",
      "text/plain": [
       "<Figure size 640x480 with 1 Axes>"
      ]
     },
     "metadata": {},
     "output_type": "display_data"
    }
   ],
   "source": [
    "scores_per_type.plot(kind='bar')"
   ]
  },
  {
   "cell_type": "markdown",
   "id": "e727e5d2",
   "metadata": {},
   "source": [
    "### Future developments:\n",
    "- Mapping corresponding arrays that are not in identical order\n",
    "- Weighted metrics, scores are now weighted by n_leaves, but could also be weighted by resource element, bundle\n",
    "- FHIR validation"
   ]
  }
 ],
 "metadata": {
  "kernelspec": {
   "display_name": "healthsage",
   "language": "python",
   "name": "healthsage"
  },
  "language_info": {
   "codemirror_mode": {
    "name": "ipython",
    "version": 3
   },
   "file_extension": ".py",
   "mimetype": "text/x-python",
   "name": "python",
   "nbconvert_exporter": "python",
   "pygments_lexer": "ipython3",
   "version": "3.11.5"
  }
 },
 "nbformat": 4,
 "nbformat_minor": 5
}
