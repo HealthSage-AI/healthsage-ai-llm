{
 "cells": [
  {
   "cell_type": "markdown",
   "id": "509c1279",
   "metadata": {},
   "source": [
    "# 🔎 FHIR Difference: Quality Inspection 🔎\n",
    "\n",
    "Evaluating whether a generated/predicted Fhir resources is accurate is difficult due to the verbose nature of FHIR.\n",
    "The note_to_fhir.evaluation module makes this easier with:\n",
    "- A <b>FhirScore</b> object that tracks the number of changes/similarities w.r.t the ground truth throughout the whole depth of the fhir resource \n",
    "- A <b>FhirDiff</b> (tree) object contains all relevant details of the FHIR comparison, including the FhirScore at each level. \n",
    "- Visualizations for the above FhirDiff and FhirScore"
   ]
  },
  {
   "cell_type": "code",
   "execution_count": null,
   "id": "cd8bb8b9",
   "metadata": {},
   "outputs": [],
   "source": [
    "import sys\n",
    "sys.path.append(\"..\")"
   ]
  },
  {
   "cell_type": "code",
   "execution_count": null,
   "id": "511e9c67",
   "metadata": {},
   "outputs": [],
   "source": [
    "from healthsageai.note_to_fhir.evaluation.datamodels import FhirScore, FhirDiff\n",
    "import os\n",
    "from healthsageai.note_to_fhir.evaluation.datamodels import FhirDiff\n",
    "from healthsageai.note_to_fhir.evaluation.utils import get_diff, diff_to_list, diff_to_dataframe, compare_leaf, get_resource_details, get_resource_class, diff_to_dataframe\n",
    "from healthsageai.note_to_fhir.evaluation.visuals import show_diff\n",
    "from datasets import load_dataset\n",
    "import json"
   ]
  },
  {
   "cell_type": "code",
   "execution_count": null,
   "id": "0f64d1f8",
   "metadata": {},
   "outputs": [],
   "source": [
    "testset = load_dataset(\"healthsage/example_fhir_output\")"
   ]
  },
  {
   "cell_type": "code",
   "execution_count": null,
   "id": "9aadbb31",
   "metadata": {},
   "outputs": [],
   "source": [
    "fhir_true = json.loads(testset[\"train\"][\"fhir_true\"][0])\n",
    "fhir_pred = json.loads(testset[\"train\"][\"note_to_fhir\"][0])"
   ]
  },
  {
   "cell_type": "markdown",
   "id": "a595eaba",
   "metadata": {},
   "source": [
    "### 🌲 FHIR JSON trees\n",
    "A dictionary representation of FHIR has a tree structure. On the root level, we find the dataset, which consists of bundles. Each bundle has entries with resources that can contain nested resources of an arbitrary depth. E.g.:"
   ]
  },
  {
   "cell_type": "markdown",
   "id": "d061248c",
   "metadata": {},
   "source": [
    "- Dataset\n",
    "  - Bundle\n",
    "    - BundleEntry\n",
    "       - Resource (Encounter, Condition, Patient, etc.)\n",
    "           - Resource element\n",
    "                - Nested Resource\n",
    "                    - Nested Resource\n",
    "    - Bundle Entry\n",
    "        - ...\n",
    "  - Bundle\n",
    "                "
   ]
  },
  {
   "cell_type": "markdown",
   "id": "623bdecb",
   "metadata": {},
   "source": [
    "The note_to_fhir.evaluation module follows this tree structure."
   ]
  },
  {
   "cell_type": "markdown",
   "id": "ebbc123e",
   "metadata": {},
   "source": [
    "### 🍀 Evaluating leaf nodes"
   ]
  },
  {
   "cell_type": "markdown",
   "id": "4149bc69",
   "metadata": {},
   "source": [
    "The most elemental comparison that can be done is that of the leaf nodes. The FhirScore object can represent the difference between two leaf nodes"
   ]
  },
  {
   "cell_type": "markdown",
   "id": "f04813dd",
   "metadata": {},
   "source": [
    "### 🚦The FhirScore Object"
   ]
  },
  {
   "cell_type": "code",
   "execution_count": null,
   "id": "8c0f71ac",
   "metadata": {},
   "outputs": [],
   "source": [
    "score = FhirScore()\n",
    "score"
   ]
  },
  {
   "cell_type": "markdown",
   "id": "916a6515",
   "metadata": {},
   "source": [
    "#### 🍀 Base example: comparing a and b with compare leaf "
   ]
  },
  {
   "cell_type": "code",
   "execution_count": null,
   "id": "ac1730f3",
   "metadata": {},
   "outputs": [],
   "source": [
    "print(compare_leaf.__doc__)"
   ]
  },
  {
   "cell_type": "code",
   "execution_count": null,
   "id": "c37735a8-d936-4e12-aa60-560ed5ad94ae",
   "metadata": {},
   "outputs": [],
   "source": [
    "?compare_leaf"
   ]
  },
  {
   "cell_type": "code",
   "execution_count": null,
   "id": "56e88760",
   "metadata": {},
   "outputs": [],
   "source": [
    "compare_leaf(\"a\", \"a\")"
   ]
  },
  {
   "cell_type": "code",
   "execution_count": null,
   "id": "82fe6623",
   "metadata": {},
   "outputs": [],
   "source": [
    "compare_leaf(\"a\", \"b\")"
   ]
  },
  {
   "cell_type": "code",
   "execution_count": null,
   "id": "922f6a49",
   "metadata": {},
   "outputs": [],
   "source": [
    "compare_leaf(\"a\", None)"
   ]
  },
  {
   "cell_type": "code",
   "execution_count": null,
   "id": "964b484a",
   "metadata": {},
   "outputs": [],
   "source": [
    "compare_leaf(None, \"a\")"
   ]
  },
  {
   "cell_type": "markdown",
   "id": "6139ba39",
   "metadata": {},
   "source": [
    "### 🧮 You can add / sum FhirScores together\n",
    "The score of a given element in the Fhir Tree is essentially the sum of its parts. Therefore, you can add FhirScores."
   ]
  },
  {
   "cell_type": "code",
   "execution_count": null,
   "id": "74acd2c1",
   "metadata": {},
   "outputs": [],
   "source": [
    "score_a = compare_leaf(\"a\", \"a\")\n",
    "score_b = compare_leaf(\"a\", \"b\")"
   ]
  },
  {
   "cell_type": "code",
   "execution_count": null,
   "id": "b05bb936",
   "metadata": {},
   "outputs": [],
   "source": [
    "score_a + score_b"
   ]
  },
  {
   "cell_type": "code",
   "execution_count": null,
   "id": "d283bcdc",
   "metadata": {},
   "outputs": [],
   "source": [
    "sum([compare_leaf(\"a\", \"a\"), compare_leaf(\"a\", \"b\")])"
   ]
  },
  {
   "cell_type": "code",
   "execution_count": null,
   "id": "6fb02c1b",
   "metadata": {},
   "outputs": [],
   "source": [
    "sum([compare_leaf(\"a\", \"a\")])"
   ]
  },
  {
   "cell_type": "markdown",
   "id": "f5dac0ba",
   "metadata": {},
   "source": [
    "### ↔️ The FhirDiff object"
   ]
  },
  {
   "cell_type": "markdown",
   "id": "a8121111",
   "metadata": {},
   "source": [
    "Sample data"
   ]
  },
  {
   "cell_type": "markdown",
   "id": "f1a2614c",
   "metadata": {},
   "source": [
    " 💬 Example ground truth Encounter"
   ]
  },
  {
   "cell_type": "code",
   "execution_count": null,
   "id": "085382ff",
   "metadata": {},
   "outputs": [],
   "source": [
    "encounter_true, encounter_pred  = fhir_true['entry'][0], fhir_pred['entry'][0]"
   ]
  },
  {
   "cell_type": "code",
   "execution_count": null,
   "id": "2b7d5359",
   "metadata": {},
   "outputs": [],
   "source": [
    "encounter_true"
   ]
  },
  {
   "cell_type": "code",
   "execution_count": null,
   "id": "00e70744",
   "metadata": {},
   "outputs": [],
   "source": [
    "encounter_pred"
   ]
  },
  {
   "cell_type": "code",
   "execution_count": null,
   "id": "aa9c2c7d",
   "metadata": {},
   "outputs": [],
   "source": [
    "print(get_diff.__doc__)"
   ]
  },
  {
   "cell_type": "code",
   "execution_count": null,
   "id": "f62d2fcd",
   "metadata": {},
   "outputs": [],
   "source": [
    "diff = get_diff(encounter_true, encounter_pred, resource_type=\"BundleEntry\")"
   ]
  },
  {
   "cell_type": "code",
   "execution_count": null,
   "id": "a3e72094",
   "metadata": {},
   "outputs": [],
   "source": [
    "encounter_true"
   ]
  },
  {
   "cell_type": "code",
   "execution_count": null,
   "id": "3a07a4cd",
   "metadata": {},
   "outputs": [],
   "source": [
    "diff.score"
   ]
  },
  {
   "cell_type": "markdown",
   "id": "c7fb0551",
   "metadata": {},
   "source": [
    "### The score shows:\n",
    "- There are 16 leaf elements in both resources   \n",
    "-----> 7 were identical   \n",
    "-----> 6 are missing in the prediction (n_deletions). This impacts recall score   \n",
    "-----> 3 are changed (n_modifications). This impacts accuracy and precision   \n",
    "-----> 0 are added (n_additions), meaning there are no hallucinations   "
   ]
  },
  {
   "cell_type": "markdown",
   "id": "2e72db26",
   "metadata": {},
   "source": [
    "### We can navigate the Diff tree and see the score at each node. For instance, the \"participant field\""
   ]
  },
  {
   "cell_type": "code",
   "execution_count": null,
   "id": "0973c19d",
   "metadata": {},
   "outputs": [],
   "source": [
    "diff.children['resource'].children['participant'][0].score"
   ]
  },
  {
   "cell_type": "markdown",
   "id": "c5a0cad9",
   "metadata": {},
   "source": [
    "# 📊 Visualization"
   ]
  },
  {
   "cell_type": "code",
   "execution_count": null,
   "id": "e573263d",
   "metadata": {},
   "outputs": [],
   "source": [
    "print(show_diff.__doc__)"
   ]
  },
  {
   "cell_type": "code",
   "execution_count": null,
   "id": "e2db156a",
   "metadata": {},
   "outputs": [],
   "source": [
    "show_diff(diff)"
   ]
  },
  {
   "cell_type": "markdown",
   "id": "4aeffb6b",
   "metadata": {},
   "source": [
    "### The visualization clearly shows where the differences are:"
   ]
  },
  {
   "cell_type": "markdown",
   "id": "2ce429bf",
   "metadata": {},
   "source": [
    "- Red are 0% accuracy leaves\n",
    "- Blue are 100% accuracy leaves\n",
    "- Colors in between represent the accuracy scale"
   ]
  },
  {
   "cell_type": "markdown",
   "id": "f8690047",
   "metadata": {},
   "source": [
    "### Learning from this example:"
   ]
  },
  {
   "cell_type": "markdown",
   "id": "99a4a6a0",
   "metadata": {},
   "source": [
    "- The period in which the participant was present in the encounter differed by 36 seconds. A neglible difference.\n",
    "- The Participant type was not predicted, resulting in 4 \"missing\" nodes\n",
    "- The Period of the Ecnounter itself was not predicted, altough it was identical to the period of the participant\n",
    "- The predicted status was unknown where the actual status was finished"
   ]
  },
  {
   "cell_type": "markdown",
   "id": "2b5ca1ef",
   "metadata": {},
   "source": [
    "### Visualization of the entire Bundle"
   ]
  },
  {
   "cell_type": "code",
   "execution_count": null,
   "id": "d64df027",
   "metadata": {},
   "outputs": [],
   "source": [
    "diff = get_diff(fhir_true, fhir_pred, resource_type=\"Bundle\")"
   ]
  },
  {
   "cell_type": "code",
   "execution_count": null,
   "id": "91b194b7",
   "metadata": {},
   "outputs": [],
   "source": [
    "show_diff(diff)"
   ]
  },
  {
   "cell_type": "markdown",
   "id": "4d5061f3",
   "metadata": {},
   "source": [
    "### 📊 Visualizing Diffs in bar charts"
   ]
  },
  {
   "cell_type": "code",
   "execution_count": null,
   "id": "8a071ee5",
   "metadata": {},
   "outputs": [],
   "source": [
    "df = diff_to_dataframe(diff)"
   ]
  },
  {
   "cell_type": "code",
   "execution_count": null,
   "id": "078bdcb8",
   "metadata": {},
   "outputs": [],
   "source": [
    "df.head()"
   ]
  },
  {
   "cell_type": "code",
   "execution_count": null,
   "id": "50e22412",
   "metadata": {},
   "outputs": [],
   "source": [
    "scores_per_type = df[['resource_type','score']].groupby('resource_type').sum()"
   ]
  },
  {
   "cell_type": "code",
   "execution_count": null,
   "id": "7f0d3012",
   "metadata": {},
   "outputs": [],
   "source": [
    "scores_per_type['accuracy'] = scores_per_type['score'].apply(lambda x: x.accuracy)"
   ]
  },
  {
   "cell_type": "code",
   "execution_count": null,
   "id": "36968ffc",
   "metadata": {},
   "outputs": [],
   "source": [
    "scores_per_type"
   ]
  },
  {
   "cell_type": "code",
   "execution_count": null,
   "id": "119100a4",
   "metadata": {},
   "outputs": [],
   "source": [
    "scores_per_type.plot(kind='bar')"
   ]
  },
  {
   "cell_type": "markdown",
   "id": "e727e5d2",
   "metadata": {},
   "source": [
    "### Future developments:\n",
    "- Mapping corresponding arrays that are not in identical order\n",
    "- Weighted metrics, scores are now weighted by n_leaves, but could also be weighted by resource element, bundle\n",
    "- FHIR validation"
   ]
  }
 ],
 "metadata": {
  "kernelspec": {
   "display_name": ".venv",
   "language": "python",
   "name": "python3"
  },
  "language_info": {
   "codemirror_mode": {
    "name": "ipython",
    "version": 3
   },
   "file_extension": ".py",
   "mimetype": "text/x-python",
   "name": "python",
   "nbconvert_exporter": "python",
   "pygments_lexer": "ipython3",
   "version": "3.11.5"
  },
  "vscode": {
   "interpreter": {
    "hash": "0afa68d8edf4d13dc85206f9321ef21887173303a25218ceefd28563704f9f3f"
   }
  }
 },
 "nbformat": 4,
 "nbformat_minor": 5
}
