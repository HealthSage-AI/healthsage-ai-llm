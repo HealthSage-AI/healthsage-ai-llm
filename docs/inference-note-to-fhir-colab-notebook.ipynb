{
  "nbformat": 4,
  "nbformat_minor": 0,
  "metadata": {
    "colab": {
      "provenance": [],
      "gpuType": "T4"
    },
    "kernelspec": {
      "name": "python3",
      "display_name": "Python 3"
    },
    "language_info": {
      "name": "python"
    },
    "accelerator": "GPU",
    "widgets": {
      "application/vnd.jupyter.widget-state+json": {
        "6b7fb74bf8bd482d8ed69441b70aabbf": {
          "model_module": "@jupyter-widgets/controls",
          "model_name": "HBoxModel",
          "model_module_version": "1.5.0",
          "state": {
            "_dom_classes": [],
            "_model_module": "@jupyter-widgets/controls",
            "_model_module_version": "1.5.0",
            "_model_name": "HBoxModel",
            "_view_count": null,
            "_view_module": "@jupyter-widgets/controls",
            "_view_module_version": "1.5.0",
            "_view_name": "HBoxView",
            "box_style": "",
            "children": [
              "IPY_MODEL_e126de1ec2b143d98c0d4a433665b1a3",
              "IPY_MODEL_6801f8c470224f1a825eb65de9f8a9c4",
              "IPY_MODEL_6d385997cd414d1caa3c10492f7e7966"
            ],
            "layout": "IPY_MODEL_dc61ea792b294ce3af1054f4fab27ccb"
          }
        },
        "e126de1ec2b143d98c0d4a433665b1a3": {
          "model_module": "@jupyter-widgets/controls",
          "model_name": "HTMLModel",
          "model_module_version": "1.5.0",
          "state": {
            "_dom_classes": [],
            "_model_module": "@jupyter-widgets/controls",
            "_model_module_version": "1.5.0",
            "_model_name": "HTMLModel",
            "_view_count": null,
            "_view_module": "@jupyter-widgets/controls",
            "_view_module_version": "1.5.0",
            "_view_name": "HTMLView",
            "description": "",
            "description_tooltip": null,
            "layout": "IPY_MODEL_eb6a66f50ae2453faf3c60d44d7045e1",
            "placeholder": "​",
            "style": "IPY_MODEL_8eb34590e1384fb3a94b2c6b868f9367",
            "value": "Loading checkpoint shards: 100%"
          }
        },
        "6801f8c470224f1a825eb65de9f8a9c4": {
          "model_module": "@jupyter-widgets/controls",
          "model_name": "FloatProgressModel",
          "model_module_version": "1.5.0",
          "state": {
            "_dom_classes": [],
            "_model_module": "@jupyter-widgets/controls",
            "_model_module_version": "1.5.0",
            "_model_name": "FloatProgressModel",
            "_view_count": null,
            "_view_module": "@jupyter-widgets/controls",
            "_view_module_version": "1.5.0",
            "_view_name": "ProgressView",
            "bar_style": "success",
            "description": "",
            "description_tooltip": null,
            "layout": "IPY_MODEL_814419a2b40a4cc6b72e0a1ab4839df6",
            "max": 3,
            "min": 0,
            "orientation": "horizontal",
            "style": "IPY_MODEL_50ab09bb3eb2421082be4012e0dda05d",
            "value": 3
          }
        },
        "6d385997cd414d1caa3c10492f7e7966": {
          "model_module": "@jupyter-widgets/controls",
          "model_name": "HTMLModel",
          "model_module_version": "1.5.0",
          "state": {
            "_dom_classes": [],
            "_model_module": "@jupyter-widgets/controls",
            "_model_module_version": "1.5.0",
            "_model_name": "HTMLModel",
            "_view_count": null,
            "_view_module": "@jupyter-widgets/controls",
            "_view_module_version": "1.5.0",
            "_view_name": "HTMLView",
            "description": "",
            "description_tooltip": null,
            "layout": "IPY_MODEL_e27f40e5a193402887d2220742083c0b",
            "placeholder": "​",
            "style": "IPY_MODEL_4da5b1e093994d69b361c367d544a60f",
            "value": " 3/3 [02:02&lt;00:00, 38.38s/it]"
          }
        },
        "dc61ea792b294ce3af1054f4fab27ccb": {
          "model_module": "@jupyter-widgets/base",
          "model_name": "LayoutModel",
          "model_module_version": "1.2.0",
          "state": {
            "_model_module": "@jupyter-widgets/base",
            "_model_module_version": "1.2.0",
            "_model_name": "LayoutModel",
            "_view_count": null,
            "_view_module": "@jupyter-widgets/base",
            "_view_module_version": "1.2.0",
            "_view_name": "LayoutView",
            "align_content": null,
            "align_items": null,
            "align_self": null,
            "border": null,
            "bottom": null,
            "display": null,
            "flex": null,
            "flex_flow": null,
            "grid_area": null,
            "grid_auto_columns": null,
            "grid_auto_flow": null,
            "grid_auto_rows": null,
            "grid_column": null,
            "grid_gap": null,
            "grid_row": null,
            "grid_template_areas": null,
            "grid_template_columns": null,
            "grid_template_rows": null,
            "height": null,
            "justify_content": null,
            "justify_items": null,
            "left": null,
            "margin": null,
            "max_height": null,
            "max_width": null,
            "min_height": null,
            "min_width": null,
            "object_fit": null,
            "object_position": null,
            "order": null,
            "overflow": null,
            "overflow_x": null,
            "overflow_y": null,
            "padding": null,
            "right": null,
            "top": null,
            "visibility": null,
            "width": null
          }
        },
        "eb6a66f50ae2453faf3c60d44d7045e1": {
          "model_module": "@jupyter-widgets/base",
          "model_name": "LayoutModel",
          "model_module_version": "1.2.0",
          "state": {
            "_model_module": "@jupyter-widgets/base",
            "_model_module_version": "1.2.0",
            "_model_name": "LayoutModel",
            "_view_count": null,
            "_view_module": "@jupyter-widgets/base",
            "_view_module_version": "1.2.0",
            "_view_name": "LayoutView",
            "align_content": null,
            "align_items": null,
            "align_self": null,
            "border": null,
            "bottom": null,
            "display": null,
            "flex": null,
            "flex_flow": null,
            "grid_area": null,
            "grid_auto_columns": null,
            "grid_auto_flow": null,
            "grid_auto_rows": null,
            "grid_column": null,
            "grid_gap": null,
            "grid_row": null,
            "grid_template_areas": null,
            "grid_template_columns": null,
            "grid_template_rows": null,
            "height": null,
            "justify_content": null,
            "justify_items": null,
            "left": null,
            "margin": null,
            "max_height": null,
            "max_width": null,
            "min_height": null,
            "min_width": null,
            "object_fit": null,
            "object_position": null,
            "order": null,
            "overflow": null,
            "overflow_x": null,
            "overflow_y": null,
            "padding": null,
            "right": null,
            "top": null,
            "visibility": null,
            "width": null
          }
        },
        "8eb34590e1384fb3a94b2c6b868f9367": {
          "model_module": "@jupyter-widgets/controls",
          "model_name": "DescriptionStyleModel",
          "model_module_version": "1.5.0",
          "state": {
            "_model_module": "@jupyter-widgets/controls",
            "_model_module_version": "1.5.0",
            "_model_name": "DescriptionStyleModel",
            "_view_count": null,
            "_view_module": "@jupyter-widgets/base",
            "_view_module_version": "1.2.0",
            "_view_name": "StyleView",
            "description_width": ""
          }
        },
        "814419a2b40a4cc6b72e0a1ab4839df6": {
          "model_module": "@jupyter-widgets/base",
          "model_name": "LayoutModel",
          "model_module_version": "1.2.0",
          "state": {
            "_model_module": "@jupyter-widgets/base",
            "_model_module_version": "1.2.0",
            "_model_name": "LayoutModel",
            "_view_count": null,
            "_view_module": "@jupyter-widgets/base",
            "_view_module_version": "1.2.0",
            "_view_name": "LayoutView",
            "align_content": null,
            "align_items": null,
            "align_self": null,
            "border": null,
            "bottom": null,
            "display": null,
            "flex": null,
            "flex_flow": null,
            "grid_area": null,
            "grid_auto_columns": null,
            "grid_auto_flow": null,
            "grid_auto_rows": null,
            "grid_column": null,
            "grid_gap": null,
            "grid_row": null,
            "grid_template_areas": null,
            "grid_template_columns": null,
            "grid_template_rows": null,
            "height": null,
            "justify_content": null,
            "justify_items": null,
            "left": null,
            "margin": null,
            "max_height": null,
            "max_width": null,
            "min_height": null,
            "min_width": null,
            "object_fit": null,
            "object_position": null,
            "order": null,
            "overflow": null,
            "overflow_x": null,
            "overflow_y": null,
            "padding": null,
            "right": null,
            "top": null,
            "visibility": null,
            "width": null
          }
        },
        "50ab09bb3eb2421082be4012e0dda05d": {
          "model_module": "@jupyter-widgets/controls",
          "model_name": "ProgressStyleModel",
          "model_module_version": "1.5.0",
          "state": {
            "_model_module": "@jupyter-widgets/controls",
            "_model_module_version": "1.5.0",
            "_model_name": "ProgressStyleModel",
            "_view_count": null,
            "_view_module": "@jupyter-widgets/base",
            "_view_module_version": "1.2.0",
            "_view_name": "StyleView",
            "bar_color": null,
            "description_width": ""
          }
        },
        "e27f40e5a193402887d2220742083c0b": {
          "model_module": "@jupyter-widgets/base",
          "model_name": "LayoutModel",
          "model_module_version": "1.2.0",
          "state": {
            "_model_module": "@jupyter-widgets/base",
            "_model_module_version": "1.2.0",
            "_model_name": "LayoutModel",
            "_view_count": null,
            "_view_module": "@jupyter-widgets/base",
            "_view_module_version": "1.2.0",
            "_view_name": "LayoutView",
            "align_content": null,
            "align_items": null,
            "align_self": null,
            "border": null,
            "bottom": null,
            "display": null,
            "flex": null,
            "flex_flow": null,
            "grid_area": null,
            "grid_auto_columns": null,
            "grid_auto_flow": null,
            "grid_auto_rows": null,
            "grid_column": null,
            "grid_gap": null,
            "grid_row": null,
            "grid_template_areas": null,
            "grid_template_columns": null,
            "grid_template_rows": null,
            "height": null,
            "justify_content": null,
            "justify_items": null,
            "left": null,
            "margin": null,
            "max_height": null,
            "max_width": null,
            "min_height": null,
            "min_width": null,
            "object_fit": null,
            "object_position": null,
            "order": null,
            "overflow": null,
            "overflow_x": null,
            "overflow_y": null,
            "padding": null,
            "right": null,
            "top": null,
            "visibility": null,
            "width": null
          }
        },
        "4da5b1e093994d69b361c367d544a60f": {
          "model_module": "@jupyter-widgets/controls",
          "model_name": "DescriptionStyleModel",
          "model_module_version": "1.5.0",
          "state": {
            "_model_module": "@jupyter-widgets/controls",
            "_model_module_version": "1.5.0",
            "_model_name": "DescriptionStyleModel",
            "_view_count": null,
            "_view_module": "@jupyter-widgets/base",
            "_view_module_version": "1.2.0",
            "_view_name": "StyleView",
            "description_width": ""
          }
        }
      }
    }
  },
  "cells": [
    {
      "cell_type": "markdown",
      "source": [
        "# Note-to-FHIR\n",
        "In Healthcare, an enormous amount of information is captured in clinical notes. Structuring this information for scientific research, administration and business intelligence in these notes is a labour-intensive task.\n",
        "\n",
        "With the introduction of powerfull LLM's, we can automate this work.\n",
        "HealthSage AI has fine-tuned an open source LLM adapter that understands how to convert natural language to FHIR R4. We now support the 10 most-used resource types and we are expanding our scope.\n",
        "\n",
        "This notebook gives you a walkthrough on how to use HealthSage's Open Beta Note-to-FHIR LLM."
      ],
      "metadata": {
        "id": "N5SP1vzNqVcz"
      }
    },
    {
      "cell_type": "markdown",
      "source": [
        "# Performance and limitations\n",
        "\n",
        "### Scope of the model\n",
        "This open sourced Beta model is trained within the following scope:\n",
        "- FHIR R4\n",
        "- 10 Resource types:\n",
        "  1. Bundle\n",
        "  2. Patient\n",
        "  3. Encounter\n",
        "  4. Practitioner\n",
        "  5. Organization\n",
        "  6. Immunization\n",
        "  7. Observation\n",
        "  8. Condition\n",
        "  9. AllergyIntolerance\n",
        "  10. Procedure.\n",
        "- English language\n",
        "\n",
        "\n",
        "### The following features are out of scope of the current release:\n",
        "- Support for Coding systems such as SNOMED CT and Loinc.\n",
        "- FHIR extensions and profiles\n",
        "- Any language, resource type or FHIR version not mentioned under \"in scope\".\n",
        "\n",
        "### Furthermore, please note:\n",
        "- **No Relative dates:** HealthSage AI Note-to-FHIR will not provide accurate FHIR datetime fields based on text that contains relative time information like \"today\" or \"yesterday\". Furthermore, relative dates like \"Patient John Doe is 50 years old.\" will not result in an accurate birthdate estimation, since the precise birthday and -month is unknown, and since the LLM is not aware of the current date.\n",
        "- **Designed as Patient-centric:** HealthSage AI Note-to-FHIR is trained on notes describing one patient each.\n",
        "- **<4k Context window:** The training data for this application contained at most 3686 tokens, which is 90% of the context window for Llama-2 (4096)\n",
        "- **Explicit Null:** If a certain FHIR element is not present in the provided text, it is explicitely predicted as NULL. Explicitely modeling the absence of information reduces the chance of hallucinations.\n",
        "- **Uses Bundles:** For consistency and simplicity, all predicted FHIR resources are Bundled.\n",
        "- **Conservative estimates:** Our model is designed to stick to the information explicitely provided in the text.\n",
        "- **ID's are local:** ID fields and references are local enumarations (1,2,3, etc.). They are not yet tested on referential correctness.\n",
        "- **Generation design:** The model is designed to generate a seperate resource if there is information about that resource in the text beyond what can be described in reference fields of related resources.\n",
        "- **This Beta application is still in early development:** Our preliminary results suggest that HealthSage AI Note-to-FHIR is superior to the GPT-4 foundation model within the scope of our application in terms of Fhir Syntax and ability to replicate the original FHIR resources in our test dataset. However, our model is still being analyzed on its performance for out-of-distribution data and out-of-scope data."
      ],
      "metadata": {
        "id": "tlJBh2cXeQpx"
      }
    },
    {
      "cell_type": "markdown",
      "source": [
        "First, install the required libraries"
      ],
      "metadata": {
        "id": "DSPAy0JjrYsc"
      }
    },
    {
      "cell_type": "code",
      "execution_count": 1,
      "metadata": {
        "colab": {
          "base_uri": "https://localhost:8080/"
        },
        "id": "c1EiBlFJJtQ3",
        "outputId": "14e16c81-4755-420f-add8-657ebabcd02c"
      },
      "outputs": [
        {
          "output_type": "stream",
          "name": "stdout",
          "text": [
            "Requirement already satisfied: fhir.resources in /usr/local/lib/python3.10/dist-packages (7.1.0)\n",
            "Requirement already satisfied: torch in /usr/local/lib/python3.10/dist-packages (2.2.0)\n",
            "Requirement already satisfied: pytorch-gpu in /usr/local/lib/python3.10/dist-packages (0.0.1)\n",
            "Requirement already satisfied: einops in /usr/local/lib/python3.10/dist-packages (0.7.0)\n",
            "Requirement already satisfied: accelerate in /usr/local/lib/python3.10/dist-packages (0.26.1)\n",
            "Requirement already satisfied: xformers in /usr/local/lib/python3.10/dist-packages (0.0.24)\n",
            "Requirement already satisfied: bitsandbytes in /usr/local/lib/python3.10/dist-packages (0.42.0)\n",
            "Requirement already satisfied: pandas in /usr/local/lib/python3.10/dist-packages (1.5.3)\n",
            "Requirement already satisfied: numpy in /usr/local/lib/python3.10/dist-packages (1.23.5)\n",
            "Requirement already satisfied: matplotlib in /usr/local/lib/python3.10/dist-packages (3.7.1)\n",
            "Requirement already satisfied: datasets in /usr/local/lib/python3.10/dist-packages (2.17.0)\n",
            "Requirement already satisfied: torchvision in /usr/local/lib/python3.10/dist-packages (0.17.0)\n",
            "Requirement already satisfied: peft in /usr/local/lib/python3.10/dist-packages (0.8.2)\n",
            "Requirement already satisfied: trl in /usr/local/lib/python3.10/dist-packages (0.7.10)\n",
            "Requirement already satisfied: transformers in /usr/local/lib/python3.10/dist-packages (4.35.2)\n",
            "Requirement already satisfied: marko in /usr/local/lib/python3.10/dist-packages (2.0.2)\n",
            "Requirement already satisfied: plotly in /usr/local/lib/python3.10/dist-packages (5.15.0)\n",
            "Requirement already satisfied: pydantic[email]<3.0,>=2.0.1 in /usr/local/lib/python3.10/dist-packages (from fhir.resources) (2.6.1)\n",
            "Requirement already satisfied: filelock in /usr/local/lib/python3.10/dist-packages (from torch) (3.13.1)\n",
            "Requirement already satisfied: typing-extensions>=4.8.0 in /usr/local/lib/python3.10/dist-packages (from torch) (4.9.0)\n",
            "Requirement already satisfied: sympy in /usr/local/lib/python3.10/dist-packages (from torch) (1.12)\n",
            "Requirement already satisfied: networkx in /usr/local/lib/python3.10/dist-packages (from torch) (3.2.1)\n",
            "Requirement already satisfied: jinja2 in /usr/local/lib/python3.10/dist-packages (from torch) (3.1.3)\n",
            "Requirement already satisfied: fsspec in /usr/local/lib/python3.10/dist-packages (from torch) (2023.6.0)\n",
            "Requirement already satisfied: nvidia-cuda-nvrtc-cu12==12.1.105 in /usr/local/lib/python3.10/dist-packages (from torch) (12.1.105)\n",
            "Requirement already satisfied: nvidia-cuda-runtime-cu12==12.1.105 in /usr/local/lib/python3.10/dist-packages (from torch) (12.1.105)\n",
            "Requirement already satisfied: nvidia-cuda-cupti-cu12==12.1.105 in /usr/local/lib/python3.10/dist-packages (from torch) (12.1.105)\n",
            "Requirement already satisfied: nvidia-cudnn-cu12==8.9.2.26 in /usr/local/lib/python3.10/dist-packages (from torch) (8.9.2.26)\n",
            "Requirement already satisfied: nvidia-cublas-cu12==12.1.3.1 in /usr/local/lib/python3.10/dist-packages (from torch) (12.1.3.1)\n",
            "Requirement already satisfied: nvidia-cufft-cu12==11.0.2.54 in /usr/local/lib/python3.10/dist-packages (from torch) (11.0.2.54)\n",
            "Requirement already satisfied: nvidia-curand-cu12==10.3.2.106 in /usr/local/lib/python3.10/dist-packages (from torch) (10.3.2.106)\n",
            "Requirement already satisfied: nvidia-cusolver-cu12==11.4.5.107 in /usr/local/lib/python3.10/dist-packages (from torch) (11.4.5.107)\n",
            "Requirement already satisfied: nvidia-cusparse-cu12==12.1.0.106 in /usr/local/lib/python3.10/dist-packages (from torch) (12.1.0.106)\n",
            "Requirement already satisfied: nvidia-nccl-cu12==2.19.3 in /usr/local/lib/python3.10/dist-packages (from torch) (2.19.3)\n",
            "Requirement already satisfied: nvidia-nvtx-cu12==12.1.105 in /usr/local/lib/python3.10/dist-packages (from torch) (12.1.105)\n",
            "Requirement already satisfied: triton==2.2.0 in /usr/local/lib/python3.10/dist-packages (from torch) (2.2.0)\n",
            "Requirement already satisfied: nvidia-nvjitlink-cu12 in /usr/local/lib/python3.10/dist-packages (from nvidia-cusolver-cu12==11.4.5.107->torch) (12.3.101)\n",
            "Requirement already satisfied: packaging>=20.0 in /usr/local/lib/python3.10/dist-packages (from accelerate) (23.2)\n",
            "Requirement already satisfied: psutil in /usr/local/lib/python3.10/dist-packages (from accelerate) (5.9.5)\n",
            "Requirement already satisfied: pyyaml in /usr/local/lib/python3.10/dist-packages (from accelerate) (6.0.1)\n",
            "Requirement already satisfied: huggingface-hub in /usr/local/lib/python3.10/dist-packages (from accelerate) (0.20.3)\n",
            "Requirement already satisfied: safetensors>=0.3.1 in /usr/local/lib/python3.10/dist-packages (from accelerate) (0.4.2)\n",
            "Requirement already satisfied: scipy in /usr/local/lib/python3.10/dist-packages (from bitsandbytes) (1.11.4)\n",
            "Requirement already satisfied: python-dateutil>=2.8.1 in /usr/local/lib/python3.10/dist-packages (from pandas) (2.8.2)\n",
            "Requirement already satisfied: pytz>=2020.1 in /usr/local/lib/python3.10/dist-packages (from pandas) (2023.4)\n",
            "Requirement already satisfied: contourpy>=1.0.1 in /usr/local/lib/python3.10/dist-packages (from matplotlib) (1.2.0)\n",
            "Requirement already satisfied: cycler>=0.10 in /usr/local/lib/python3.10/dist-packages (from matplotlib) (0.12.1)\n",
            "Requirement already satisfied: fonttools>=4.22.0 in /usr/local/lib/python3.10/dist-packages (from matplotlib) (4.48.1)\n",
            "Requirement already satisfied: kiwisolver>=1.0.1 in /usr/local/lib/python3.10/dist-packages (from matplotlib) (1.4.5)\n",
            "Requirement already satisfied: pillow>=6.2.0 in /usr/local/lib/python3.10/dist-packages (from matplotlib) (9.4.0)\n",
            "Requirement already satisfied: pyparsing>=2.3.1 in /usr/local/lib/python3.10/dist-packages (from matplotlib) (3.1.1)\n",
            "Requirement already satisfied: pyarrow>=12.0.0 in /usr/local/lib/python3.10/dist-packages (from datasets) (15.0.0)\n",
            "Requirement already satisfied: pyarrow-hotfix in /usr/local/lib/python3.10/dist-packages (from datasets) (0.6)\n",
            "Requirement already satisfied: dill<0.3.9,>=0.3.0 in /usr/local/lib/python3.10/dist-packages (from datasets) (0.3.8)\n",
            "Requirement already satisfied: requests>=2.19.0 in /usr/local/lib/python3.10/dist-packages (from datasets) (2.31.0)\n",
            "Requirement already satisfied: tqdm>=4.62.1 in /usr/local/lib/python3.10/dist-packages (from datasets) (4.66.1)\n",
            "Requirement already satisfied: xxhash in /usr/local/lib/python3.10/dist-packages (from datasets) (3.4.1)\n",
            "Requirement already satisfied: multiprocess in /usr/local/lib/python3.10/dist-packages (from datasets) (0.70.16)\n",
            "Requirement already satisfied: aiohttp in /usr/local/lib/python3.10/dist-packages (from datasets) (3.9.3)\n",
            "Requirement already satisfied: tyro>=0.5.11 in /usr/local/lib/python3.10/dist-packages (from trl) (0.7.2)\n",
            "Requirement already satisfied: regex!=2019.12.17 in /usr/local/lib/python3.10/dist-packages (from transformers) (2023.12.25)\n",
            "Requirement already satisfied: tokenizers<0.19,>=0.14 in /usr/local/lib/python3.10/dist-packages (from transformers) (0.15.1)\n",
            "Requirement already satisfied: tenacity>=6.2.0 in /usr/local/lib/python3.10/dist-packages (from plotly) (8.2.3)\n",
            "Requirement already satisfied: aiosignal>=1.1.2 in /usr/local/lib/python3.10/dist-packages (from aiohttp->datasets) (1.3.1)\n",
            "Requirement already satisfied: attrs>=17.3.0 in /usr/local/lib/python3.10/dist-packages (from aiohttp->datasets) (23.2.0)\n",
            "Requirement already satisfied: frozenlist>=1.1.1 in /usr/local/lib/python3.10/dist-packages (from aiohttp->datasets) (1.4.1)\n",
            "Requirement already satisfied: multidict<7.0,>=4.5 in /usr/local/lib/python3.10/dist-packages (from aiohttp->datasets) (6.0.5)\n",
            "Requirement already satisfied: yarl<2.0,>=1.0 in /usr/local/lib/python3.10/dist-packages (from aiohttp->datasets) (1.9.4)\n",
            "Requirement already satisfied: async-timeout<5.0,>=4.0 in /usr/local/lib/python3.10/dist-packages (from aiohttp->datasets) (4.0.3)\n",
            "Requirement already satisfied: annotated-types>=0.4.0 in /usr/local/lib/python3.10/dist-packages (from pydantic[email]<3.0,>=2.0.1->fhir.resources) (0.6.0)\n",
            "Requirement already satisfied: pydantic-core==2.16.2 in /usr/local/lib/python3.10/dist-packages (from pydantic[email]<3.0,>=2.0.1->fhir.resources) (2.16.2)\n",
            "Requirement already satisfied: email-validator>=2.0.0 in /usr/local/lib/python3.10/dist-packages (from pydantic[email]<3.0,>=2.0.1->fhir.resources) (2.1.0.post1)\n",
            "Requirement already satisfied: six>=1.5 in /usr/local/lib/python3.10/dist-packages (from python-dateutil>=2.8.1->pandas) (1.16.0)\n",
            "Requirement already satisfied: charset-normalizer<4,>=2 in /usr/local/lib/python3.10/dist-packages (from requests>=2.19.0->datasets) (3.3.2)\n",
            "Requirement already satisfied: idna<4,>=2.5 in /usr/local/lib/python3.10/dist-packages (from requests>=2.19.0->datasets) (3.6)\n",
            "Requirement already satisfied: urllib3<3,>=1.21.1 in /usr/local/lib/python3.10/dist-packages (from requests>=2.19.0->datasets) (2.0.7)\n",
            "Requirement already satisfied: certifi>=2017.4.17 in /usr/local/lib/python3.10/dist-packages (from requests>=2.19.0->datasets) (2024.2.2)\n",
            "Requirement already satisfied: docstring-parser>=0.14.1 in /usr/local/lib/python3.10/dist-packages (from tyro>=0.5.11->trl) (0.15)\n",
            "Requirement already satisfied: rich>=11.1.0 in /usr/local/lib/python3.10/dist-packages (from tyro>=0.5.11->trl) (13.7.0)\n",
            "Requirement already satisfied: shtab>=1.5.6 in /usr/local/lib/python3.10/dist-packages (from tyro>=0.5.11->trl) (1.6.5)\n",
            "Requirement already satisfied: MarkupSafe>=2.0 in /usr/local/lib/python3.10/dist-packages (from jinja2->torch) (2.1.5)\n",
            "Requirement already satisfied: mpmath>=0.19 in /usr/local/lib/python3.10/dist-packages (from sympy->torch) (1.3.0)\n",
            "Requirement already satisfied: dnspython>=2.0.0 in /usr/local/lib/python3.10/dist-packages (from email-validator>=2.0.0->pydantic[email]<3.0,>=2.0.1->fhir.resources) (2.5.0)\n",
            "Requirement already satisfied: markdown-it-py>=2.2.0 in /usr/local/lib/python3.10/dist-packages (from rich>=11.1.0->tyro>=0.5.11->trl) (3.0.0)\n",
            "Requirement already satisfied: pygments<3.0.0,>=2.13.0 in /usr/local/lib/python3.10/dist-packages (from rich>=11.1.0->tyro>=0.5.11->trl) (2.16.1)\n",
            "Requirement already satisfied: mdurl~=0.1 in /usr/local/lib/python3.10/dist-packages (from markdown-it-py>=2.2.0->rich>=11.1.0->tyro>=0.5.11->trl) (0.1.2)\n"
          ]
        }
      ],
      "source": [
        "!pip install fhir.resources torch pytorch-gpu einops accelerate xformers bitsandbytes pandas numpy matplotlib datasets torchvision peft trl transformers marko plotly"
      ]
    },
    {
      "cell_type": "code",
      "source": [
        "# Run this cell if working in Colab\n",
        "# !git clone https://github.com/HealthSage-AI/healthsage-ai-llm.git"
      ],
      "metadata": {
        "id": "EhmBBun_gV88"
      },
      "execution_count": 34,
      "outputs": []
    },
    {
      "cell_type": "markdown",
      "source": [
        "# How to convert clinical notes to FHIR R4"
      ],
      "metadata": {
        "id": "WFsEUeAuJ7Tg"
      }
    },
    {
      "cell_type": "code",
      "source": [
        "from datasets import load_dataset\n",
        "from peft import LoraConfig, get_peft_model\n",
        "import os\n",
        "import sys\n",
        "from datasets import load_dataset\n",
        "from google.colab import userdata\n",
        "import sys\n",
        "sys.path.append(\"healthsage-ai-llm\")\n",
        "import json"
      ],
      "metadata": {
        "id": "RIfApoE3Kbde"
      },
      "execution_count": 27,
      "outputs": []
    },
    {
      "cell_type": "markdown",
      "source": [
        "# Login to Huggingface Hub and load the dataset"
      ],
      "metadata": {
        "id": "LRLyvE9xXAe9"
      }
    },
    {
      "cell_type": "code",
      "source": [
        "login_str = f\"huggingface-cli login --token={userdata.get('huggingface_token')}\"\n",
        "os.system(login_str)"
      ],
      "metadata": {
        "colab": {
          "base_uri": "https://localhost:8080/"
        },
        "id": "TMMJLcqJXl8F",
        "outputId": "0ea9dd50-4787-4e17-9619-b0125870d6ab"
      },
      "execution_count": 5,
      "outputs": [
        {
          "output_type": "execute_result",
          "data": {
            "text/plain": [
              "0"
            ]
          },
          "metadata": {},
          "execution_count": 5
        }
      ]
    },
    {
      "cell_type": "code",
      "source": [
        "dataset_name = 'healthsageai/fhir-to-note'  # FHIR dataset\n",
        "dataset = load_dataset(dataset_name)"
      ],
      "metadata": {
        "id": "vR-lMezZWYqd",
        "outputId": "973c928a-42e5-4c2d-91d9-acced5f18bd2",
        "colab": {
          "base_uri": "https://localhost:8080/"
        }
      },
      "execution_count": 6,
      "outputs": [
        {
          "output_type": "stream",
          "name": "stderr",
          "text": [
            "/usr/local/lib/python3.10/dist-packages/huggingface_hub/utils/_token.py:88: UserWarning: \n",
            "The secret `HF_TOKEN` does not exist in your Colab secrets.\n",
            "To authenticate with the Hugging Face Hub, create a token in your settings tab (https://huggingface.co/settings/tokens), set it as secret in your Google Colab and restart your session.\n",
            "You will be able to reuse this secret in all of your notebooks.\n",
            "Please note that authentication is recommended but still optional to access public models or datasets.\n",
            "  warnings.warn(\n"
          ]
        }
      ]
    },
    {
      "cell_type": "markdown",
      "source": [
        "# Inspecting the first test sample\n",
        "This is the first sample in our testset. It is written in a formal sentence style in lower case. Our synthetic clinical notes contain various writing styles to maximize the generalizability of the healthsage model."
      ],
      "metadata": {
        "id": "39Lw1uh1dYKD"
      }
    },
    {
      "cell_type": "code",
      "source": [
        "print(\"Clinical Note: \\n\\n\",dataset['test']['note'][0])"
      ],
      "metadata": {
        "colab": {
          "base_uri": "https://localhost:8080/"
        },
        "id": "PTBWi1xUWj85",
        "outputId": "d8488786-a6b5-4253-d335-a34328378a1b"
      },
      "execution_count": 7,
      "outputs": [
        {
          "output_type": "stream",
          "name": "stdout",
          "text": [
            "Clinical Note: \n",
            "\n",
            " the information pertains to a collection of medical records associated with mr. chase olson. \n",
            "\n",
            "on the 17th of january, 2023, mr. olson visited dr. jude reynolds. the consultation commenced at 9:42 pm and concluded at 9:57 pm, as per the central european time. the nature of mr. olson's visit classified as an ambulatory patient encounter.\n",
            "\n",
            "additional background information about mr. olson: he was born on the 29th of november, 1966, which makes him a male of 57 years of age. he can be contacted through his home phone number 555-770-7639. he resides at 792 schumm fork unit 62, palmer, massachusetts, 01069, us. his communication preference is english, specifically the version spoken in the united states.\n",
            "\n",
            "regarding mr. olson’s health, it's important to mention an active and confirmed health condition he endures. he has an allergy towards a certain, unspecified substance, categorized as an environmental allergy.\n",
            "\n",
            "all of this information represents critical aspects of mr. olson’s health record and should be considered during each visit to ensure effective and appropriate care.\n"
          ]
        }
      ]
    },
    {
      "cell_type": "markdown",
      "source": [
        "Below you find the associated FHIR-R4 resource. FHIR is not easy to read but if you take a close look you can see the json string describes the clinical note in FHIR R4 language. Globally, the FHIR Bundle consists of a **Patient** (mr. Chase Olson), an **encounter** and an **allergy**.  "
      ],
      "metadata": {
        "id": "aOjNBozOsCYr"
      }
    },
    {
      "cell_type": "code",
      "source": [
        "print(\"FHIR R4 representation:\")\n",
        "json.loads(dataset['test']['fhir'][0])"
      ],
      "metadata": {
        "colab": {
          "base_uri": "https://localhost:8080/"
        },
        "id": "z7zTGm4ucCle",
        "outputId": "2d0b927e-a2ac-4c81-feb5-a37f17fda003"
      },
      "execution_count": 8,
      "outputs": [
        {
          "output_type": "stream",
          "name": "stdout",
          "text": [
            "FHIR R4 representation:\n"
          ]
        },
        {
          "output_type": "execute_result",
          "data": {
            "text/plain": [
              "{'resourceType': 'Bundle',\n",
              " 'id': '1',\n",
              " 'type': 'collection',\n",
              " 'entry': [{'resource': {'resourceType': 'Encounter',\n",
              "    'id': '1',\n",
              "    'status': 'finished',\n",
              "    'class': {'system': 'http://terminology.hl7.org/CodeSystem/v3-ActCode',\n",
              "     'code': 'AMB'},\n",
              "    'type': None,\n",
              "    'subject': {'reference': 'Patient/1', 'display': 'Mr. Chase Olson'},\n",
              "    'participant': [{'type': [{'coding': [{'system': 'http://terminology.hl7.org/CodeSystem/v3-ParticipationType',\n",
              "          'code': 'PPRF',\n",
              "          'display': 'primary performer'}],\n",
              "        'text': 'primary performer'}],\n",
              "      'period': {'start': '2023-01-17T21:42:36+01:00',\n",
              "       'end': '2023-01-17T21:57:36+01:00'},\n",
              "      'individual': {'reference': 'Practitioner/1',\n",
              "       'display': 'Dr. Jude Reynolds'}}],\n",
              "    'period': {'start': '2023-01-17T21:42:36+01:00',\n",
              "     'end': '2023-01-17T21:57:36+01:00'},\n",
              "    'reasonCode': None,\n",
              "    'serviceProvider': None}},\n",
              "  {'resource': {'resourceType': 'Patient',\n",
              "    'id': '1',\n",
              "    'name': [{'use': 'official',\n",
              "      'family': 'Olson',\n",
              "      'given': ['Chase'],\n",
              "      'prefix': ['Mr.']}],\n",
              "    'telecom': [{'system': 'phone', 'value': '555-770-7639', 'use': 'home'}],\n",
              "    'gender': 'male',\n",
              "    'birthDate': '1966-11-29',\n",
              "    'address': [{'line': ['792 Schumm Fork Unit 62'],\n",
              "      'city': 'Palmer',\n",
              "      'state': 'Massachusetts',\n",
              "      'postalCode': '01069',\n",
              "      'country': 'US'}],\n",
              "    'maritalStatus': None,\n",
              "    'multipleBirthBoolean': None,\n",
              "    'communication': [{'language': {'coding': [{'system': 'urn:ietf:bcp:47',\n",
              "         'code': 'en-US',\n",
              "         'display': 'English (United States)'}],\n",
              "       'text': 'English (United States)'}}]}},\n",
              "  {'resource': {'resourceType': 'AllergyIntolerance',\n",
              "    'id': '1',\n",
              "    'clinicalStatus': {'coding': [{'system': 'http://terminology.hl7.org/CodeSystem/allergyintolerance-clinical',\n",
              "       'code': 'active'}]},\n",
              "    'verificationStatus': {'coding': [{'system': 'http://terminology.hl7.org/CodeSystem/allergyintolerance-verification',\n",
              "       'code': 'confirmed'}]},\n",
              "    'type': None,\n",
              "    'category': ['environment'],\n",
              "    'criticality': None,\n",
              "    'code': {'coding': [{'system': 'http://snomed.info/sct',\n",
              "       'code': '419199007',\n",
              "       'display': 'Allergy to substance (finding)'}],\n",
              "     'text': 'Allergy to substance (finding)'},\n",
              "    'patient': {'reference': 'Patient/1'},\n",
              "    'recordedDate': None}}]}"
            ]
          },
          "metadata": {},
          "execution_count": 8
        }
      ]
    },
    {
      "cell_type": "markdown",
      "source": [
        "# Load Llama-2 and HealthSage AI note-to-FHIR-adapter"
      ],
      "metadata": {
        "id": "IBW9fDstiFQQ"
      }
    },
    {
      "cell_type": "markdown",
      "source": [
        "Our Note-to-FHIR is capable of doing this conversion automatically on a relatively T4 GPU. We do so by loading our LoRA adapter model on a quantized version of LLama-2-13b."
      ],
      "metadata": {
        "id": "I23RXJ2pscDb"
      }
    },
    {
      "cell_type": "markdown",
      "source": [
        "# Combine the clinical note with instructions"
      ],
      "metadata": {
        "id": "OULU4QsbjQCz"
      }
    },
    {
      "cell_type": "markdown",
      "source": [
        "This is the prompt template on which we add our clinical note"
      ],
      "metadata": {
        "id": "lqMPnMDStVVn"
      }
    },
    {
      "cell_type": "markdown",
      "source": [
        "# Inference\n",
        "Now we ask our model to give us the original FHIR model back"
      ],
      "metadata": {
        "id": "cAS5u88Ftek2"
      }
    },
    {
      "cell_type": "code",
      "source": [
        "from src.note_to_fhir.inference import NoteToFhir13b"
      ],
      "metadata": {
        "id": "TFzunm2lkGn5"
      },
      "execution_count": 9,
      "outputs": []
    },
    {
      "cell_type": "code",
      "source": [
        "model = NoteToFhir13b()"
      ],
      "metadata": {
        "id": "I4FIfik3i61Q",
        "outputId": "6a7039e9-20c0-45c7-ba05-89d4eb9d36d7",
        "colab": {
          "base_uri": "https://localhost:8080/",
          "height": 49,
          "referenced_widgets": [
            "6b7fb74bf8bd482d8ed69441b70aabbf",
            "e126de1ec2b143d98c0d4a433665b1a3",
            "6801f8c470224f1a825eb65de9f8a9c4",
            "6d385997cd414d1caa3c10492f7e7966",
            "dc61ea792b294ce3af1054f4fab27ccb",
            "eb6a66f50ae2453faf3c60d44d7045e1",
            "8eb34590e1384fb3a94b2c6b868f9367",
            "814419a2b40a4cc6b72e0a1ab4839df6",
            "50ab09bb3eb2421082be4012e0dda05d",
            "e27f40e5a193402887d2220742083c0b",
            "4da5b1e093994d69b361c367d544a60f"
          ]
        }
      },
      "execution_count": 10,
      "outputs": [
        {
          "output_type": "display_data",
          "data": {
            "text/plain": [
              "Loading checkpoint shards:   0%|          | 0/3 [00:00<?, ?it/s]"
            ],
            "application/vnd.jupyter.widget-view+json": {
              "version_major": 2,
              "version_minor": 0,
              "model_id": "6b7fb74bf8bd482d8ed69441b70aabbf"
            }
          },
          "metadata": {}
        }
      ]
    },
    {
      "cell_type": "code",
      "source": [
        "dataset"
      ],
      "metadata": {
        "colab": {
          "base_uri": "https://localhost:8080/"
        },
        "id": "DuehW7C_nCnF",
        "outputId": "22147899-ff9f-4a5a-d02d-bb16ec066882"
      },
      "execution_count": 11,
      "outputs": [
        {
          "output_type": "execute_result",
          "data": {
            "text/plain": [
              "DatasetDict({\n",
              "    train: Dataset({\n",
              "        features: ['fhir', 'note'],\n",
              "        num_rows: 2726\n",
              "    })\n",
              "    validation: Dataset({\n",
              "        features: ['fhir', 'note'],\n",
              "        num_rows: 48\n",
              "    })\n",
              "    test: Dataset({\n",
              "        features: ['fhir', 'note'],\n",
              "        num_rows: 79\n",
              "    })\n",
              "})"
            ]
          },
          "metadata": {},
          "execution_count": 11
        }
      ]
    },
    {
      "cell_type": "code",
      "source": [
        "fhir_true = json.loads(dataset['test']['fhir'][0])\n",
        "fhir_pred = model.translate(dataset['test']['note'][0])"
      ],
      "metadata": {
        "id": "Xv2MlqG6kaMt"
      },
      "execution_count": 12,
      "outputs": []
    },
    {
      "cell_type": "markdown",
      "source": [
        "# Result\n",
        "First we load the json string into a dictionary and then we remove any None values.\n",
        "As you can see, the resulting FHIR closely resembles the original FHIR Bundle.\n",
        "An Encounter, a Patient and an AllergyIntolerance Resource are created."
      ],
      "metadata": {
        "id": "FfVAxe9ptpJG"
      }
    },
    {
      "cell_type": "code",
      "source": [
        "fhir_pred"
      ],
      "metadata": {
        "id": "wUrw2Cw8uk-t",
        "colab": {
          "base_uri": "https://localhost:8080/"
        },
        "outputId": "c09550c5-3549-488d-ddef-f84bbfe5c432"
      },
      "execution_count": 13,
      "outputs": [
        {
          "output_type": "execute_result",
          "data": {
            "text/plain": [
              "{'resourceType': 'Bundle',\n",
              " 'id': '1',\n",
              " 'type': 'collection',\n",
              " 'entry': [{'resource': {'resourceType': 'Encounter',\n",
              "    'id': '1',\n",
              "    'status': 'finished',\n",
              "    'class': {'system': 'http://terminology.hl7.org/CodeSystem/v3-ActCode',\n",
              "     'code': 'AMB'},\n",
              "    'subject': {'reference': 'Patient/1', 'display': 'Mr. Chase Olson'},\n",
              "    'participant': [{'period': {'start': '2023-01-17T21:42:13+01:00',\n",
              "       'end': '2023-01-17T21:57:13+01:00'},\n",
              "      'individual': {'reference': 'Practitioner/1',\n",
              "       'display': 'Dr. Jude Reynolds'}}]}},\n",
              "  {'resource': {'resourceType': 'Patient',\n",
              "    'id': '1',\n",
              "    'name': [{'use': 'official',\n",
              "      'family': 'Olson',\n",
              "      'given': ['Chase'],\n",
              "      'prefix': ['Mr.']}],\n",
              "    'telecom': [{'system': 'phone', 'value': '555-770-7639', 'use': 'home'}],\n",
              "    'gender': 'male',\n",
              "    'birthDate': '1966-11-29',\n",
              "    'address': [{'line': ['792 Schumm Fork Unit 62'],\n",
              "      'city': 'Palmer',\n",
              "      'state': 'Massachusetts',\n",
              "      'postalCode': '01069',\n",
              "      'country': 'US'}],\n",
              "    'communication': [{'language': {'coding': [{'system': 'urn:ietf:bcp:47',\n",
              "         'code': 'en-US',\n",
              "         'display': 'English (United States)'}],\n",
              "       'text': 'English (United States)'}}]}},\n",
              "  {'resource': {'resourceType': 'AllergyIntolerance',\n",
              "    'id': '1',\n",
              "    'clinicalStatus': {'coding': [{'system': 'http://terminology.hl7.org/CodeSystem/allergyintolerance-clinical',\n",
              "       'code': 'active'}]},\n",
              "    'verificationStatus': {'coding': [{'system': 'http://terminology.hl7.org/CodeSystem/allergyintolerance-verification',\n",
              "       'code': 'confirmed'}]},\n",
              "    'category': ['environment'],\n",
              "    'patient': {'reference': 'Patient/1'}}}]}"
            ]
          },
          "metadata": {},
          "execution_count": 13
        }
      ]
    },
    {
      "cell_type": "markdown",
      "source": [
        "# Evaluation\n",
        "Does the model produce valid FHIR?"
      ],
      "metadata": {
        "id": "2njgGziLudcY"
      }
    },
    {
      "cell_type": "code",
      "source": [
        "from src.note_to_fhir.evaluation.utils import get_diff\n",
        "from src.note_to_fhir.evaluation.visuals import show_diff"
      ],
      "metadata": {
        "id": "O2bin5XxuLGu"
      },
      "execution_count": 28,
      "outputs": []
    },
    {
      "cell_type": "code",
      "source": [
        "diff = get_diff(fhir_true, fhir_pred, resource_type=\"Bundle\")\n",
        "show_diff(diff)"
      ],
      "metadata": {
        "colab": {
          "base_uri": "https://localhost:8080/",
          "height": 542
        },
        "id": "j8zsgVznuRRZ",
        "outputId": "a6a8b4a0-bb18-4131-ce0d-0173c16e9a78"
      },
      "execution_count": 33,
      "outputs": [
        {
          "output_type": "display_data",
          "data": {
            "text/html": [
              "<html>\n",
              "<head><meta charset=\"utf-8\" /></head>\n",
              "<body>\n",
              "    <div>            <script src=\"https://cdnjs.cloudflare.com/ajax/libs/mathjax/2.7.5/MathJax.js?config=TeX-AMS-MML_SVG\"></script><script type=\"text/javascript\">if (window.MathJax && window.MathJax.Hub && window.MathJax.Hub.Config) {window.MathJax.Hub.Config({SVG: {font: \"STIX-Web\"}});}</script>                <script type=\"text/javascript\">window.PlotlyConfig = {MathJaxConfig: 'local'};</script>\n",
              "        <script charset=\"utf-8\" src=\"https://cdn.plot.ly/plotly-2.24.1.min.js\"></script>                <div id=\"43daa314-ab5b-4bea-af62-ca0f88ee6bea\" class=\"plotly-graph-div\" style=\"height:525px; width:100%;\"></div>            <script type=\"text/javascript\">                                    window.PLOTLYENV=window.PLOTLYENV || {};                                    if (document.getElementById(\"43daa314-ab5b-4bea-af62-ca0f88ee6bea\")) {                    Plotly.newPlot(                        \"43daa314-ab5b-4bea-af62-ca0f88ee6bea\",                        [{\"hoverinfo\":\"text\",\"hovertext\":[\"n_leaves=44 n_additions=0 n_deletions=10 n_modifications=2 n_matches=32 is_valid=None accuracy=0.7272727272727273 precision=0.9411764705882353 recall=0.7272727272727273\\u003cbr\\u003e\\u003ci\\u003etrue: \\u003c\\u002fi\\u003e{'entry': [...], 'id': '1', 'resourceType': 'Bundle', 'type': 'collection'}\\u003cbr\\u003e\\u003ci\\u003epred: \\u003c\\u002fi\\u003e{'entry': [...], 'id': '1', 'resourceType': 'Bundle', 'type': 'collection'}\",\"n_leaves=0 n_additions=0 n_deletions=0 n_modifications=0 n_matches=0 is_valid=None accuracy=None precision=None recall=None\\u003cbr\\u003e\\u003ci\\u003etrue: \\u003c\\u002fi\\u003e'1'\\u003cbr\\u003e\\u003ci\\u003epred: \\u003c\\u002fi\\u003e'1'\",\"n_leaves=15 n_additions=0 n_deletions=6 n_modifications=2 n_matches=7 is_valid=None accuracy=0.4666666666666667 precision=0.7777777777777778 recall=0.4666666666666667\\u003cbr\\u003e\\u003ci\\u003etrue: \\u003c\\u002fi\\u003e{'resource': {...}, 'resourceType': {}}\\u003cbr\\u003e\\u003ci\\u003epred: \\u003c\\u002fi\\u003e{'resource': {...}}\",\"n_leaves=15 n_additions=0 n_deletions=6 n_modifications=2 n_matches=7 is_valid=None accuracy=0.4666666666666667 precision=0.7777777777777778 recall=0.4666666666666667\\u003cbr\\u003e\\u003ci\\u003etrue: \\u003c\\u002fi\\u003e{'class': {...},\\u003cbr\\u003e\\u003ci\\u003e...8 lines...\\u003c\\u002fi\\u003e\\u003cbr\\u003e 'type': None}\\u003cbr\\u003e\\u003ci\\u003epred: \\u003c\\u002fi\\u003e{'class': {...},\\u003cbr\\u003e\\u003ci\\u003e...5 lines...\\u003c\\u002fi\\u003e\\u003cbr\\u003e 'subject': {...}}\",\"n_leaves=0 n_additions=0 n_deletions=0 n_modifications=0 n_matches=0 is_valid=None accuracy=None precision=None recall=None\\u003cbr\\u003e\\u003ci\\u003etrue: \\u003c\\u002fi\\u003e'1'\\u003cbr\\u003e\\u003ci\\u003epred: \\u003c\\u002fi\\u003e'1'\",\"n_leaves=2 n_additions=0 n_deletions=0 n_modifications=0 n_matches=2 is_valid=None accuracy=1.0 precision=1.0 recall=1.0\\u003cbr\\u003e\\u003ci\\u003etrue: \\u003c\\u002fi\\u003e{'code': 'AMB',\\u003cbr\\u003e 'resourceType': {},\\u003cbr\\u003e 'system': 'http:\\u002f\\u002fterminology.hl7.org\\u002fCodeSystem\\u002fv3-ActCode'}\\u003cbr\\u003e\\u003ci\\u003epred: \\u003c\\u002fi\\u003e{'code': 'AMB', 'system': 'http:\\u002f\\u002fterminology.hl7.org\\u002fCodeSystem\\u002fv3-ActCode'}\",\"n_leaves=1 n_additions=0 n_deletions=0 n_modifications=0 n_matches=1 is_valid=None accuracy=1.0 precision=1.0 recall=1.0\\u003cbr\\u003e\\u003ci\\u003etrue: \\u003c\\u002fi\\u003e'AMB'\\u003cbr\\u003e\\u003ci\\u003epred: \\u003c\\u002fi\\u003e'AMB'\",\"n_leaves=1 n_additions=0 n_deletions=0 n_modifications=0 n_matches=1 is_valid=None accuracy=1.0 precision=1.0 recall=1.0\\u003cbr\\u003e\\u003ci\\u003etrue: \\u003c\\u002fi\\u003e'http:\\u002f\\u002fterminology.hl7.org\\u002fCodeSystem\\u002fv3-ActCode'\\u003cbr\\u003e\\u003ci\\u003epred: \\u003c\\u002fi\\u003e'http:\\u002f\\u002fterminology.hl7.org\\u002fCodeSystem\\u002fv3-ActCode'\",\"n_leaves=8 n_additions=0 n_deletions=4 n_modifications=2 n_matches=2 is_valid=None accuracy=0.25 precision=0.5 recall=0.25\\u003cbr\\u003e\\u003ci\\u003etrue: \\u003c\\u002fi\\u003e{'individual': {...}, 'period': {...}, 'resourceType': {}, 'type': [...]}\\u003cbr\\u003e\\u003ci\\u003epred: \\u003c\\u002fi\\u003e{'individual': {...}, 'period': {...}, 'type': []}\",\"n_leaves=2 n_additions=0 n_deletions=0 n_modifications=0 n_matches=2 is_valid=None accuracy=1.0 precision=1.0 recall=1.0\\u003cbr\\u003e\\u003ci\\u003etrue: \\u003c\\u002fi\\u003e{'display': 'Dr. Jude Reynolds',\\u003cbr\\u003e 'reference': 'Practitioner\\u002f1',\\u003cbr\\u003e 'resourceType': {}}\\u003cbr\\u003e\\u003ci\\u003epred: \\u003c\\u002fi\\u003e{'display': 'Dr. Jude Reynolds', 'reference': 'Practitioner\\u002f1'}\",\"n_leaves=1 n_additions=0 n_deletions=0 n_modifications=0 n_matches=1 is_valid=None accuracy=1.0 precision=1.0 recall=1.0\\u003cbr\\u003e\\u003ci\\u003etrue: \\u003c\\u002fi\\u003e'Dr. Jude Reynolds'\\u003cbr\\u003e\\u003ci\\u003epred: \\u003c\\u002fi\\u003e'Dr. Jude Reynolds'\",\"n_leaves=1 n_additions=0 n_deletions=0 n_modifications=0 n_matches=1 is_valid=None accuracy=1.0 precision=1.0 recall=1.0\\u003cbr\\u003e\\u003ci\\u003etrue: \\u003c\\u002fi\\u003e'Practitioner\\u002f1'\\u003cbr\\u003e\\u003ci\\u003epred: \\u003c\\u002fi\\u003e'Practitioner\\u002f1'\",\"n_leaves=2 n_additions=0 n_deletions=0 n_modifications=2 n_matches=0 is_valid=None accuracy=0.0 precision=0.0 recall=0.0\\u003cbr\\u003e\\u003ci\\u003etrue: \\u003c\\u002fi\\u003e{'end': '2023-01-17T21:57:36+01:00',\\u003cbr\\u003e 'resourceType': {},\\u003cbr\\u003e 'start': '2023-01-17T21:42:36+01:00'}\\u003cbr\\u003e\\u003ci\\u003epred: \\u003c\\u002fi\\u003e{'end': '2023-01-17T21:57:13+01:00', 'start': '2023-01-17T21:42:13+01:00'}\",\"n_leaves=1 n_additions=0 n_deletions=0 n_modifications=1 n_matches=0 is_valid=None accuracy=0.0 precision=0.0 recall=0.0\\u003cbr\\u003e\\u003ci\\u003etrue: \\u003c\\u002fi\\u003e'2023-01-17T21:57:36+01:00'\\u003cbr\\u003e\\u003ci\\u003epred: \\u003c\\u002fi\\u003e'2023-01-17T21:57:13+01:00'\",\"n_leaves=1 n_additions=0 n_deletions=0 n_modifications=1 n_matches=0 is_valid=None accuracy=0.0 precision=0.0 recall=0.0\\u003cbr\\u003e\\u003ci\\u003etrue: \\u003c\\u002fi\\u003e'2023-01-17T21:42:36+01:00'\\u003cbr\\u003e\\u003ci\\u003epred: \\u003c\\u002fi\\u003e'2023-01-17T21:42:13+01:00'\",\"n_leaves=4 n_additions=0 n_deletions=4 n_modifications=0 n_matches=0 is_valid=None accuracy=0.0 precision=None recall=0.0\\u003cbr\\u003e\\u003ci\\u003etrue: \\u003c\\u002fi\\u003e{'coding': [...], 'resourceType': {}, 'text': 'primary performer'}\\u003cbr\\u003e\\u003ci\\u003epred: \\u003c\\u002fi\\u003e{'coding': [], 'text': {}}\",\"n_leaves=3 n_additions=0 n_deletions=3 n_modifications=0 n_matches=0 is_valid=None accuracy=0.0 precision=None recall=0.0\\u003cbr\\u003e\\u003ci\\u003etrue: \\u003c\\u002fi\\u003e{'code': 'PPRF',\\u003cbr\\u003e\\u003ci\\u003e...2 lines...\\u003c\\u002fi\\u003e\\u003cbr\\u003e 'system': 'http:\\u002f\\u002fterminology.hl7.org\\u002fCodeSystem\\u002fv3-ParticipationType'}\\u003cbr\\u003e\\u003ci\\u003epred: \\u003c\\u002fi\\u003e{'code': {}, 'display': {}, 'system': {}}\",\"n_leaves=1 n_additions=0 n_deletions=1 n_modifications=0 n_matches=0 is_valid=None accuracy=0.0 precision=None recall=0.0\\u003cbr\\u003e\\u003ci\\u003etrue: \\u003c\\u002fi\\u003e'PPRF'\\u003cbr\\u003e\\u003ci\\u003epred: \\u003c\\u002fi\\u003e{}\",\"n_leaves=1 n_additions=0 n_deletions=1 n_modifications=0 n_matches=0 is_valid=None accuracy=0.0 precision=None recall=0.0\\u003cbr\\u003e\\u003ci\\u003etrue: \\u003c\\u002fi\\u003e'primary performer'\\u003cbr\\u003e\\u003ci\\u003epred: \\u003c\\u002fi\\u003e{}\",\"n_leaves=1 n_additions=0 n_deletions=1 n_modifications=0 n_matches=0 is_valid=None accuracy=0.0 precision=None recall=0.0\\u003cbr\\u003e\\u003ci\\u003etrue: \\u003c\\u002fi\\u003e'http:\\u002f\\u002fterminology.hl7.org\\u002fCodeSystem\\u002fv3-ParticipationType'\\u003cbr\\u003e\\u003ci\\u003epred: \\u003c\\u002fi\\u003e{}\",\"n_leaves=1 n_additions=0 n_deletions=1 n_modifications=0 n_matches=0 is_valid=None accuracy=0.0 precision=None recall=0.0\\u003cbr\\u003e\\u003ci\\u003etrue: \\u003c\\u002fi\\u003e'primary performer'\\u003cbr\\u003e\\u003ci\\u003epred: \\u003c\\u002fi\\u003e{}\",\"n_leaves=2 n_additions=0 n_deletions=2 n_modifications=0 n_matches=0 is_valid=None accuracy=0.0 precision=None recall=0.0\\u003cbr\\u003e\\u003ci\\u003etrue: \\u003c\\u002fi\\u003e{'end': '2023-01-17T21:57:36+01:00',\\u003cbr\\u003e 'resourceType': {},\\u003cbr\\u003e 'start': '2023-01-17T21:42:36+01:00'}\\u003cbr\\u003e\\u003ci\\u003epred: \\u003c\\u002fi\\u003e{'end': {}, 'start': {}}\",\"n_leaves=1 n_additions=0 n_deletions=1 n_modifications=0 n_matches=0 is_valid=None accuracy=0.0 precision=None recall=0.0\\u003cbr\\u003e\\u003ci\\u003etrue: \\u003c\\u002fi\\u003e'2023-01-17T21:57:36+01:00'\\u003cbr\\u003e\\u003ci\\u003epred: \\u003c\\u002fi\\u003e{}\",\"n_leaves=1 n_additions=0 n_deletions=1 n_modifications=0 n_matches=0 is_valid=None accuracy=0.0 precision=None recall=0.0\\u003cbr\\u003e\\u003ci\\u003etrue: \\u003c\\u002fi\\u003e'2023-01-17T21:42:36+01:00'\\u003cbr\\u003e\\u003ci\\u003epred: \\u003c\\u002fi\\u003e{}\",\"n_leaves=1 n_additions=0 n_deletions=0 n_modifications=0 n_matches=1 is_valid=None accuracy=1.0 precision=1.0 recall=1.0\\u003cbr\\u003e\\u003ci\\u003etrue: \\u003c\\u002fi\\u003e'finished'\\u003cbr\\u003e\\u003ci\\u003epred: \\u003c\\u002fi\\u003e'finished'\",\"n_leaves=2 n_additions=0 n_deletions=0 n_modifications=0 n_matches=2 is_valid=None accuracy=1.0 precision=1.0 recall=1.0\\u003cbr\\u003e\\u003ci\\u003etrue: \\u003c\\u002fi\\u003e{'display': 'Mr. Chase Olson', 'reference': 'Patient\\u002f1', 'resourceType': {}}\\u003cbr\\u003e\\u003ci\\u003epred: \\u003c\\u002fi\\u003e{'display': 'Mr. Chase Olson', 'reference': 'Patient\\u002f1'}\",\"n_leaves=1 n_additions=0 n_deletions=0 n_modifications=0 n_matches=1 is_valid=None accuracy=1.0 precision=1.0 recall=1.0\\u003cbr\\u003e\\u003ci\\u003etrue: \\u003c\\u002fi\\u003e'Mr. Chase Olson'\\u003cbr\\u003e\\u003ci\\u003epred: \\u003c\\u002fi\\u003e'Mr. Chase Olson'\",\"n_leaves=1 n_additions=0 n_deletions=0 n_modifications=0 n_matches=1 is_valid=None accuracy=1.0 precision=1.0 recall=1.0\\u003cbr\\u003e\\u003ci\\u003etrue: \\u003c\\u002fi\\u003e'Patient\\u002f1'\\u003cbr\\u003e\\u003ci\\u003epred: \\u003c\\u002fi\\u003e'Patient\\u002f1'\",\"n_leaves=18 n_additions=0 n_deletions=0 n_modifications=0 n_matches=18 is_valid=None accuracy=1.0 precision=1.0 recall=1.0\\u003cbr\\u003e\\u003ci\\u003etrue: \\u003c\\u002fi\\u003e{'resource': {...}, 'resourceType': {}}\\u003cbr\\u003e\\u003ci\\u003epred: \\u003c\\u002fi\\u003e{'resource': {...}}\",\"n_leaves=18 n_additions=0 n_deletions=0 n_modifications=0 n_matches=18 is_valid=None accuracy=1.0 precision=1.0 recall=1.0\\u003cbr\\u003e\\u003ci\\u003etrue: \\u003c\\u002fi\\u003e{'address': [...],\\u003cbr\\u003e\\u003ci\\u003e...8 lines...\\u003c\\u002fi\\u003e\\u003cbr\\u003e 'telecom': [...]}\\u003cbr\\u003e\\u003ci\\u003epred: \\u003c\\u002fi\\u003e{'address': [...],\\u003cbr\\u003e\\u003ci\\u003e...6 lines...\\u003c\\u002fi\\u003e\\u003cbr\\u003e 'telecom': [...]}\",\"n_leaves=0 n_additions=0 n_deletions=0 n_modifications=0 n_matches=0 is_valid=None accuracy=None precision=None recall=None\\u003cbr\\u003e\\u003ci\\u003etrue: \\u003c\\u002fi\\u003e'1'\\u003cbr\\u003e\\u003ci\\u003epred: \\u003c\\u002fi\\u003e'1'\",\"n_leaves=5 n_additions=0 n_deletions=0 n_modifications=0 n_matches=5 is_valid=None accuracy=1.0 precision=1.0 recall=1.0\\u003cbr\\u003e\\u003ci\\u003etrue: \\u003c\\u002fi\\u003e{'city': 'Palmer',\\u003cbr\\u003e\\u003ci\\u003e...4 lines...\\u003c\\u002fi\\u003e\\u003cbr\\u003e 'state': 'Massachusetts'}\\u003cbr\\u003e\\u003ci\\u003epred: \\u003c\\u002fi\\u003e{'city': 'Palmer',\\u003cbr\\u003e\\u003ci\\u003e...3 lines...\\u003c\\u002fi\\u003e\\u003cbr\\u003e 'state': 'Massachusetts'}\",\"n_leaves=1 n_additions=0 n_deletions=0 n_modifications=0 n_matches=1 is_valid=None accuracy=1.0 precision=1.0 recall=1.0\\u003cbr\\u003e\\u003ci\\u003etrue: \\u003c\\u002fi\\u003e'Palmer'\\u003cbr\\u003e\\u003ci\\u003epred: \\u003c\\u002fi\\u003e'Palmer'\",\"n_leaves=1 n_additions=0 n_deletions=0 n_modifications=0 n_matches=1 is_valid=None accuracy=1.0 precision=1.0 recall=1.0\\u003cbr\\u003e\\u003ci\\u003etrue: \\u003c\\u002fi\\u003e'US'\\u003cbr\\u003e\\u003ci\\u003epred: \\u003c\\u002fi\\u003e'US'\",\"n_leaves=1 n_additions=0 n_deletions=0 n_modifications=0 n_matches=1 is_valid=None accuracy=1.0 precision=1.0 recall=1.0\\u003cbr\\u003e\\u003ci\\u003etrue: \\u003c\\u002fi\\u003e'792 Schumm Fork Unit 62'\\u003cbr\\u003e\\u003ci\\u003epred: \\u003c\\u002fi\\u003e'792 Schumm Fork Unit 62'\",\"n_leaves=1 n_additions=0 n_deletions=0 n_modifications=0 n_matches=1 is_valid=None accuracy=1.0 precision=1.0 recall=1.0\\u003cbr\\u003e\\u003ci\\u003etrue: \\u003c\\u002fi\\u003e'01069'\\u003cbr\\u003e\\u003ci\\u003epred: \\u003c\\u002fi\\u003e'01069'\",\"n_leaves=1 n_additions=0 n_deletions=0 n_modifications=0 n_matches=1 is_valid=None accuracy=1.0 precision=1.0 recall=1.0\\u003cbr\\u003e\\u003ci\\u003etrue: \\u003c\\u002fi\\u003e'Massachusetts'\\u003cbr\\u003e\\u003ci\\u003epred: \\u003c\\u002fi\\u003e'Massachusetts'\",\"n_leaves=1 n_additions=0 n_deletions=0 n_modifications=0 n_matches=1 is_valid=None accuracy=1.0 precision=1.0 recall=1.0\\u003cbr\\u003e\\u003ci\\u003etrue: \\u003c\\u002fi\\u003e'1966-11-29'\\u003cbr\\u003e\\u003ci\\u003epred: \\u003c\\u002fi\\u003e'1966-11-29'\",\"n_leaves=4 n_additions=0 n_deletions=0 n_modifications=0 n_matches=4 is_valid=None accuracy=1.0 precision=1.0 recall=1.0\\u003cbr\\u003e\\u003ci\\u003etrue: \\u003c\\u002fi\\u003e{'language': {...}, 'resourceType': {}}\\u003cbr\\u003e\\u003ci\\u003epred: \\u003c\\u002fi\\u003e{'language': {...}}\",\"n_leaves=4 n_additions=0 n_deletions=0 n_modifications=0 n_matches=4 is_valid=None accuracy=1.0 precision=1.0 recall=1.0\\u003cbr\\u003e\\u003ci\\u003etrue: \\u003c\\u002fi\\u003e{'coding': [...], 'resourceType': {}, 'text': 'English (United States)'}\\u003cbr\\u003e\\u003ci\\u003epred: \\u003c\\u002fi\\u003e{'coding': [...], 'text': 'English (United States)'}\",\"n_leaves=3 n_additions=0 n_deletions=0 n_modifications=0 n_matches=3 is_valid=None accuracy=1.0 precision=1.0 recall=1.0\\u003cbr\\u003e\\u003ci\\u003etrue: \\u003c\\u002fi\\u003e{'code': 'en-US',\\u003cbr\\u003e\\u003ci\\u003e...2 lines...\\u003c\\u002fi\\u003e\\u003cbr\\u003e 'system': 'urn:ietf:bcp:47'}\\u003cbr\\u003e\\u003ci\\u003epred: \\u003c\\u002fi\\u003e{'code': 'en-US',\\u003cbr\\u003e 'display': 'English (United States)',\\u003cbr\\u003e 'system': 'urn:ietf:bcp:47'}\",\"n_leaves=1 n_additions=0 n_deletions=0 n_modifications=0 n_matches=1 is_valid=None accuracy=1.0 precision=1.0 recall=1.0\\u003cbr\\u003e\\u003ci\\u003etrue: \\u003c\\u002fi\\u003e'en-US'\\u003cbr\\u003e\\u003ci\\u003epred: \\u003c\\u002fi\\u003e'en-US'\",\"n_leaves=1 n_additions=0 n_deletions=0 n_modifications=0 n_matches=1 is_valid=None accuracy=1.0 precision=1.0 recall=1.0\\u003cbr\\u003e\\u003ci\\u003etrue: \\u003c\\u002fi\\u003e'English (United States)'\\u003cbr\\u003e\\u003ci\\u003epred: \\u003c\\u002fi\\u003e'English (United States)'\",\"n_leaves=1 n_additions=0 n_deletions=0 n_modifications=0 n_matches=1 is_valid=None accuracy=1.0 precision=1.0 recall=1.0\\u003cbr\\u003e\\u003ci\\u003etrue: \\u003c\\u002fi\\u003e'urn:ietf:bcp:47'\\u003cbr\\u003e\\u003ci\\u003epred: \\u003c\\u002fi\\u003e'urn:ietf:bcp:47'\",\"n_leaves=1 n_additions=0 n_deletions=0 n_modifications=0 n_matches=1 is_valid=None accuracy=1.0 precision=1.0 recall=1.0\\u003cbr\\u003e\\u003ci\\u003etrue: \\u003c\\u002fi\\u003e'English (United States)'\\u003cbr\\u003e\\u003ci\\u003epred: \\u003c\\u002fi\\u003e'English (United States)'\",\"n_leaves=1 n_additions=0 n_deletions=0 n_modifications=0 n_matches=1 is_valid=None accuracy=1.0 precision=1.0 recall=1.0\\u003cbr\\u003e\\u003ci\\u003etrue: \\u003c\\u002fi\\u003e'male'\\u003cbr\\u003e\\u003ci\\u003epred: \\u003c\\u002fi\\u003e'male'\",\"n_leaves=4 n_additions=0 n_deletions=0 n_modifications=0 n_matches=4 is_valid=None accuracy=1.0 precision=1.0 recall=1.0\\u003cbr\\u003e\\u003ci\\u003etrue: \\u003c\\u002fi\\u003e{'family': 'Olson',\\u003cbr\\u003e\\u003ci\\u003e...3 lines...\\u003c\\u002fi\\u003e\\u003cbr\\u003e 'use': 'official'}\\u003cbr\\u003e\\u003ci\\u003epred: \\u003c\\u002fi\\u003e{'family': 'Olson', 'given': [...], 'prefix': [...], 'use': 'official'}\",\"n_leaves=1 n_additions=0 n_deletions=0 n_modifications=0 n_matches=1 is_valid=None accuracy=1.0 precision=1.0 recall=1.0\\u003cbr\\u003e\\u003ci\\u003etrue: \\u003c\\u002fi\\u003e'Olson'\\u003cbr\\u003e\\u003ci\\u003epred: \\u003c\\u002fi\\u003e'Olson'\",\"n_leaves=1 n_additions=0 n_deletions=0 n_modifications=0 n_matches=1 is_valid=None accuracy=1.0 precision=1.0 recall=1.0\\u003cbr\\u003e\\u003ci\\u003etrue: \\u003c\\u002fi\\u003e'Chase'\\u003cbr\\u003e\\u003ci\\u003epred: \\u003c\\u002fi\\u003e'Chase'\",\"n_leaves=1 n_additions=0 n_deletions=0 n_modifications=0 n_matches=1 is_valid=None accuracy=1.0 precision=1.0 recall=1.0\\u003cbr\\u003e\\u003ci\\u003etrue: \\u003c\\u002fi\\u003e'Mr.'\\u003cbr\\u003e\\u003ci\\u003epred: \\u003c\\u002fi\\u003e'Mr.'\",\"n_leaves=1 n_additions=0 n_deletions=0 n_modifications=0 n_matches=1 is_valid=None accuracy=1.0 precision=1.0 recall=1.0\\u003cbr\\u003e\\u003ci\\u003etrue: \\u003c\\u002fi\\u003e'official'\\u003cbr\\u003e\\u003ci\\u003epred: \\u003c\\u002fi\\u003e'official'\",\"n_leaves=3 n_additions=0 n_deletions=0 n_modifications=0 n_matches=3 is_valid=None accuracy=1.0 precision=1.0 recall=1.0\\u003cbr\\u003e\\u003ci\\u003etrue: \\u003c\\u002fi\\u003e{'resourceType': {}, 'system': 'phone', 'use': 'home', 'value': '555-770-7639'}\\u003cbr\\u003e\\u003ci\\u003epred: \\u003c\\u002fi\\u003e{'system': 'phone', 'use': 'home', 'value': '555-770-7639'}\",\"n_leaves=1 n_additions=0 n_deletions=0 n_modifications=0 n_matches=1 is_valid=None accuracy=1.0 precision=1.0 recall=1.0\\u003cbr\\u003e\\u003ci\\u003etrue: \\u003c\\u002fi\\u003e'phone'\\u003cbr\\u003e\\u003ci\\u003epred: \\u003c\\u002fi\\u003e'phone'\",\"n_leaves=1 n_additions=0 n_deletions=0 n_modifications=0 n_matches=1 is_valid=None accuracy=1.0 precision=1.0 recall=1.0\\u003cbr\\u003e\\u003ci\\u003etrue: \\u003c\\u002fi\\u003e'home'\\u003cbr\\u003e\\u003ci\\u003epred: \\u003c\\u002fi\\u003e'home'\",\"n_leaves=1 n_additions=0 n_deletions=0 n_modifications=0 n_matches=1 is_valid=None accuracy=1.0 precision=1.0 recall=1.0\\u003cbr\\u003e\\u003ci\\u003etrue: \\u003c\\u002fi\\u003e'555-770-7639'\\u003cbr\\u003e\\u003ci\\u003epred: \\u003c\\u002fi\\u003e'555-770-7639'\",\"n_leaves=10 n_additions=0 n_deletions=4 n_modifications=0 n_matches=6 is_valid=None accuracy=0.6 precision=1.0 recall=0.6\\u003cbr\\u003e\\u003ci\\u003etrue: \\u003c\\u002fi\\u003e{'resource': {...}, 'resourceType': {}}\\u003cbr\\u003e\\u003ci\\u003epred: \\u003c\\u002fi\\u003e{'resource': {...}}\",\"n_leaves=10 n_additions=0 n_deletions=4 n_modifications=0 n_matches=6 is_valid=None accuracy=0.6 precision=1.0 recall=0.6\\u003cbr\\u003e\\u003ci\\u003etrue: \\u003c\\u002fi\\u003e{'category': [...],\\u003cbr\\u003e\\u003ci\\u003e...8 lines...\\u003c\\u002fi\\u003e\\u003cbr\\u003e 'verificationStatus': {...}}\\u003cbr\\u003e\\u003ci\\u003epred: \\u003c\\u002fi\\u003e{'category': [...],\\u003cbr\\u003e\\u003ci\\u003e...5 lines...\\u003c\\u002fi\\u003e\\u003cbr\\u003e 'verificationStatus': {...}}\",\"n_leaves=0 n_additions=0 n_deletions=0 n_modifications=0 n_matches=0 is_valid=None accuracy=None precision=None recall=None\\u003cbr\\u003e\\u003ci\\u003etrue: \\u003c\\u002fi\\u003e'1'\\u003cbr\\u003e\\u003ci\\u003epred: \\u003c\\u002fi\\u003e'1'\",\"n_leaves=1 n_additions=0 n_deletions=0 n_modifications=0 n_matches=1 is_valid=None accuracy=1.0 precision=1.0 recall=1.0\\u003cbr\\u003e\\u003ci\\u003etrue: \\u003c\\u002fi\\u003e'environment'\\u003cbr\\u003e\\u003ci\\u003epred: \\u003c\\u002fi\\u003e'environment'\",\"n_leaves=2 n_additions=0 n_deletions=0 n_modifications=0 n_matches=2 is_valid=None accuracy=1.0 precision=1.0 recall=1.0\\u003cbr\\u003e\\u003ci\\u003etrue: \\u003c\\u002fi\\u003e{'coding': [...], 'resourceType': {}}\\u003cbr\\u003e\\u003ci\\u003epred: \\u003c\\u002fi\\u003e{'coding': [...]}\",\"n_leaves=2 n_additions=0 n_deletions=0 n_modifications=0 n_matches=2 is_valid=None accuracy=1.0 precision=1.0 recall=1.0\\u003cbr\\u003e\\u003ci\\u003etrue: \\u003c\\u002fi\\u003e{'code': 'active',\\u003cbr\\u003e 'resourceType': {},\\u003cbr\\u003e 'system': 'http:\\u002f\\u002fterminology.hl7.org\\u002fCodeSystem\\u002fallergyintolerance-clinical'}\\u003cbr\\u003e\\u003ci\\u003epred: \\u003c\\u002fi\\u003e{'code': 'active',\\u003cbr\\u003e 'system': 'http:\\u002f\\u002fterminology.hl7.org\\u002fCodeSystem\\u002fallergyintolerance-clinical'}\",\"n_leaves=1 n_additions=0 n_deletions=0 n_modifications=0 n_matches=1 is_valid=None accuracy=1.0 precision=1.0 recall=1.0\\u003cbr\\u003e\\u003ci\\u003etrue: \\u003c\\u002fi\\u003e'active'\\u003cbr\\u003e\\u003ci\\u003epred: \\u003c\\u002fi\\u003e'active'\",\"n_leaves=1 n_additions=0 n_deletions=0 n_modifications=0 n_matches=1 is_valid=None accuracy=1.0 precision=1.0 recall=1.0\\u003cbr\\u003e\\u003ci\\u003etrue: \\u003c\\u002fi\\u003e'http:\\u002f\\u002fterminology.hl7.org\\u002fCodeSystem\\u002fallergyintolerance-clinical'\\u003cbr\\u003e\\u003ci\\u003epred: \\u003c\\u002fi\\u003e'http:\\u002f\\u002fterminology.hl7.org\\u002fCodeSystem\\u002fallergyintolerance-clinical'\",\"n_leaves=4 n_additions=0 n_deletions=4 n_modifications=0 n_matches=0 is_valid=None accuracy=0.0 precision=None recall=0.0\\u003cbr\\u003e\\u003ci\\u003etrue: \\u003c\\u002fi\\u003e{'coding': [...], 'resourceType': {}, 'text': 'Allergy to substance (finding)'}\\u003cbr\\u003e\\u003ci\\u003epred: \\u003c\\u002fi\\u003e{'coding': [], 'text': {}}\",\"n_leaves=3 n_additions=0 n_deletions=3 n_modifications=0 n_matches=0 is_valid=None accuracy=0.0 precision=None recall=0.0\\u003cbr\\u003e\\u003ci\\u003etrue: \\u003c\\u002fi\\u003e{'code': '419199007',\\u003cbr\\u003e\\u003ci\\u003e...2 lines...\\u003c\\u002fi\\u003e\\u003cbr\\u003e 'system': 'http:\\u002f\\u002fsnomed.info\\u002fsct'}\\u003cbr\\u003e\\u003ci\\u003epred: \\u003c\\u002fi\\u003e{'code': {}, 'display': {}, 'system': {}}\",\"n_leaves=1 n_additions=0 n_deletions=1 n_modifications=0 n_matches=0 is_valid=None accuracy=0.0 precision=None recall=0.0\\u003cbr\\u003e\\u003ci\\u003etrue: \\u003c\\u002fi\\u003e'419199007'\\u003cbr\\u003e\\u003ci\\u003epred: \\u003c\\u002fi\\u003e{}\",\"n_leaves=1 n_additions=0 n_deletions=1 n_modifications=0 n_matches=0 is_valid=None accuracy=0.0 precision=None recall=0.0\\u003cbr\\u003e\\u003ci\\u003etrue: \\u003c\\u002fi\\u003e'Allergy to substance (finding)'\\u003cbr\\u003e\\u003ci\\u003epred: \\u003c\\u002fi\\u003e{}\",\"n_leaves=1 n_additions=0 n_deletions=1 n_modifications=0 n_matches=0 is_valid=None accuracy=0.0 precision=None recall=0.0\\u003cbr\\u003e\\u003ci\\u003etrue: \\u003c\\u002fi\\u003e'http:\\u002f\\u002fsnomed.info\\u002fsct'\\u003cbr\\u003e\\u003ci\\u003epred: \\u003c\\u002fi\\u003e{}\",\"n_leaves=1 n_additions=0 n_deletions=1 n_modifications=0 n_matches=0 is_valid=None accuracy=0.0 precision=None recall=0.0\\u003cbr\\u003e\\u003ci\\u003etrue: \\u003c\\u002fi\\u003e'Allergy to substance (finding)'\\u003cbr\\u003e\\u003ci\\u003epred: \\u003c\\u002fi\\u003e{}\",\"n_leaves=1 n_additions=0 n_deletions=0 n_modifications=0 n_matches=1 is_valid=None accuracy=1.0 precision=1.0 recall=1.0\\u003cbr\\u003e\\u003ci\\u003etrue: \\u003c\\u002fi\\u003e{'reference': 'Patient\\u002f1', 'resourceType': {}}\\u003cbr\\u003e\\u003ci\\u003epred: \\u003c\\u002fi\\u003e{'reference': 'Patient\\u002f1'}\",\"n_leaves=1 n_additions=0 n_deletions=0 n_modifications=0 n_matches=1 is_valid=None accuracy=1.0 precision=1.0 recall=1.0\\u003cbr\\u003e\\u003ci\\u003etrue: \\u003c\\u002fi\\u003e'Patient\\u002f1'\\u003cbr\\u003e\\u003ci\\u003epred: \\u003c\\u002fi\\u003e'Patient\\u002f1'\",\"n_leaves=2 n_additions=0 n_deletions=0 n_modifications=0 n_matches=2 is_valid=None accuracy=1.0 precision=1.0 recall=1.0\\u003cbr\\u003e\\u003ci\\u003etrue: \\u003c\\u002fi\\u003e{'coding': [...], 'resourceType': {}}\\u003cbr\\u003e\\u003ci\\u003epred: \\u003c\\u002fi\\u003e{'coding': [...]}\",\"n_leaves=2 n_additions=0 n_deletions=0 n_modifications=0 n_matches=2 is_valid=None accuracy=1.0 precision=1.0 recall=1.0\\u003cbr\\u003e\\u003ci\\u003etrue: \\u003c\\u002fi\\u003e{'code': 'confirmed',\\u003cbr\\u003e 'resourceType': {},\\u003cbr\\u003e 'system': 'http:\\u002f\\u002fterminology.hl7.org\\u002fCodeSystem\\u002fallergyintolerance-verification'}\\u003cbr\\u003e\\u003ci\\u003epred: \\u003c\\u002fi\\u003e{'code': 'confirmed',\\u003cbr\\u003e 'system': 'http:\\u002f\\u002fterminology.hl7.org\\u002fCodeSystem\\u002fallergyintolerance-verification'}\",\"n_leaves=1 n_additions=0 n_deletions=0 n_modifications=0 n_matches=1 is_valid=None accuracy=1.0 precision=1.0 recall=1.0\\u003cbr\\u003e\\u003ci\\u003etrue: \\u003c\\u002fi\\u003e'confirmed'\\u003cbr\\u003e\\u003ci\\u003epred: \\u003c\\u002fi\\u003e'confirmed'\",\"n_leaves=1 n_additions=0 n_deletions=0 n_modifications=0 n_matches=1 is_valid=None accuracy=1.0 precision=1.0 recall=1.0\\u003cbr\\u003e\\u003ci\\u003etrue: \\u003c\\u002fi\\u003e'http:\\u002f\\u002fterminology.hl7.org\\u002fCodeSystem\\u002fallergyintolerance-verification'\\u003cbr\\u003e\\u003ci\\u003epred: \\u003c\\u002fi\\u003e'http:\\u002f\\u002fterminology.hl7.org\\u002fCodeSystem\\u002fallergyintolerance-verification'\",\"n_leaves=1 n_additions=0 n_deletions=0 n_modifications=0 n_matches=1 is_valid=None accuracy=1.0 precision=1.0 recall=1.0\\u003cbr\\u003e\\u003ci\\u003etrue: \\u003c\\u002fi\\u003e'collection'\\u003cbr\\u003e\\u003ci\\u003epred: \\u003c\\u002fi\\u003e'collection'\"],\"labels\":[\"Bundle\",\"Bundle.id\",\"Bundle.entry.0\",\"Bundle.entry.0.Encounter\",\"Bundle.entry.0.Encounter.id\",\"Bundle.entry.0.Encounter.class\",\"Bundle.entry.0.Encounter.class.code\",\"Bundle.entry.0.Encounter.class.system\",\"Bundle.entry.0.Encounter.participant.0\",\"Bundle.entry.0.Encounter.participant.0.individual\",\"Bundle.entry.0.Encounter.participant.0.individual.display\",\"Bundle.entry.0.Encounter.participant.0.individual.reference\",\"Bundle.entry.0.Encounter.participant.0.period\",\"Bundle.entry.0.Encounter.participant.0.period.end\",\"Bundle.entry.0.Encounter.participant.0.period.start\",\"Bundle.entry.0.Encounter.participant.0.type.0\",\"Bundle.entry.0.Encounter.participant.0.type.0.coding.0\",\"Bundle.entry.0.Encounter.participant.0.type.0.coding.0.code\",\"Bundle.entry.0.Encounter.participant.0.type.0.coding.0.display\",\"Bundle.entry.0.Encounter.participant.0.type.0.coding.0.system\",\"Bundle.entry.0.Encounter.participant.0.type.0.text\",\"Bundle.entry.0.Encounter.period\",\"Bundle.entry.0.Encounter.period.end\",\"Bundle.entry.0.Encounter.period.start\",\"Bundle.entry.0.Encounter.status\",\"Bundle.entry.0.Encounter.subject\",\"Bundle.entry.0.Encounter.subject.display\",\"Bundle.entry.0.Encounter.subject.reference\",\"Bundle.entry.1\",\"Bundle.entry.1.Patient\",\"Bundle.entry.1.Patient.id\",\"Bundle.entry.1.Patient.address.0\",\"Bundle.entry.1.Patient.address.0.city\",\"Bundle.entry.1.Patient.address.0.country\",\"Bundle.entry.1.Patient.address.0.line.0\",\"Bundle.entry.1.Patient.address.0.postalCode\",\"Bundle.entry.1.Patient.address.0.state\",\"Bundle.entry.1.Patient.birthDate\",\"Bundle.entry.1.Patient.communication.0\",\"Bundle.entry.1.Patient.communication.0.language\",\"Bundle.entry.1.Patient.communication.0.language.coding.0\",\"Bundle.entry.1.Patient.communication.0.language.coding.0.code\",\"Bundle.entry.1.Patient.communication.0.language.coding.0.display\",\"Bundle.entry.1.Patient.communication.0.language.coding.0.system\",\"Bundle.entry.1.Patient.communication.0.language.text\",\"Bundle.entry.1.Patient.gender\",\"Bundle.entry.1.Patient.name.0\",\"Bundle.entry.1.Patient.name.0.family\",\"Bundle.entry.1.Patient.name.0.given.0\",\"Bundle.entry.1.Patient.name.0.prefix.0\",\"Bundle.entry.1.Patient.name.0.use\",\"Bundle.entry.1.Patient.telecom.0\",\"Bundle.entry.1.Patient.telecom.0.system\",\"Bundle.entry.1.Patient.telecom.0.use\",\"Bundle.entry.1.Patient.telecom.0.value\",\"Bundle.entry.2\",\"Bundle.entry.2.AllergyIntolerance\",\"Bundle.entry.2.AllergyIntolerance.id\",\"Bundle.entry.2.AllergyIntolerance.category.0\",\"Bundle.entry.2.AllergyIntolerance.clinicalStatus\",\"Bundle.entry.2.AllergyIntolerance.clinicalStatus.coding.0\",\"Bundle.entry.2.AllergyIntolerance.clinicalStatus.coding.0.code\",\"Bundle.entry.2.AllergyIntolerance.clinicalStatus.coding.0.system\",\"Bundle.entry.2.AllergyIntolerance.code\",\"Bundle.entry.2.AllergyIntolerance.code.coding.0\",\"Bundle.entry.2.AllergyIntolerance.code.coding.0.code\",\"Bundle.entry.2.AllergyIntolerance.code.coding.0.display\",\"Bundle.entry.2.AllergyIntolerance.code.coding.0.system\",\"Bundle.entry.2.AllergyIntolerance.code.text\",\"Bundle.entry.2.AllergyIntolerance.patient\",\"Bundle.entry.2.AllergyIntolerance.patient.reference\",\"Bundle.entry.2.AllergyIntolerance.verificationStatus\",\"Bundle.entry.2.AllergyIntolerance.verificationStatus.coding.0\",\"Bundle.entry.2.AllergyIntolerance.verificationStatus.coding.0.code\",\"Bundle.entry.2.AllergyIntolerance.verificationStatus.coding.0.system\",\"Bundle.type\"],\"marker\":{\"cmid\":0.5,\"colors\":[0.7272727272727273,null,0.4666666666666667,0.4666666666666667,null,1.0,1.0,1.0,0.25,1.0,1.0,1.0,0.0,0.0,0.0,0.0,0.0,0.0,0.0,0.0,0.0,0.0,0.0,0.0,1.0,1.0,1.0,1.0,1.0,1.0,null,1.0,1.0,1.0,1.0,1.0,1.0,1.0,1.0,1.0,1.0,1.0,1.0,1.0,1.0,1.0,1.0,1.0,1.0,1.0,1.0,1.0,1.0,1.0,1.0,0.6,0.6,null,1.0,1.0,1.0,1.0,1.0,0.0,0.0,0.0,0.0,0.0,0.0,1.0,1.0,1.0,1.0,1.0,1.0,1.0],\"colorscale\":[[0.0,\"rgb(103,0,31)\"],[0.1,\"rgb(178,24,43)\"],[0.2,\"rgb(214,96,77)\"],[0.3,\"rgb(244,165,130)\"],[0.4,\"rgb(253,219,199)\"],[0.5,\"rgb(247,247,247)\"],[0.6,\"rgb(209,229,240)\"],[0.7,\"rgb(146,197,222)\"],[0.8,\"rgb(67,147,195)\"],[0.9,\"rgb(33,102,172)\"],[1.0,\"rgb(5,48,97)\"]],\"cornerradius\":5},\"parents\":[\"\",\"Bundle\",\"Bundle\",\"Bundle.entry.0\",\"Bundle.entry.0.Encounter\",\"Bundle.entry.0.Encounter\",\"Bundle.entry.0.Encounter.class\",\"Bundle.entry.0.Encounter.class\",\"Bundle.entry.0.Encounter\",\"Bundle.entry.0.Encounter.participant.0\",\"Bundle.entry.0.Encounter.participant.0.individual\",\"Bundle.entry.0.Encounter.participant.0.individual\",\"Bundle.entry.0.Encounter.participant.0\",\"Bundle.entry.0.Encounter.participant.0.period\",\"Bundle.entry.0.Encounter.participant.0.period\",\"Bundle.entry.0.Encounter.participant.0\",\"Bundle.entry.0.Encounter.participant.0.type.0\",\"Bundle.entry.0.Encounter.participant.0.type.0.coding.0\",\"Bundle.entry.0.Encounter.participant.0.type.0.coding.0\",\"Bundle.entry.0.Encounter.participant.0.type.0.coding.0\",\"Bundle.entry.0.Encounter.participant.0.type.0\",\"Bundle.entry.0.Encounter\",\"Bundle.entry.0.Encounter.period\",\"Bundle.entry.0.Encounter.period\",\"Bundle.entry.0.Encounter\",\"Bundle.entry.0.Encounter\",\"Bundle.entry.0.Encounter.subject\",\"Bundle.entry.0.Encounter.subject\",\"Bundle\",\"Bundle.entry.1\",\"Bundle.entry.1.Patient\",\"Bundle.entry.1.Patient\",\"Bundle.entry.1.Patient.address.0\",\"Bundle.entry.1.Patient.address.0\",\"Bundle.entry.1.Patient.address.0\",\"Bundle.entry.1.Patient.address.0\",\"Bundle.entry.1.Patient.address.0\",\"Bundle.entry.1.Patient\",\"Bundle.entry.1.Patient\",\"Bundle.entry.1.Patient.communication.0\",\"Bundle.entry.1.Patient.communication.0.language\",\"Bundle.entry.1.Patient.communication.0.language.coding.0\",\"Bundle.entry.1.Patient.communication.0.language.coding.0\",\"Bundle.entry.1.Patient.communication.0.language.coding.0\",\"Bundle.entry.1.Patient.communication.0.language\",\"Bundle.entry.1.Patient\",\"Bundle.entry.1.Patient\",\"Bundle.entry.1.Patient.name.0\",\"Bundle.entry.1.Patient.name.0\",\"Bundle.entry.1.Patient.name.0\",\"Bundle.entry.1.Patient.name.0\",\"Bundle.entry.1.Patient\",\"Bundle.entry.1.Patient.telecom.0\",\"Bundle.entry.1.Patient.telecom.0\",\"Bundle.entry.1.Patient.telecom.0\",\"Bundle\",\"Bundle.entry.2\",\"Bundle.entry.2.AllergyIntolerance\",\"Bundle.entry.2.AllergyIntolerance\",\"Bundle.entry.2.AllergyIntolerance\",\"Bundle.entry.2.AllergyIntolerance.clinicalStatus\",\"Bundle.entry.2.AllergyIntolerance.clinicalStatus.coding.0\",\"Bundle.entry.2.AllergyIntolerance.clinicalStatus.coding.0\",\"Bundle.entry.2.AllergyIntolerance\",\"Bundle.entry.2.AllergyIntolerance.code\",\"Bundle.entry.2.AllergyIntolerance.code.coding.0\",\"Bundle.entry.2.AllergyIntolerance.code.coding.0\",\"Bundle.entry.2.AllergyIntolerance.code.coding.0\",\"Bundle.entry.2.AllergyIntolerance.code\",\"Bundle.entry.2.AllergyIntolerance\",\"Bundle.entry.2.AllergyIntolerance.patient\",\"Bundle.entry.2.AllergyIntolerance\",\"Bundle.entry.2.AllergyIntolerance.verificationStatus\",\"Bundle.entry.2.AllergyIntolerance.verificationStatus.coding.0\",\"Bundle.entry.2.AllergyIntolerance.verificationStatus.coding.0\",\"Bundle\"],\"text\":[\"Bundle\",\"id\",[\"entry\",\"0\"],\"Encounter\",\"id\",\"class\",\"code\",\"system\",[\"participant\",\"0\"],\"individual\",\"display\",\"reference\",\"period\",\"end\",\"start\",[\"type\",\"0\"],[\"coding\",\"0\"],\"code\",\"display\",\"system\",\"text\",\"period\",\"end\",\"start\",\"status\",\"subject\",\"display\",\"reference\",[\"entry\",\"1\"],\"Patient\",\"id\",[\"address\",\"0\"],\"city\",\"country\",[\"line\",\"0\"],\"postalCode\",\"state\",\"birthDate\",[\"communication\",\"0\"],\"language\",[\"coding\",\"0\"],\"code\",\"display\",\"system\",\"text\",\"gender\",[\"name\",\"0\"],\"family\",[\"given\",\"0\"],[\"prefix\",\"0\"],\"use\",[\"telecom\",\"0\"],\"system\",\"use\",\"value\",[\"entry\",\"2\"],\"AllergyIntolerance\",\"id\",[\"category\",\"0\"],\"clinicalStatus\",[\"coding\",\"0\"],\"code\",\"system\",\"code\",[\"coding\",\"0\"],\"code\",\"display\",\"system\",\"text\",\"patient\",\"reference\",\"verificationStatus\",[\"coding\",\"0\"],\"code\",\"system\",\"type\"],\"textinfo\":\"text\",\"values\":[11,10,9,8,7,7,6,6,6,5,4,4,5,4,4,4,2,1,1,1,3,7,6,6,7,7,6,6,9,8,7,6,5,5,4,5,5,7,6,5,3,2,2,2,4,7,6,5,4,4,5,6,5,5,5,9,8,7,6,7,5,4,4,7,5,4,4,4,6,7,6,7,5,4,4,10],\"type\":\"treemap\"}],                        {\"template\":{\"data\":{\"histogram2dcontour\":[{\"type\":\"histogram2dcontour\",\"colorbar\":{\"outlinewidth\":0,\"ticks\":\"\"},\"colorscale\":[[0.0,\"#0d0887\"],[0.1111111111111111,\"#46039f\"],[0.2222222222222222,\"#7201a8\"],[0.3333333333333333,\"#9c179e\"],[0.4444444444444444,\"#bd3786\"],[0.5555555555555556,\"#d8576b\"],[0.6666666666666666,\"#ed7953\"],[0.7777777777777778,\"#fb9f3a\"],[0.8888888888888888,\"#fdca26\"],[1.0,\"#f0f921\"]]}],\"choropleth\":[{\"type\":\"choropleth\",\"colorbar\":{\"outlinewidth\":0,\"ticks\":\"\"}}],\"histogram2d\":[{\"type\":\"histogram2d\",\"colorbar\":{\"outlinewidth\":0,\"ticks\":\"\"},\"colorscale\":[[0.0,\"#0d0887\"],[0.1111111111111111,\"#46039f\"],[0.2222222222222222,\"#7201a8\"],[0.3333333333333333,\"#9c179e\"],[0.4444444444444444,\"#bd3786\"],[0.5555555555555556,\"#d8576b\"],[0.6666666666666666,\"#ed7953\"],[0.7777777777777778,\"#fb9f3a\"],[0.8888888888888888,\"#fdca26\"],[1.0,\"#f0f921\"]]}],\"heatmap\":[{\"type\":\"heatmap\",\"colorbar\":{\"outlinewidth\":0,\"ticks\":\"\"},\"colorscale\":[[0.0,\"#0d0887\"],[0.1111111111111111,\"#46039f\"],[0.2222222222222222,\"#7201a8\"],[0.3333333333333333,\"#9c179e\"],[0.4444444444444444,\"#bd3786\"],[0.5555555555555556,\"#d8576b\"],[0.6666666666666666,\"#ed7953\"],[0.7777777777777778,\"#fb9f3a\"],[0.8888888888888888,\"#fdca26\"],[1.0,\"#f0f921\"]]}],\"heatmapgl\":[{\"type\":\"heatmapgl\",\"colorbar\":{\"outlinewidth\":0,\"ticks\":\"\"},\"colorscale\":[[0.0,\"#0d0887\"],[0.1111111111111111,\"#46039f\"],[0.2222222222222222,\"#7201a8\"],[0.3333333333333333,\"#9c179e\"],[0.4444444444444444,\"#bd3786\"],[0.5555555555555556,\"#d8576b\"],[0.6666666666666666,\"#ed7953\"],[0.7777777777777778,\"#fb9f3a\"],[0.8888888888888888,\"#fdca26\"],[1.0,\"#f0f921\"]]}],\"contourcarpet\":[{\"type\":\"contourcarpet\",\"colorbar\":{\"outlinewidth\":0,\"ticks\":\"\"}}],\"contour\":[{\"type\":\"contour\",\"colorbar\":{\"outlinewidth\":0,\"ticks\":\"\"},\"colorscale\":[[0.0,\"#0d0887\"],[0.1111111111111111,\"#46039f\"],[0.2222222222222222,\"#7201a8\"],[0.3333333333333333,\"#9c179e\"],[0.4444444444444444,\"#bd3786\"],[0.5555555555555556,\"#d8576b\"],[0.6666666666666666,\"#ed7953\"],[0.7777777777777778,\"#fb9f3a\"],[0.8888888888888888,\"#fdca26\"],[1.0,\"#f0f921\"]]}],\"surface\":[{\"type\":\"surface\",\"colorbar\":{\"outlinewidth\":0,\"ticks\":\"\"},\"colorscale\":[[0.0,\"#0d0887\"],[0.1111111111111111,\"#46039f\"],[0.2222222222222222,\"#7201a8\"],[0.3333333333333333,\"#9c179e\"],[0.4444444444444444,\"#bd3786\"],[0.5555555555555556,\"#d8576b\"],[0.6666666666666666,\"#ed7953\"],[0.7777777777777778,\"#fb9f3a\"],[0.8888888888888888,\"#fdca26\"],[1.0,\"#f0f921\"]]}],\"mesh3d\":[{\"type\":\"mesh3d\",\"colorbar\":{\"outlinewidth\":0,\"ticks\":\"\"}}],\"scatter\":[{\"fillpattern\":{\"fillmode\":\"overlay\",\"size\":10,\"solidity\":0.2},\"type\":\"scatter\"}],\"parcoords\":[{\"type\":\"parcoords\",\"line\":{\"colorbar\":{\"outlinewidth\":0,\"ticks\":\"\"}}}],\"scatterpolargl\":[{\"type\":\"scatterpolargl\",\"marker\":{\"colorbar\":{\"outlinewidth\":0,\"ticks\":\"\"}}}],\"bar\":[{\"error_x\":{\"color\":\"#2a3f5f\"},\"error_y\":{\"color\":\"#2a3f5f\"},\"marker\":{\"line\":{\"color\":\"#E5ECF6\",\"width\":0.5},\"pattern\":{\"fillmode\":\"overlay\",\"size\":10,\"solidity\":0.2}},\"type\":\"bar\"}],\"scattergeo\":[{\"type\":\"scattergeo\",\"marker\":{\"colorbar\":{\"outlinewidth\":0,\"ticks\":\"\"}}}],\"scatterpolar\":[{\"type\":\"scatterpolar\",\"marker\":{\"colorbar\":{\"outlinewidth\":0,\"ticks\":\"\"}}}],\"histogram\":[{\"marker\":{\"pattern\":{\"fillmode\":\"overlay\",\"size\":10,\"solidity\":0.2}},\"type\":\"histogram\"}],\"scattergl\":[{\"type\":\"scattergl\",\"marker\":{\"colorbar\":{\"outlinewidth\":0,\"ticks\":\"\"}}}],\"scatter3d\":[{\"type\":\"scatter3d\",\"line\":{\"colorbar\":{\"outlinewidth\":0,\"ticks\":\"\"}},\"marker\":{\"colorbar\":{\"outlinewidth\":0,\"ticks\":\"\"}}}],\"scattermapbox\":[{\"type\":\"scattermapbox\",\"marker\":{\"colorbar\":{\"outlinewidth\":0,\"ticks\":\"\"}}}],\"scatterternary\":[{\"type\":\"scatterternary\",\"marker\":{\"colorbar\":{\"outlinewidth\":0,\"ticks\":\"\"}}}],\"scattercarpet\":[{\"type\":\"scattercarpet\",\"marker\":{\"colorbar\":{\"outlinewidth\":0,\"ticks\":\"\"}}}],\"carpet\":[{\"aaxis\":{\"endlinecolor\":\"#2a3f5f\",\"gridcolor\":\"white\",\"linecolor\":\"white\",\"minorgridcolor\":\"white\",\"startlinecolor\":\"#2a3f5f\"},\"baxis\":{\"endlinecolor\":\"#2a3f5f\",\"gridcolor\":\"white\",\"linecolor\":\"white\",\"minorgridcolor\":\"white\",\"startlinecolor\":\"#2a3f5f\"},\"type\":\"carpet\"}],\"table\":[{\"cells\":{\"fill\":{\"color\":\"#EBF0F8\"},\"line\":{\"color\":\"white\"}},\"header\":{\"fill\":{\"color\":\"#C8D4E3\"},\"line\":{\"color\":\"white\"}},\"type\":\"table\"}],\"barpolar\":[{\"marker\":{\"line\":{\"color\":\"#E5ECF6\",\"width\":0.5},\"pattern\":{\"fillmode\":\"overlay\",\"size\":10,\"solidity\":0.2}},\"type\":\"barpolar\"}],\"pie\":[{\"automargin\":true,\"type\":\"pie\"}]},\"layout\":{\"autotypenumbers\":\"strict\",\"colorway\":[\"#636efa\",\"#EF553B\",\"#00cc96\",\"#ab63fa\",\"#FFA15A\",\"#19d3f3\",\"#FF6692\",\"#B6E880\",\"#FF97FF\",\"#FECB52\"],\"font\":{\"color\":\"#2a3f5f\"},\"hovermode\":\"closest\",\"hoverlabel\":{\"align\":\"left\"},\"paper_bgcolor\":\"white\",\"plot_bgcolor\":\"#E5ECF6\",\"polar\":{\"bgcolor\":\"#E5ECF6\",\"angularaxis\":{\"gridcolor\":\"white\",\"linecolor\":\"white\",\"ticks\":\"\"},\"radialaxis\":{\"gridcolor\":\"white\",\"linecolor\":\"white\",\"ticks\":\"\"}},\"ternary\":{\"bgcolor\":\"#E5ECF6\",\"aaxis\":{\"gridcolor\":\"white\",\"linecolor\":\"white\",\"ticks\":\"\"},\"baxis\":{\"gridcolor\":\"white\",\"linecolor\":\"white\",\"ticks\":\"\"},\"caxis\":{\"gridcolor\":\"white\",\"linecolor\":\"white\",\"ticks\":\"\"}},\"coloraxis\":{\"colorbar\":{\"outlinewidth\":0,\"ticks\":\"\"}},\"colorscale\":{\"sequential\":[[0.0,\"#0d0887\"],[0.1111111111111111,\"#46039f\"],[0.2222222222222222,\"#7201a8\"],[0.3333333333333333,\"#9c179e\"],[0.4444444444444444,\"#bd3786\"],[0.5555555555555556,\"#d8576b\"],[0.6666666666666666,\"#ed7953\"],[0.7777777777777778,\"#fb9f3a\"],[0.8888888888888888,\"#fdca26\"],[1.0,\"#f0f921\"]],\"sequentialminus\":[[0.0,\"#0d0887\"],[0.1111111111111111,\"#46039f\"],[0.2222222222222222,\"#7201a8\"],[0.3333333333333333,\"#9c179e\"],[0.4444444444444444,\"#bd3786\"],[0.5555555555555556,\"#d8576b\"],[0.6666666666666666,\"#ed7953\"],[0.7777777777777778,\"#fb9f3a\"],[0.8888888888888888,\"#fdca26\"],[1.0,\"#f0f921\"]],\"diverging\":[[0,\"#8e0152\"],[0.1,\"#c51b7d\"],[0.2,\"#de77ae\"],[0.3,\"#f1b6da\"],[0.4,\"#fde0ef\"],[0.5,\"#f7f7f7\"],[0.6,\"#e6f5d0\"],[0.7,\"#b8e186\"],[0.8,\"#7fbc41\"],[0.9,\"#4d9221\"],[1,\"#276419\"]]},\"xaxis\":{\"gridcolor\":\"white\",\"linecolor\":\"white\",\"ticks\":\"\",\"title\":{\"standoff\":15},\"zerolinecolor\":\"white\",\"automargin\":true,\"zerolinewidth\":2},\"yaxis\":{\"gridcolor\":\"white\",\"linecolor\":\"white\",\"ticks\":\"\",\"title\":{\"standoff\":15},\"zerolinecolor\":\"white\",\"automargin\":true,\"zerolinewidth\":2},\"scene\":{\"xaxis\":{\"backgroundcolor\":\"#E5ECF6\",\"gridcolor\":\"white\",\"linecolor\":\"white\",\"showbackground\":true,\"ticks\":\"\",\"zerolinecolor\":\"white\",\"gridwidth\":2},\"yaxis\":{\"backgroundcolor\":\"#E5ECF6\",\"gridcolor\":\"white\",\"linecolor\":\"white\",\"showbackground\":true,\"ticks\":\"\",\"zerolinecolor\":\"white\",\"gridwidth\":2},\"zaxis\":{\"backgroundcolor\":\"#E5ECF6\",\"gridcolor\":\"white\",\"linecolor\":\"white\",\"showbackground\":true,\"ticks\":\"\",\"zerolinecolor\":\"white\",\"gridwidth\":2}},\"shapedefaults\":{\"line\":{\"color\":\"#2a3f5f\"}},\"annotationdefaults\":{\"arrowcolor\":\"#2a3f5f\",\"arrowhead\":0,\"arrowwidth\":1},\"geo\":{\"bgcolor\":\"white\",\"landcolor\":\"#E5ECF6\",\"subunitcolor\":\"white\",\"showland\":true,\"showlakes\":true,\"lakecolor\":\"white\"},\"title\":{\"x\":0.05},\"mapbox\":{\"style\":\"light\"}}},\"margin\":{\"t\":50,\"l\":25,\"r\":25,\"b\":25}},                        {\"responsive\": true}                    ).then(function(){\n",
              "                            \n",
              "var gd = document.getElementById('43daa314-ab5b-4bea-af62-ca0f88ee6bea');\n",
              "var x = new MutationObserver(function (mutations, observer) {{\n",
              "        var display = window.getComputedStyle(gd).display;\n",
              "        if (!display || display === 'none') {{\n",
              "            console.log([gd, 'removed!']);\n",
              "            Plotly.purge(gd);\n",
              "            observer.disconnect();\n",
              "        }}\n",
              "}});\n",
              "\n",
              "// Listen for the removal of the full notebook cells\n",
              "var notebookContainer = gd.closest('#notebook-container');\n",
              "if (notebookContainer) {{\n",
              "    x.observe(notebookContainer, {childList: true});\n",
              "}}\n",
              "\n",
              "// Listen for the clearing of the current output cell\n",
              "var outputEl = gd.closest('.output');\n",
              "if (outputEl) {{\n",
              "    x.observe(outputEl, {childList: true});\n",
              "}}\n",
              "\n",
              "                        })                };                            </script>        </div>\n",
              "</body>\n",
              "</html>"
            ]
          },
          "metadata": {}
        }
      ]
    },
    {
      "cell_type": "code",
      "source": [],
      "metadata": {
        "id": "MKh-rTMg1ewK"
      },
      "execution_count": null,
      "outputs": []
    }
  ]
}